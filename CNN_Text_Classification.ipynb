{
  "cells": [
    {
      "cell_type": "code",
      "execution_count": 2,
      "metadata": {
        "colab": {
          "base_uri": "https://localhost:8080/"
        },
        "id": "080d50fc",
        "outputId": "aec2389e-86aa-4dcf-e696-595356e5f001"
      },
      "outputs": [
        {
          "output_type": "stream",
          "name": "stdout",
          "text": [
            "Requirement already satisfied: portalocker in /usr/local/lib/python3.10/dist-packages (2.8.2)\n",
            "Requirement already satisfied: torchmetrics in /usr/local/lib/python3.10/dist-packages (1.2.0)\n",
            "Requirement already satisfied: numpy>1.20.0 in /usr/local/lib/python3.10/dist-packages (from torchmetrics) (1.23.5)\n",
            "Requirement already satisfied: torch>=1.8.1 in /usr/local/lib/python3.10/dist-packages (from torchmetrics) (2.1.0+cu118)\n",
            "Requirement already satisfied: lightning-utilities>=0.8.0 in /usr/local/lib/python3.10/dist-packages (from torchmetrics) (0.10.0)\n",
            "Requirement already satisfied: packaging>=17.1 in /usr/local/lib/python3.10/dist-packages (from lightning-utilities>=0.8.0->torchmetrics) (23.2)\n",
            "Requirement already satisfied: setuptools in /usr/local/lib/python3.10/dist-packages (from lightning-utilities>=0.8.0->torchmetrics) (67.7.2)\n",
            "Requirement already satisfied: typing-extensions in /usr/local/lib/python3.10/dist-packages (from lightning-utilities>=0.8.0->torchmetrics) (4.5.0)\n",
            "Requirement already satisfied: filelock in /usr/local/lib/python3.10/dist-packages (from torch>=1.8.1->torchmetrics) (3.13.1)\n",
            "Requirement already satisfied: sympy in /usr/local/lib/python3.10/dist-packages (from torch>=1.8.1->torchmetrics) (1.12)\n",
            "Requirement already satisfied: networkx in /usr/local/lib/python3.10/dist-packages (from torch>=1.8.1->torchmetrics) (3.2.1)\n",
            "Requirement already satisfied: jinja2 in /usr/local/lib/python3.10/dist-packages (from torch>=1.8.1->torchmetrics) (3.1.2)\n",
            "Requirement already satisfied: fsspec in /usr/local/lib/python3.10/dist-packages (from torch>=1.8.1->torchmetrics) (2023.6.0)\n",
            "Requirement already satisfied: triton==2.1.0 in /usr/local/lib/python3.10/dist-packages (from torch>=1.8.1->torchmetrics) (2.1.0)\n",
            "Requirement already satisfied: MarkupSafe>=2.0 in /usr/local/lib/python3.10/dist-packages (from jinja2->torch>=1.8.1->torchmetrics) (2.1.3)\n",
            "Requirement already satisfied: mpmath>=0.19 in /usr/local/lib/python3.10/dist-packages (from sympy->torch>=1.8.1->torchmetrics) (1.3.0)\n"
          ]
        }
      ],
      "source": [
        "!pip install portalocker\n",
        "!pip install torchmetrics"
      ],
      "id": "080d50fc"
    },
    {
      "cell_type": "code",
      "execution_count": 3,
      "metadata": {
        "id": "B9XxyEQVWrO6"
      },
      "outputs": [],
      "source": [
        "import argparse\n",
        "import logging\n",
        "import time\n",
        "\n",
        "import torch\n",
        "from torch.utils.data import DataLoader\n",
        "from torch.utils.data.dataset import random_split\n",
        "from torchtext.data.functional import to_map_style_dataset\n",
        "from torchtext.data.utils import get_tokenizer, ngrams_iterator\n",
        "from torchtext.datasets import DATASETS\n",
        "from torchtext.prototype.transforms import load_sp_model, PRETRAINED_SP_MODEL, SentencePieceTokenizer\n",
        "from torchtext.utils import download_from_url\n",
        "from torchtext.vocab import build_vocab_from_iterator\n",
        "import torch.nn as nn\n",
        "from torch.nn.utils.rnn import pad_sequence\n",
        "import torch.nn.functional as F\n",
        "from torchtext.vocab import GloVe\n",
        "from tqdm import tqdm\n",
        "\n",
        "torch.autograd.set_detect_anomaly(True)\n",
        "\n",
        "FILL = '_FILL_'"
      ],
      "id": "B9XxyEQVWrO6"
    },
    {
      "cell_type": "markdown",
      "metadata": {
        "id": "66eb271d"
      },
      "source": [
        "### Information\n",
        "- torchtext repo: https://github.com/pytorch/text/tree/main/torchtext\n",
        "- torchtext documentation: https://pytorch.org/text/stable/index.html"
      ],
      "id": "66eb271d"
    },
    {
      "cell_type": "code",
      "execution_count": 3,
      "metadata": {
        "id": "8c949153"
      },
      "outputs": [],
      "source": [],
      "id": "8c949153"
    },
    {
      "cell_type": "markdown",
      "metadata": {
        "id": "12d93d22"
      },
      "source": [
        "### Constants"
      ],
      "id": "12d93d22"
    },
    {
      "cell_type": "code",
      "execution_count": 4,
      "metadata": {
        "id": "329c056d"
      },
      "outputs": [],
      "source": [
        "DATASET = \"AG_NEWS\"\n",
        "DATA_DIR = \".data\"\n",
        "DEVICE = \"cpu\"\n",
        "EMBED_DIM = 300\n",
        "LR = 1.0\n",
        "BATCH_SIZE = 128\n",
        "NUM_EPOCHS = 5\n",
        "PADDING_VALUE = 0\n",
        "PADDING_IDX = PADDING_VALUE"
      ],
      "id": "329c056d"
    },
    {
      "cell_type": "code",
      "execution_count": 4,
      "metadata": {
        "id": "ffada8d0"
      },
      "outputs": [],
      "source": [],
      "id": "ffada8d0"
    },
    {
      "cell_type": "markdown",
      "metadata": {
        "id": "1a61aede"
      },
      "source": [
        "### Get the tokenizer\n",
        "- Use the WordLevel tokenizer.\n"
      ],
      "id": "1a61aede"
    },
    {
      "cell_type": "code",
      "execution_count": 5,
      "metadata": {
        "id": "93e3b7cb"
      },
      "outputs": [],
      "source": [
        "# Get basic tokenizer\n",
        "basic_english_tokenizer = get_tokenizer(\"basic_english\")"
      ],
      "id": "93e3b7cb"
    },
    {
      "cell_type": "code",
      "execution_count": 6,
      "metadata": {
        "colab": {
          "base_uri": "https://localhost:8080/"
        },
        "id": "aa4b78e4",
        "outputId": "56660f1a-d2ef-438c-c754-8c7e37aa5c8d"
      },
      "outputs": [
        {
          "output_type": "execute_result",
          "data": {
            "text/plain": [
              "['this', 'is', 'some', 'text', '.', '.', '.']"
            ]
          },
          "metadata": {},
          "execution_count": 6
        }
      ],
      "source": [
        "basic_english_tokenizer(\"This is some text ...\")"
      ],
      "id": "aa4b78e4"
    },
    {
      "cell_type": "code",
      "execution_count": 7,
      "metadata": {
        "id": "505cf5ec"
      },
      "outputs": [],
      "source": [
        "# Needed later; set this to the tokenizer above\n",
        "TOKENIZER = basic_english_tokenizer"
      ],
      "id": "505cf5ec"
    },
    {
      "cell_type": "markdown",
      "metadata": {
        "id": "64096cd8"
      },
      "source": [
        "### Get the data and get the vocabulary"
      ],
      "id": "64096cd8"
    },
    {
      "cell_type": "code",
      "execution_count": 8,
      "metadata": {
        "id": "ce4a0578"
      },
      "outputs": [],
      "source": [
        "def yield_tokens(data_iter):\n",
        "    for _, text in data_iter:\n",
        "        yield TOKENIZER(text)"
      ],
      "id": "ce4a0578"
    },
    {
      "cell_type": "code",
      "execution_count": 9,
      "metadata": {
        "id": "f48f23ab"
      },
      "outputs": [],
      "source": [
        "train_iter = DATASETS[DATASET](root=DATA_DIR, split=\"train\")\n",
        "VOCAB = build_vocab_from_iterator(yield_tokens(train_iter), specials=('<pad>', '<unk>'))\n",
        "\n",
        "# Make the default index the same as that of the unk_token.\n",
        "VOCAB.set_default_index(VOCAB['<unk>'])"
      ],
      "id": "f48f23ab"
    },
    {
      "cell_type": "code",
      "execution_count": 9,
      "metadata": {
        "id": "552e7295"
      },
      "outputs": [],
      "source": [],
      "id": "552e7295"
    },
    {
      "cell_type": "markdown",
      "metadata": {
        "id": "31ce9367"
      },
      "source": [
        "### Get GLOVE embeddings"
      ],
      "id": "31ce9367"
    },
    {
      "cell_type": "code",
      "execution_count": 10,
      "metadata": {
        "id": "a43f0226",
        "colab": {
          "base_uri": "https://localhost:8080/"
        },
        "outputId": "81bbb788-f605-46de-f5af-de1d77ffed76"
      },
      "outputs": [
        {
          "output_type": "stream",
          "name": "stderr",
          "text": [
            ".vector_cache/glove.840B.300d.zip: 2.18GB [06:56, 5.22MB/s]                            \n",
            "100%|█████████▉| 2196016/2196017 [03:58<00:00, 9210.06it/s]\n"
          ]
        }
      ],
      "source": [
        "# Get the GloVe embeddings; this will be slow\n",
        "GLOVE = GloVe()"
      ],
      "id": "a43f0226"
    },
    {
      "cell_type": "code",
      "execution_count": 11,
      "metadata": {
        "colab": {
          "base_uri": "https://localhost:8080/"
        },
        "id": "6302f433",
        "outputId": "67ee35d3-ae9e-49b4-ccbf-7577e984fda2"
      },
      "outputs": [
        {
          "output_type": "execute_result",
          "data": {
            "text/plain": [
              "(2196017, torch.Size([2196017, 300]))"
            ]
          },
          "metadata": {},
          "execution_count": 11
        }
      ],
      "source": [
        "len(GLOVE), GLOVE.vectors.shape"
      ],
      "id": "6302f433"
    },
    {
      "cell_type": "code",
      "execution_count": 11,
      "metadata": {
        "id": "c1ba2b54"
      },
      "outputs": [],
      "source": [],
      "id": "c1ba2b54"
    },
    {
      "cell_type": "markdown",
      "metadata": {
        "id": "200b05fc"
      },
      "source": [
        "### Helper functions"
      ],
      "id": "200b05fc"
    },
    {
      "cell_type": "code",
      "execution_count": 12,
      "metadata": {
        "id": "16ca1ef5"
      },
      "outputs": [],
      "source": [
        "def text_pipeline(text):\n",
        "    return VOCAB(TOKENIZER(text))\n",
        "\n",
        "def label_pipeline(label):\n",
        "    return int(label) - 1"
      ],
      "id": "16ca1ef5"
    },
    {
      "cell_type": "markdown",
      "metadata": {
        "id": "67ef6734"
      },
      "source": [
        "Nice link on collate_fn and DataLoader in PyTorch: https://python.plainenglish.io/understanding-collate-fn-in-pytorch-f9d1742647d3"
      ],
      "id": "67ef6734"
    },
    {
      "cell_type": "code",
      "execution_count": 13,
      "metadata": {
        "id": "ff479986"
      },
      "outputs": [],
      "source": [
        "# As before, loop through the batch and transform into tensors\n",
        "def collate_batch(batch):\n",
        "    label_list, text_list = [], []\n",
        "    for (_label, _text) in batch:\n",
        "        # Get the label from {1, 2, 3, 4} to {0, 1, 2, 3}\n",
        "        label = label_pipeline(_label)\n",
        "        label_list.append(label)\n",
        "\n",
        "        # Return a list of ints\n",
        "        processed_text = text_pipeline(_text)\n",
        "        # Append to text_list\n",
        "        text_list.append(torch.tensor(processed_text, dtype=torch.int64))\n",
        "\n",
        "    # Pad and make into tensors as needed\n",
        "    text_list = pad_sequence(text_list, batch_first=True, padding_value=PADDING_VALUE)\n",
        "    label_list = torch.tensor(label_list, dtype=torch.int64)\n",
        "\n",
        "    return label_list.to(DEVICE), text_list.to(DEVICE)"
      ],
      "id": "ff479986"
    },
    {
      "cell_type": "code",
      "execution_count": 13,
      "metadata": {
        "id": "aa668c1e"
      },
      "outputs": [],
      "source": [],
      "id": "aa668c1e"
    },
    {
      "cell_type": "markdown",
      "metadata": {
        "id": "c7fcf425"
      },
      "source": [
        "### Get the data"
      ],
      "id": "c7fcf425"
    },
    {
      "cell_type": "code",
      "execution_count": 14,
      "metadata": {
        "colab": {
          "base_uri": "https://localhost:8080/"
        },
        "id": "e617ddce",
        "outputId": "811c6c21-ce63-4f55-c91c-2dfa1844d299"
      },
      "outputs": [
        {
          "output_type": "stream",
          "name": "stdout",
          "text": [
            "The number of classes is 4 ...\n"
          ]
        }
      ],
      "source": [
        "train_iter = DATASETS[DATASET](root=DATA_DIR, split=\"train\")\n",
        "num_class = len(set([label for (label, _) in train_iter]))\n",
        "# What are the classes?\n",
        "print(f\"The number of classes is {num_class} ...\")"
      ],
      "id": "e617ddce"
    },
    {
      "cell_type": "code",
      "execution_count": 14,
      "metadata": {
        "id": "7770ac24"
      },
      "outputs": [],
      "source": [],
      "id": "7770ac24"
    },
    {
      "cell_type": "markdown",
      "metadata": {
        "id": "5aa8a40d"
      },
      "source": [
        "### Set up the model"
      ],
      "id": "5aa8a40d"
    },
    {
      "cell_type": "markdown",
      "metadata": {
        "id": "8abf2ede"
      },
      "source": [
        "Good reference on this type of model\n",
        "- CNN for Sentence Classification: https://arxiv.org/pdf/1408.5882.pdf\n",
        "\n",
        "You can build CNN models with either CNN1d or CNN2d."
      ],
      "id": "8abf2ede"
    },
    {
      "cell_type": "code",
      "execution_count": 15,
      "metadata": {
        "id": "dc51c359"
      },
      "outputs": [],
      "source": [
        "class CNN1dTextClassificationModel(nn.Module):\n",
        "    def __init__(\n",
        "        self,\n",
        "        vocab_size,\n",
        "        num_class,\n",
        "        embed_dim = 300,\n",
        "        use_pretrained = True,\n",
        "        fine_tune_embeddings = True,\n",
        "        debug = False\n",
        "    ):\n",
        "\n",
        "        super(CNN1dTextClassificationModel, self).__init__()\n",
        "\n",
        "        self.embedding = nn.Embedding(\n",
        "            vocab_size,\n",
        "            embed_dim,\n",
        "            padding_idx=PADDING_IDX\n",
        "        )\n",
        "\n",
        "        if use_pretrained:\n",
        "            # Set the embeddings to not requiring gradients since we'll try and modify\n",
        "            self.embedding.weight.requires_grad = fine_tune_embeddings\n",
        "            for i in range(vocab_size):\n",
        "                # Get the token for the index i\n",
        "                token = VOCAB.lookup_token(i)\n",
        "                # Modify the embedding for index i by the embedding for that token\n",
        "                # Do this only if token is in the stoi dictionary for GLOVE\n",
        "                if token in GLOVE.stoi:\n",
        "                    self.embedding.weight.data[i] = GLOVE[token]\n",
        "        else:\n",
        "            # Otherwise, initialize the weights as specified below\n",
        "            self.init_weights()\n",
        "\n",
        "        # If weights do not get changed, turn off gradients for the GloVe embeddings\n",
        "        if not fine_tune_embeddings:\n",
        "            self.embedding.weight.requires_grad = False\n",
        "\n",
        "        # Define a Conv1d layer that collapses all the channels and does not collapse the time dimension\n",
        "        self.cnn1 = nn.Conv1d(in_channels=embed_dim, out_channels=1, kernel_size=1)\n",
        "\n",
        "        # Define 3 Conv1d layers each having 1 filter and kernel sizes 2, 3 and 4\n",
        "        self.cnn2 = nn.Conv1d(in_channels=embed_dim, out_channels=1, kernel_size=2)\n",
        "        self.cnn3 = nn.Conv1d(in_channels=embed_dim, out_channels=1, kernel_size=3)\n",
        "        self.cnn4 = nn.Conv1d(in_channels=embed_dim, out_channels=1, kernel_size=4)\n",
        "\n",
        "        # A linear map from some dimensions to num_class (you need to figure it out)\n",
        "        self.fc = nn.Linear(3, num_class)\n",
        "\n",
        "        self.debug = debug\n",
        "\n",
        "    def init_weights(self):\n",
        "        initrange = 0.5\n",
        "        # Initialize the embedding weight matrix to uniform between the [-0.5, 0.5]\n",
        "        self.embedding.weight.data.uniform_(-initrange, initrange)\n",
        "        # Initialize the weight matrix of fc to uniform between the [-0.5, 0.5]\n",
        "        self.fc.weight.data.uniform_(-initrange, initrange)\n",
        "        # Initialize the bias for fc to zero\n",
        "        self.fc.bias.data.zero_()\n",
        "\n",
        "    # B = batch_size, L = sequence length, D = vector dimension\n",
        "    def forward(self, text):\n",
        "\n",
        "        # B X L X D\n",
        "        # Get the embeddings for the text passed in\n",
        "        embedded = self.embedding(text)\n",
        "\n",
        "        if self.debug:\n",
        "            print('embedding', embedded.shape)\n",
        "\n",
        "        # B X D X L\n",
        "        # Transpose the embedding above as needed\n",
        "        embedded = embedded.permute(0, 2, 1)\n",
        "\n",
        "        # B X 1 X L\n",
        "        # Pass through cnn1\n",
        "        cnn1 = self.cnn1(embedded)\n",
        "        if self.debug:\n",
        "            print('cnn1', cnn1.shape)\n",
        "\n",
        "        # B X 1\n",
        "        # Take Max pooling over time\n",
        "        cnn1 = F.max_pool1d(cnn1, cnn1.size(2)).squeeze(2)\n",
        "        if self.debug:\n",
        "          print('cnn1 after max pool', cnn1.shape)\n",
        "\n",
        "        # B X 1 X L - 1\n",
        "        # Pass through cnn2 and add a RELU\n",
        "        cnn2 = F.relu(self.cnn2(embedded))\n",
        "        if self.debug:\n",
        "            print('cnn2', cnn2.shape)\n",
        "\n",
        "        # B X 1 X L - 2\n",
        "        # Pass through cnn3 and add a RELU\n",
        "        cnn3 = F.relu(self.cnn3(embedded))\n",
        "        if self.debug:\n",
        "            print('cnn3', cnn3.shape)\n",
        "\n",
        "        # B X 1 X L - 3\n",
        "        # Pass through cnn4 and add a RELU\n",
        "        cnn4 = F.relu(self.cnn4(embedded))\n",
        "        if self.debug:\n",
        "            print('cnn4', cnn4.shape)\n",
        "\n",
        "        # B X 1 in all cases\n",
        "        # Apply max pooling to each of cnn2, cnn3 and cnn4\n",
        "        cnn2 = F.max_pool1d(cnn2, cnn2.size(2)).squeeze(2)\n",
        "        cnn3 = F.max_pool1d(cnn3, cnn3.size(2)).squeeze(2)\n",
        "        cnn4 = F.max_pool1d(cnn4, cnn4.size(2)).squeeze(2)\n",
        "\n",
        "        # B X 1 in all cases\n",
        "        # Apply max pooling over time\n",
        "        if self.debug:\n",
        "            print('cnn2 after max', cnn2.shape)\n",
        "\n",
        "        # Add to each cnn2, 3, 4 a skip connection to cnn1 and average the results\n",
        "        cnn2 = (cnn2 + cnn1) / 2\n",
        "        cnn3 = (cnn3 + cnn1) / 2\n",
        "        cnn4 = (cnn4 + cnn1) / 2\n",
        "        if self.debug:\n",
        "            print('cnn2 after skip connection', cnn2.shape)\n",
        "\n",
        "        # B X 3\n",
        "        # Concatenate the above\n",
        "        cnn_concat = torch.cat((cnn2, cnn3, cnn4), 1)\n",
        "        if self.debug:\n",
        "            print('cnn concat', cnn_concat.shape)\n",
        "            # Set the debug to False after the first forward pass\n",
        "            self.debug = False\n",
        "        # Pass through an appropriate Linear layer to get the right dimensions needed\n",
        "        out = self.fc(cnn_concat)\n",
        "\n",
        "        return out"
      ],
      "id": "dc51c359"
    },
    {
      "cell_type": "code",
      "execution_count": 15,
      "metadata": {
        "id": "25775647"
      },
      "outputs": [],
      "source": [],
      "id": "25775647"
    },
    {
      "cell_type": "markdown",
      "metadata": {
        "id": "3b3c6ed5"
      },
      "source": [
        "### Set up the model"
      ],
      "id": "3b3c6ed5"
    },
    {
      "cell_type": "code",
      "execution_count": 16,
      "metadata": {
        "id": "cef585f4"
      },
      "outputs": [],
      "source": [
        "# If this is True, we will initialize the Embedding layer with GLOVE\n",
        "USE_PRETRAINED = True,\n",
        "\n",
        "# If this is True, we will allow for gradient updates on the nn.Embedding layer\n",
        "FINE_TUNE_EMBEDDINGS = True\n",
        "\n",
        "# Set the loss appropriately\n",
        "criterion = nn.CrossEntropyLoss()\n",
        "\n",
        "model = CNN1dTextClassificationModel(len(VOCAB), num_class, use_pretrained=USE_PRETRAINED, fine_tune_embeddings=FINE_TUNE_EMBEDDINGS)\n",
        "# Set the optimizer to SGD\n",
        "# Add an L2 regularizer of 0.00001\n",
        "optimizer = torch.optim.SGD(model.parameters(), lr=LR, weight_decay=0.00001)\n",
        "\n",
        "# Set the scheduler to StepLR with gamma=0.1 and step_size = 1.0\n",
        "scheduler = torch.optim.lr_scheduler.StepLR(optimizer, step_size=1, gamma=0.1)"
      ],
      "id": "cef585f4"
    },
    {
      "cell_type": "code",
      "execution_count": 16,
      "metadata": {
        "id": "f8a642bf"
      },
      "outputs": [],
      "source": [],
      "id": "f8a642bf"
    },
    {
      "cell_type": "markdown",
      "metadata": {
        "id": "26266d8a"
      },
      "source": [
        "### Set up the data"
      ],
      "id": "26266d8a"
    },
    {
      "cell_type": "code",
      "execution_count": 17,
      "metadata": {
        "id": "9c0aebb5"
      },
      "outputs": [],
      "source": [
        "train_iter, test_iter = DATASETS[DATASET]()\n",
        "train_dataset = to_map_style_dataset(train_iter)\n",
        "test_dataset = to_map_style_dataset(test_iter)\n",
        "\n",
        "num_train = int(len(train_dataset) * 0.95)\n",
        "split_train_, split_valid_ = random_split(train_dataset, [num_train, len(train_dataset) - num_train])\n",
        "\n",
        "train_dataloader = DataLoader(split_train_, batch_size=BATCH_SIZE, shuffle=True, collate_fn=collate_batch)\n",
        "valid_dataloader = DataLoader(split_valid_, batch_size=BATCH_SIZE, shuffle=False, collate_fn=collate_batch)\n",
        "test_dataloader = DataLoader(test_dataset, batch_size=BATCH_SIZE, shuffle=False, collate_fn=collate_batch)"
      ],
      "id": "9c0aebb5"
    },
    {
      "cell_type": "code",
      "execution_count": 18,
      "metadata": {
        "id": "_uLB52IrIm1I"
      },
      "outputs": [],
      "source": [
        "iterator = iter(train_dataloader)"
      ],
      "id": "_uLB52IrIm1I"
    },
    {
      "cell_type": "code",
      "execution_count": 19,
      "metadata": {
        "colab": {
          "base_uri": "https://localhost:8080/"
        },
        "id": "tBSjEkRYIvk3",
        "outputId": "14977262-23dc-4d7e-f233-fea75d43e5e5"
      },
      "outputs": [
        {
          "output_type": "stream",
          "name": "stdout",
          "text": [
            "tensor([2, 2, 1, 1, 0, 3, 2, 3, 0, 2, 1, 0, 1, 0, 3, 0, 3, 1, 1, 2, 3, 3, 3, 2,\n",
            "        2, 0, 3, 3, 3, 2, 1, 1, 1, 1, 0, 3, 0, 2, 0, 3, 0, 3, 0, 0, 2, 1, 2, 1,\n",
            "        1, 1, 2, 1, 1, 0, 0, 2, 3, 1, 0, 3, 3, 3, 3, 0, 3, 0, 2, 1, 0, 2, 0, 0,\n",
            "        3, 3, 2, 2, 3, 1, 1, 2, 0, 2, 1, 2, 0, 1, 2, 1, 3, 0, 3, 1, 1, 1, 1, 2,\n",
            "        0, 1, 1, 3, 3, 3, 2, 0, 2, 1, 2, 1, 2, 2, 1, 1, 0, 1, 3, 1, 3, 0, 3, 0,\n",
            "        2, 3, 0, 1, 1, 3, 0, 0])\n",
            "tensor([[   37,  2495,     5,  ...,     0,     0,     0],\n",
            "        [    6,  6440,     7,  ...,     0,     0,     0],\n",
            "        [  851,    89,   561,  ...,     0,     0,     0],\n",
            "        ...,\n",
            "        [   78, 11261,    64,  ...,     0,     0,     0],\n",
            "        [  149,   511,   403,  ...,     0,     0,     0],\n",
            "        [ 6444,  4103,  6401,  ...,     0,     0,     0]])\n"
          ]
        }
      ],
      "source": [
        "for label, text in iterator:\n",
        "  print(label)\n",
        "  print(text)\n",
        "  break"
      ],
      "id": "tBSjEkRYIvk3"
    },
    {
      "cell_type": "markdown",
      "metadata": {
        "id": "86476e2a"
      },
      "source": [
        "### Train the model"
      ],
      "id": "86476e2a"
    },
    {
      "cell_type": "code",
      "execution_count": 20,
      "metadata": {
        "id": "24950481"
      },
      "outputs": [],
      "source": [
        "def train(dataloader, model, optimizer, criterion, epoch):\n",
        "    model.train()\n",
        "    total_acc, total_count = 0, 0\n",
        "    total_loss, total_batches = 0.0, 0\n",
        "    total_zero_gradients_percentage = []\n",
        "    log_interval = 10\n",
        "\n",
        "    for idx, (label, text) in tqdm(enumerate(dataloader)):\n",
        "        # Set gradients to zero\n",
        "        optimizer.zero_grad()\n",
        "\n",
        "        # Get the predictions\n",
        "        predicted_label = model(text)\n",
        "        # Get the loss\n",
        "        loss = criterion(predicted_label, label)\n",
        "\n",
        "        # Do back propagation and get the gradients\n",
        "        loss.backward()\n",
        "\n",
        "        # Get the loss per batch and the number of batches\n",
        "        with torch.no_grad():\n",
        "            total_loss += loss.item()\n",
        "            total_batches += 1\n",
        "\n",
        "        # Loop through all the parameters\n",
        "        # Specifically, for this batch, get the percentage of zero gradients across all parameters\n",
        "        # Append this to the list above which will print out the total every 10 batches\n",
        "        total_nonzero_gradients = 0.0\n",
        "        total_param_count = 0.0\n",
        "        for param in model.parameters():\n",
        "            total_nonzero_gradients += torch.sum(param.grad != 0)\n",
        "            total_param_count += torch.numel(param.grad)\n",
        "\n",
        "        # Append to total_zero_gradients_percentage\n",
        "        zero_grad_percentage = (total_param_count - total_nonzero_gradients) / total_param_count\n",
        "        total_zero_gradients_percentage.append(zero_grad_percentage)\n",
        "\n",
        "\n",
        "        # Clip the gradient at ?? Should we use 10.0 or 0.1 with the learning rate we picked and the default notebook setting?\n",
        "        # Use the above loop to help you figure this out\n",
        "        #torch.nn.utils.clip_grad_norm_(model.parameters(), 10.0)\n",
        "\n",
        "        # Do an optimization step\n",
        "        optimizer.step()\n",
        "\n",
        "        # Get the accuracy\n",
        "        total_acc += (predicted_label.argmax(1) == label).sum().item()\n",
        "        total_count += label.size(0)\n",
        "\n",
        "        # Log results\n",
        "        if idx % log_interval == 0 and idx > 0:\n",
        "            print(\n",
        "                \"| epoch {:3d} | {:5d}/{:5d} batches \"\n",
        "                \"| accuracy {:8.3f} \"\n",
        "                \"| loss {:8.3f} \"\n",
        "                \"| zero gradients percentage {:8.3f}\".format(\n",
        "                    epoch, idx,\n",
        "                    len(dataloader),\n",
        "                    total_acc / total_count,\n",
        "                    total_loss / total_batches,\n",
        "                    torch.tensor(total_zero_gradients_percentage).mean().item()\n",
        "                    )\n",
        "            )\n",
        "            # Reset variables as needed\n",
        "            total_acc, total_count = 0, 0\n",
        "            total_loss, total_batches = 0.0, 0\n",
        "            total_zero_gradients = []"
      ],
      "id": "24950481"
    },
    {
      "cell_type": "code",
      "execution_count": 21,
      "metadata": {
        "id": "39a702be"
      },
      "outputs": [],
      "source": [
        "def evaluate(dataloader, model, criterion):\n",
        "    model.eval()\n",
        "    total_acc, total_count = 0, 0\n",
        "    total_loss = 0.0\n",
        "\n",
        "    with torch.no_grad():\n",
        "        for idx, (label, text) in enumerate(dataloader):\n",
        "            predicted_label = model(text)\n",
        "            loss = criterion(input=predicted_label, target=label)\n",
        "            total_acc += (predicted_label.argmax(1) == label).sum().item()\n",
        "            total_count += label.size(0)\n",
        "            total_loss += loss.item()\n",
        "    return total_acc / total_count, total_loss / total_count"
      ],
      "id": "39a702be"
    },
    {
      "cell_type": "code",
      "execution_count": 22,
      "metadata": {
        "colab": {
          "base_uri": "https://localhost:8080/"
        },
        "id": "a9e02c09",
        "outputId": "90b7b13a-36d2-4850-ff05-dcbfd0f57acd"
      },
      "outputs": [
        {
          "output_type": "stream",
          "name": "stderr",
          "text": [
            "12it [00:02,  5.18it/s]"
          ]
        },
        {
          "output_type": "stream",
          "name": "stdout",
          "text": [
            "| epoch   1 |    10/  891 batches | accuracy    0.376 | loss    1.302 | zero gradients percentage    0.994\n"
          ]
        },
        {
          "output_type": "stream",
          "name": "stderr",
          "text": [
            "22it [00:04,  5.06it/s]"
          ]
        },
        {
          "output_type": "stream",
          "name": "stdout",
          "text": [
            "| epoch   1 |    20/  891 batches | accuracy    0.596 | loss    0.982 | zero gradients percentage    0.994\n"
          ]
        },
        {
          "output_type": "stream",
          "name": "stderr",
          "text": [
            "32it [00:06,  5.38it/s]"
          ]
        },
        {
          "output_type": "stream",
          "name": "stdout",
          "text": [
            "| epoch   1 |    30/  891 batches | accuracy    0.637 | loss    0.842 | zero gradients percentage    0.994\n"
          ]
        },
        {
          "output_type": "stream",
          "name": "stderr",
          "text": [
            "42it [00:08,  5.30it/s]"
          ]
        },
        {
          "output_type": "stream",
          "name": "stdout",
          "text": [
            "| epoch   1 |    40/  891 batches | accuracy    0.736 | loss    0.716 | zero gradients percentage    0.994\n"
          ]
        },
        {
          "output_type": "stream",
          "name": "stderr",
          "text": [
            "51it [00:10,  5.26it/s]"
          ]
        },
        {
          "output_type": "stream",
          "name": "stdout",
          "text": [
            "| epoch   1 |    50/  891 batches | accuracy    0.798 | loss    0.583 | zero gradients percentage    0.994\n"
          ]
        },
        {
          "output_type": "stream",
          "name": "stderr",
          "text": [
            "61it [00:12,  4.49it/s]"
          ]
        },
        {
          "output_type": "stream",
          "name": "stdout",
          "text": [
            "| epoch   1 |    60/  891 batches | accuracy    0.787 | loss    0.595 | zero gradients percentage    0.994\n"
          ]
        },
        {
          "output_type": "stream",
          "name": "stderr",
          "text": [
            "71it [00:14,  4.90it/s]"
          ]
        },
        {
          "output_type": "stream",
          "name": "stdout",
          "text": [
            "| epoch   1 |    70/  891 batches | accuracy    0.833 | loss    0.521 | zero gradients percentage    0.993\n"
          ]
        },
        {
          "output_type": "stream",
          "name": "stderr",
          "text": [
            "81it [00:16,  5.51it/s]"
          ]
        },
        {
          "output_type": "stream",
          "name": "stdout",
          "text": [
            "| epoch   1 |    80/  891 batches | accuracy    0.803 | loss    0.548 | zero gradients percentage    0.993\n"
          ]
        },
        {
          "output_type": "stream",
          "name": "stderr",
          "text": [
            "92it [00:18,  5.68it/s]"
          ]
        },
        {
          "output_type": "stream",
          "name": "stdout",
          "text": [
            "| epoch   1 |    90/  891 batches | accuracy    0.841 | loss    0.457 | zero gradients percentage    0.993\n"
          ]
        },
        {
          "output_type": "stream",
          "name": "stderr",
          "text": [
            "101it [00:20,  5.21it/s]"
          ]
        },
        {
          "output_type": "stream",
          "name": "stdout",
          "text": [
            "| epoch   1 |   100/  891 batches | accuracy    0.829 | loss    0.506 | zero gradients percentage    0.993\n"
          ]
        },
        {
          "output_type": "stream",
          "name": "stderr",
          "text": [
            "112it [00:22,  5.45it/s]"
          ]
        },
        {
          "output_type": "stream",
          "name": "stdout",
          "text": [
            "| epoch   1 |   110/  891 batches | accuracy    0.822 | loss    0.512 | zero gradients percentage    0.993\n"
          ]
        },
        {
          "output_type": "stream",
          "name": "stderr",
          "text": [
            "121it [00:24,  5.34it/s]"
          ]
        },
        {
          "output_type": "stream",
          "name": "stdout",
          "text": [
            "| epoch   1 |   120/  891 batches | accuracy    0.835 | loss    0.481 | zero gradients percentage    0.993\n"
          ]
        },
        {
          "output_type": "stream",
          "name": "stderr",
          "text": [
            "131it [00:26,  3.79it/s]"
          ]
        },
        {
          "output_type": "stream",
          "name": "stdout",
          "text": [
            "| epoch   1 |   130/  891 batches | accuracy    0.832 | loss    0.495 | zero gradients percentage    0.993\n"
          ]
        },
        {
          "output_type": "stream",
          "name": "stderr",
          "text": [
            "142it [00:28,  5.55it/s]"
          ]
        },
        {
          "output_type": "stream",
          "name": "stdout",
          "text": [
            "| epoch   1 |   140/  891 batches | accuracy    0.836 | loss    0.486 | zero gradients percentage    0.993\n"
          ]
        },
        {
          "output_type": "stream",
          "name": "stderr",
          "text": [
            "152it [00:30,  5.04it/s]"
          ]
        },
        {
          "output_type": "stream",
          "name": "stdout",
          "text": [
            "| epoch   1 |   150/  891 batches | accuracy    0.820 | loss    0.518 | zero gradients percentage    0.993\n"
          ]
        },
        {
          "output_type": "stream",
          "name": "stderr",
          "text": [
            "161it [00:32,  5.07it/s]"
          ]
        },
        {
          "output_type": "stream",
          "name": "stdout",
          "text": [
            "| epoch   1 |   160/  891 batches | accuracy    0.825 | loss    0.483 | zero gradients percentage    0.993\n"
          ]
        },
        {
          "output_type": "stream",
          "name": "stderr",
          "text": [
            "172it [00:34,  5.31it/s]"
          ]
        },
        {
          "output_type": "stream",
          "name": "stdout",
          "text": [
            "| epoch   1 |   170/  891 batches | accuracy    0.837 | loss    0.487 | zero gradients percentage    0.993\n"
          ]
        },
        {
          "output_type": "stream",
          "name": "stderr",
          "text": [
            "182it [00:36,  5.23it/s]"
          ]
        },
        {
          "output_type": "stream",
          "name": "stdout",
          "text": [
            "| epoch   1 |   180/  891 batches | accuracy    0.829 | loss    0.490 | zero gradients percentage    0.993\n"
          ]
        },
        {
          "output_type": "stream",
          "name": "stderr",
          "text": [
            "191it [00:38,  4.41it/s]"
          ]
        },
        {
          "output_type": "stream",
          "name": "stdout",
          "text": [
            "| epoch   1 |   190/  891 batches | accuracy    0.832 | loss    0.496 | zero gradients percentage    0.993\n"
          ]
        },
        {
          "output_type": "stream",
          "name": "stderr",
          "text": [
            "202it [00:40,  4.93it/s]"
          ]
        },
        {
          "output_type": "stream",
          "name": "stdout",
          "text": [
            "| epoch   1 |   200/  891 batches | accuracy    0.856 | loss    0.457 | zero gradients percentage    0.993\n"
          ]
        },
        {
          "output_type": "stream",
          "name": "stderr",
          "text": [
            "211it [00:42,  5.21it/s]"
          ]
        },
        {
          "output_type": "stream",
          "name": "stdout",
          "text": [
            "| epoch   1 |   210/  891 batches | accuracy    0.823 | loss    0.525 | zero gradients percentage    0.993\n"
          ]
        },
        {
          "output_type": "stream",
          "name": "stderr",
          "text": [
            "222it [00:44,  5.45it/s]"
          ]
        },
        {
          "output_type": "stream",
          "name": "stdout",
          "text": [
            "| epoch   1 |   220/  891 batches | accuracy    0.832 | loss    0.475 | zero gradients percentage    0.993\n"
          ]
        },
        {
          "output_type": "stream",
          "name": "stderr",
          "text": [
            "232it [00:46,  5.44it/s]"
          ]
        },
        {
          "output_type": "stream",
          "name": "stdout",
          "text": [
            "| epoch   1 |   230/  891 batches | accuracy    0.830 | loss    0.481 | zero gradients percentage    0.993\n"
          ]
        },
        {
          "output_type": "stream",
          "name": "stderr",
          "text": [
            "241it [00:48,  5.29it/s]"
          ]
        },
        {
          "output_type": "stream",
          "name": "stdout",
          "text": [
            "| epoch   1 |   240/  891 batches | accuracy    0.820 | loss    0.538 | zero gradients percentage    0.993\n"
          ]
        },
        {
          "output_type": "stream",
          "name": "stderr",
          "text": [
            "251it [00:50,  4.81it/s]"
          ]
        },
        {
          "output_type": "stream",
          "name": "stdout",
          "text": [
            "| epoch   1 |   250/  891 batches | accuracy    0.834 | loss    0.474 | zero gradients percentage    0.993\n"
          ]
        },
        {
          "output_type": "stream",
          "name": "stderr",
          "text": [
            "261it [00:52,  4.44it/s]"
          ]
        },
        {
          "output_type": "stream",
          "name": "stdout",
          "text": [
            "| epoch   1 |   260/  891 batches | accuracy    0.838 | loss    0.464 | zero gradients percentage    0.993\n"
          ]
        },
        {
          "output_type": "stream",
          "name": "stderr",
          "text": [
            "272it [00:54,  5.41it/s]"
          ]
        },
        {
          "output_type": "stream",
          "name": "stdout",
          "text": [
            "| epoch   1 |   270/  891 batches | accuracy    0.838 | loss    0.478 | zero gradients percentage    0.993\n"
          ]
        },
        {
          "output_type": "stream",
          "name": "stderr",
          "text": [
            "282it [00:56,  4.98it/s]"
          ]
        },
        {
          "output_type": "stream",
          "name": "stdout",
          "text": [
            "| epoch   1 |   280/  891 batches | accuracy    0.829 | loss    0.489 | zero gradients percentage    0.993\n"
          ]
        },
        {
          "output_type": "stream",
          "name": "stderr",
          "text": [
            "291it [00:58,  5.23it/s]"
          ]
        },
        {
          "output_type": "stream",
          "name": "stdout",
          "text": [
            "| epoch   1 |   290/  891 batches | accuracy    0.830 | loss    0.486 | zero gradients percentage    0.993\n"
          ]
        },
        {
          "output_type": "stream",
          "name": "stderr",
          "text": [
            "302it [01:00,  5.32it/s]"
          ]
        },
        {
          "output_type": "stream",
          "name": "stdout",
          "text": [
            "| epoch   1 |   300/  891 batches | accuracy    0.845 | loss    0.456 | zero gradients percentage    0.993\n"
          ]
        },
        {
          "output_type": "stream",
          "name": "stderr",
          "text": [
            "311it [01:02,  4.67it/s]"
          ]
        },
        {
          "output_type": "stream",
          "name": "stdout",
          "text": [
            "| epoch   1 |   310/  891 batches | accuracy    0.830 | loss    0.468 | zero gradients percentage    0.993\n"
          ]
        },
        {
          "output_type": "stream",
          "name": "stderr",
          "text": [
            "321it [01:05,  4.01it/s]"
          ]
        },
        {
          "output_type": "stream",
          "name": "stdout",
          "text": [
            "| epoch   1 |   320/  891 batches | accuracy    0.844 | loss    0.449 | zero gradients percentage    0.993\n"
          ]
        },
        {
          "output_type": "stream",
          "name": "stderr",
          "text": [
            "331it [01:07,  5.35it/s]"
          ]
        },
        {
          "output_type": "stream",
          "name": "stdout",
          "text": [
            "| epoch   1 |   330/  891 batches | accuracy    0.825 | loss    0.512 | zero gradients percentage    0.993\n"
          ]
        },
        {
          "output_type": "stream",
          "name": "stderr",
          "text": [
            "342it [01:09,  5.27it/s]"
          ]
        },
        {
          "output_type": "stream",
          "name": "stdout",
          "text": [
            "| epoch   1 |   340/  891 batches | accuracy    0.833 | loss    0.474 | zero gradients percentage    0.993\n"
          ]
        },
        {
          "output_type": "stream",
          "name": "stderr",
          "text": [
            "352it [01:11,  5.40it/s]"
          ]
        },
        {
          "output_type": "stream",
          "name": "stdout",
          "text": [
            "| epoch   1 |   350/  891 batches | accuracy    0.847 | loss    0.464 | zero gradients percentage    0.993\n"
          ]
        },
        {
          "output_type": "stream",
          "name": "stderr",
          "text": [
            "362it [01:12,  5.32it/s]"
          ]
        },
        {
          "output_type": "stream",
          "name": "stdout",
          "text": [
            "| epoch   1 |   360/  891 batches | accuracy    0.855 | loss    0.420 | zero gradients percentage    0.993\n"
          ]
        },
        {
          "output_type": "stream",
          "name": "stderr",
          "text": [
            "372it [01:14,  5.45it/s]"
          ]
        },
        {
          "output_type": "stream",
          "name": "stdout",
          "text": [
            "| epoch   1 |   370/  891 batches | accuracy    0.800 | loss    0.545 | zero gradients percentage    0.993\n"
          ]
        },
        {
          "output_type": "stream",
          "name": "stderr",
          "text": [
            "381it [01:16,  4.23it/s]"
          ]
        },
        {
          "output_type": "stream",
          "name": "stdout",
          "text": [
            "| epoch   1 |   380/  891 batches | accuracy    0.866 | loss    0.422 | zero gradients percentage    0.993\n"
          ]
        },
        {
          "output_type": "stream",
          "name": "stderr",
          "text": [
            "391it [01:19,  4.83it/s]"
          ]
        },
        {
          "output_type": "stream",
          "name": "stdout",
          "text": [
            "| epoch   1 |   390/  891 batches | accuracy    0.845 | loss    0.471 | zero gradients percentage    0.993\n"
          ]
        },
        {
          "output_type": "stream",
          "name": "stderr",
          "text": [
            "401it [01:21,  4.99it/s]"
          ]
        },
        {
          "output_type": "stream",
          "name": "stdout",
          "text": [
            "| epoch   1 |   400/  891 batches | accuracy    0.872 | loss    0.415 | zero gradients percentage    0.993\n"
          ]
        },
        {
          "output_type": "stream",
          "name": "stderr",
          "text": [
            "412it [01:23,  4.97it/s]"
          ]
        },
        {
          "output_type": "stream",
          "name": "stdout",
          "text": [
            "| epoch   1 |   410/  891 batches | accuracy    0.838 | loss    0.471 | zero gradients percentage    0.993\n"
          ]
        },
        {
          "output_type": "stream",
          "name": "stderr",
          "text": [
            "421it [01:25,  4.52it/s]"
          ]
        },
        {
          "output_type": "stream",
          "name": "stdout",
          "text": [
            "| epoch   1 |   420/  891 batches | accuracy    0.856 | loss    0.414 | zero gradients percentage    0.993\n"
          ]
        },
        {
          "output_type": "stream",
          "name": "stderr",
          "text": [
            "432it [01:27,  5.30it/s]"
          ]
        },
        {
          "output_type": "stream",
          "name": "stdout",
          "text": [
            "| epoch   1 |   430/  891 batches | accuracy    0.845 | loss    0.443 | zero gradients percentage    0.993\n"
          ]
        },
        {
          "output_type": "stream",
          "name": "stderr",
          "text": [
            "441it [01:29,  4.39it/s]"
          ]
        },
        {
          "output_type": "stream",
          "name": "stdout",
          "text": [
            "| epoch   1 |   440/  891 batches | accuracy    0.842 | loss    0.449 | zero gradients percentage    0.993\n"
          ]
        },
        {
          "output_type": "stream",
          "name": "stderr",
          "text": [
            "452it [01:32,  4.62it/s]"
          ]
        },
        {
          "output_type": "stream",
          "name": "stdout",
          "text": [
            "| epoch   1 |   450/  891 batches | accuracy    0.828 | loss    0.512 | zero gradients percentage    0.993\n"
          ]
        },
        {
          "output_type": "stream",
          "name": "stderr",
          "text": [
            "462it [01:34,  5.17it/s]"
          ]
        },
        {
          "output_type": "stream",
          "name": "stdout",
          "text": [
            "| epoch   1 |   460/  891 batches | accuracy    0.834 | loss    0.487 | zero gradients percentage    0.993\n"
          ]
        },
        {
          "output_type": "stream",
          "name": "stderr",
          "text": [
            "472it [01:35,  5.29it/s]"
          ]
        },
        {
          "output_type": "stream",
          "name": "stdout",
          "text": [
            "| epoch   1 |   470/  891 batches | accuracy    0.863 | loss    0.381 | zero gradients percentage    0.993\n"
          ]
        },
        {
          "output_type": "stream",
          "name": "stderr",
          "text": [
            "482it [01:37,  5.26it/s]"
          ]
        },
        {
          "output_type": "stream",
          "name": "stdout",
          "text": [
            "| epoch   1 |   480/  891 batches | accuracy    0.866 | loss    0.416 | zero gradients percentage    0.993\n"
          ]
        },
        {
          "output_type": "stream",
          "name": "stderr",
          "text": [
            "492it [01:39,  4.98it/s]"
          ]
        },
        {
          "output_type": "stream",
          "name": "stdout",
          "text": [
            "| epoch   1 |   490/  891 batches | accuracy    0.827 | loss    0.476 | zero gradients percentage    0.993\n"
          ]
        },
        {
          "output_type": "stream",
          "name": "stderr",
          "text": [
            "501it [01:41,  4.94it/s]"
          ]
        },
        {
          "output_type": "stream",
          "name": "stdout",
          "text": [
            "| epoch   1 |   500/  891 batches | accuracy    0.846 | loss    0.470 | zero gradients percentage    0.993\n"
          ]
        },
        {
          "output_type": "stream",
          "name": "stderr",
          "text": [
            "512it [01:44,  4.55it/s]"
          ]
        },
        {
          "output_type": "stream",
          "name": "stdout",
          "text": [
            "| epoch   1 |   510/  891 batches | accuracy    0.850 | loss    0.444 | zero gradients percentage    0.993\n"
          ]
        },
        {
          "output_type": "stream",
          "name": "stderr",
          "text": [
            "522it [01:46,  5.01it/s]"
          ]
        },
        {
          "output_type": "stream",
          "name": "stdout",
          "text": [
            "| epoch   1 |   520/  891 batches | accuracy    0.855 | loss    0.418 | zero gradients percentage    0.993\n"
          ]
        },
        {
          "output_type": "stream",
          "name": "stderr",
          "text": [
            "532it [01:48,  5.06it/s]"
          ]
        },
        {
          "output_type": "stream",
          "name": "stdout",
          "text": [
            "| epoch   1 |   530/  891 batches | accuracy    0.841 | loss    0.458 | zero gradients percentage    0.993\n"
          ]
        },
        {
          "output_type": "stream",
          "name": "stderr",
          "text": [
            "542it [01:50,  5.13it/s]"
          ]
        },
        {
          "output_type": "stream",
          "name": "stdout",
          "text": [
            "| epoch   1 |   540/  891 batches | accuracy    0.830 | loss    0.455 | zero gradients percentage    0.993\n"
          ]
        },
        {
          "output_type": "stream",
          "name": "stderr",
          "text": [
            "551it [01:52,  5.02it/s]"
          ]
        },
        {
          "output_type": "stream",
          "name": "stdout",
          "text": [
            "| epoch   1 |   550/  891 batches | accuracy    0.852 | loss    0.446 | zero gradients percentage    0.993\n"
          ]
        },
        {
          "output_type": "stream",
          "name": "stderr",
          "text": [
            "561it [01:54,  5.39it/s]"
          ]
        },
        {
          "output_type": "stream",
          "name": "stdout",
          "text": [
            "| epoch   1 |   560/  891 batches | accuracy    0.859 | loss    0.413 | zero gradients percentage    0.993\n"
          ]
        },
        {
          "output_type": "stream",
          "name": "stderr",
          "text": [
            "572it [01:56,  4.49it/s]"
          ]
        },
        {
          "output_type": "stream",
          "name": "stdout",
          "text": [
            "| epoch   1 |   570/  891 batches | accuracy    0.864 | loss    0.422 | zero gradients percentage    0.993\n"
          ]
        },
        {
          "output_type": "stream",
          "name": "stderr",
          "text": [
            "582it [01:58,  5.07it/s]"
          ]
        },
        {
          "output_type": "stream",
          "name": "stdout",
          "text": [
            "| epoch   1 |   580/  891 batches | accuracy    0.857 | loss    0.425 | zero gradients percentage    0.993\n"
          ]
        },
        {
          "output_type": "stream",
          "name": "stderr",
          "text": [
            "592it [02:00,  5.19it/s]"
          ]
        },
        {
          "output_type": "stream",
          "name": "stdout",
          "text": [
            "| epoch   1 |   590/  891 batches | accuracy    0.848 | loss    0.435 | zero gradients percentage    0.993\n"
          ]
        },
        {
          "output_type": "stream",
          "name": "stderr",
          "text": [
            "602it [02:02,  5.05it/s]"
          ]
        },
        {
          "output_type": "stream",
          "name": "stdout",
          "text": [
            "| epoch   1 |   600/  891 batches | accuracy    0.855 | loss    0.418 | zero gradients percentage    0.993\n"
          ]
        },
        {
          "output_type": "stream",
          "name": "stderr",
          "text": [
            "612it [02:04,  5.21it/s]"
          ]
        },
        {
          "output_type": "stream",
          "name": "stdout",
          "text": [
            "| epoch   1 |   610/  891 batches | accuracy    0.855 | loss    0.428 | zero gradients percentage    0.993\n"
          ]
        },
        {
          "output_type": "stream",
          "name": "stderr",
          "text": [
            "621it [02:06,  4.56it/s]"
          ]
        },
        {
          "output_type": "stream",
          "name": "stdout",
          "text": [
            "| epoch   1 |   620/  891 batches | accuracy    0.852 | loss    0.431 | zero gradients percentage    0.993\n"
          ]
        },
        {
          "output_type": "stream",
          "name": "stderr",
          "text": [
            "632it [02:09,  5.01it/s]"
          ]
        },
        {
          "output_type": "stream",
          "name": "stdout",
          "text": [
            "| epoch   1 |   630/  891 batches | accuracy    0.851 | loss    0.404 | zero gradients percentage    0.993\n"
          ]
        },
        {
          "output_type": "stream",
          "name": "stderr",
          "text": [
            "642it [02:11,  5.26it/s]"
          ]
        },
        {
          "output_type": "stream",
          "name": "stdout",
          "text": [
            "| epoch   1 |   640/  891 batches | accuracy    0.824 | loss    0.507 | zero gradients percentage    0.993\n"
          ]
        },
        {
          "output_type": "stream",
          "name": "stderr",
          "text": [
            "651it [02:12,  5.29it/s]"
          ]
        },
        {
          "output_type": "stream",
          "name": "stdout",
          "text": [
            "| epoch   1 |   650/  891 batches | accuracy    0.843 | loss    0.424 | zero gradients percentage    0.993\n"
          ]
        },
        {
          "output_type": "stream",
          "name": "stderr",
          "text": [
            "662it [02:14,  5.38it/s]"
          ]
        },
        {
          "output_type": "stream",
          "name": "stdout",
          "text": [
            "| epoch   1 |   660/  891 batches | accuracy    0.852 | loss    0.436 | zero gradients percentage    0.993\n"
          ]
        },
        {
          "output_type": "stream",
          "name": "stderr",
          "text": [
            "672it [02:16,  5.18it/s]"
          ]
        },
        {
          "output_type": "stream",
          "name": "stdout",
          "text": [
            "| epoch   1 |   670/  891 batches | accuracy    0.864 | loss    0.388 | zero gradients percentage    0.993\n"
          ]
        },
        {
          "output_type": "stream",
          "name": "stderr",
          "text": [
            "681it [02:18,  4.93it/s]"
          ]
        },
        {
          "output_type": "stream",
          "name": "stdout",
          "text": [
            "| epoch   1 |   680/  891 batches | accuracy    0.836 | loss    0.484 | zero gradients percentage    0.993\n"
          ]
        },
        {
          "output_type": "stream",
          "name": "stderr",
          "text": [
            "691it [02:20,  4.47it/s]"
          ]
        },
        {
          "output_type": "stream",
          "name": "stdout",
          "text": [
            "| epoch   1 |   690/  891 batches | accuracy    0.848 | loss    0.459 | zero gradients percentage    0.993\n"
          ]
        },
        {
          "output_type": "stream",
          "name": "stderr",
          "text": [
            "702it [02:23,  5.21it/s]"
          ]
        },
        {
          "output_type": "stream",
          "name": "stdout",
          "text": [
            "| epoch   1 |   700/  891 batches | accuracy    0.860 | loss    0.428 | zero gradients percentage    0.993\n"
          ]
        },
        {
          "output_type": "stream",
          "name": "stderr",
          "text": [
            "712it [02:25,  5.29it/s]"
          ]
        },
        {
          "output_type": "stream",
          "name": "stdout",
          "text": [
            "| epoch   1 |   710/  891 batches | accuracy    0.870 | loss    0.382 | zero gradients percentage    0.993\n"
          ]
        },
        {
          "output_type": "stream",
          "name": "stderr",
          "text": [
            "722it [02:27,  5.29it/s]"
          ]
        },
        {
          "output_type": "stream",
          "name": "stdout",
          "text": [
            "| epoch   1 |   720/  891 batches | accuracy    0.847 | loss    0.423 | zero gradients percentage    0.993\n"
          ]
        },
        {
          "output_type": "stream",
          "name": "stderr",
          "text": [
            "732it [02:29,  5.24it/s]"
          ]
        },
        {
          "output_type": "stream",
          "name": "stdout",
          "text": [
            "| epoch   1 |   730/  891 batches | accuracy    0.842 | loss    0.443 | zero gradients percentage    0.993\n"
          ]
        },
        {
          "output_type": "stream",
          "name": "stderr",
          "text": [
            "742it [02:31,  4.92it/s]"
          ]
        },
        {
          "output_type": "stream",
          "name": "stdout",
          "text": [
            "| epoch   1 |   740/  891 batches | accuracy    0.848 | loss    0.444 | zero gradients percentage    0.993\n"
          ]
        },
        {
          "output_type": "stream",
          "name": "stderr",
          "text": [
            "751it [02:33,  3.90it/s]"
          ]
        },
        {
          "output_type": "stream",
          "name": "stdout",
          "text": [
            "| epoch   1 |   750/  891 batches | accuracy    0.869 | loss    0.378 | zero gradients percentage    0.993\n"
          ]
        },
        {
          "output_type": "stream",
          "name": "stderr",
          "text": [
            "762it [02:35,  5.33it/s]"
          ]
        },
        {
          "output_type": "stream",
          "name": "stdout",
          "text": [
            "| epoch   1 |   760/  891 batches | accuracy    0.870 | loss    0.401 | zero gradients percentage    0.993\n"
          ]
        },
        {
          "output_type": "stream",
          "name": "stderr",
          "text": [
            "772it [02:37,  4.98it/s]"
          ]
        },
        {
          "output_type": "stream",
          "name": "stdout",
          "text": [
            "| epoch   1 |   770/  891 batches | accuracy    0.841 | loss    0.448 | zero gradients percentage    0.993\n"
          ]
        },
        {
          "output_type": "stream",
          "name": "stderr",
          "text": [
            "782it [02:39,  5.26it/s]"
          ]
        },
        {
          "output_type": "stream",
          "name": "stdout",
          "text": [
            "| epoch   1 |   780/  891 batches | accuracy    0.866 | loss    0.428 | zero gradients percentage    0.993\n"
          ]
        },
        {
          "output_type": "stream",
          "name": "stderr",
          "text": [
            "792it [02:41,  5.21it/s]"
          ]
        },
        {
          "output_type": "stream",
          "name": "stdout",
          "text": [
            "| epoch   1 |   790/  891 batches | accuracy    0.854 | loss    0.449 | zero gradients percentage    0.993\n"
          ]
        },
        {
          "output_type": "stream",
          "name": "stderr",
          "text": [
            "801it [02:43,  5.18it/s]"
          ]
        },
        {
          "output_type": "stream",
          "name": "stdout",
          "text": [
            "| epoch   1 |   800/  891 batches | accuracy    0.861 | loss    0.397 | zero gradients percentage    0.993\n"
          ]
        },
        {
          "output_type": "stream",
          "name": "stderr",
          "text": [
            "811it [02:45,  4.41it/s]"
          ]
        },
        {
          "output_type": "stream",
          "name": "stdout",
          "text": [
            "| epoch   1 |   810/  891 batches | accuracy    0.849 | loss    0.413 | zero gradients percentage    0.992\n"
          ]
        },
        {
          "output_type": "stream",
          "name": "stderr",
          "text": [
            "822it [02:47,  5.04it/s]"
          ]
        },
        {
          "output_type": "stream",
          "name": "stdout",
          "text": [
            "| epoch   1 |   820/  891 batches | accuracy    0.857 | loss    0.374 | zero gradients percentage    0.992\n"
          ]
        },
        {
          "output_type": "stream",
          "name": "stderr",
          "text": [
            "831it [02:49,  5.17it/s]"
          ]
        },
        {
          "output_type": "stream",
          "name": "stdout",
          "text": [
            "| epoch   1 |   830/  891 batches | accuracy    0.843 | loss    0.442 | zero gradients percentage    0.992\n"
          ]
        },
        {
          "output_type": "stream",
          "name": "stderr",
          "text": [
            "841it [02:51,  5.00it/s]"
          ]
        },
        {
          "output_type": "stream",
          "name": "stdout",
          "text": [
            "| epoch   1 |   840/  891 batches | accuracy    0.862 | loss    0.411 | zero gradients percentage    0.992\n"
          ]
        },
        {
          "output_type": "stream",
          "name": "stderr",
          "text": [
            "851it [02:53,  5.12it/s]"
          ]
        },
        {
          "output_type": "stream",
          "name": "stdout",
          "text": [
            "| epoch   1 |   850/  891 batches | accuracy    0.838 | loss    0.479 | zero gradients percentage    0.992\n"
          ]
        },
        {
          "output_type": "stream",
          "name": "stderr",
          "text": [
            "861it [02:55,  5.43it/s]"
          ]
        },
        {
          "output_type": "stream",
          "name": "stdout",
          "text": [
            "| epoch   1 |   860/  891 batches | accuracy    0.845 | loss    0.419 | zero gradients percentage    0.992\n"
          ]
        },
        {
          "output_type": "stream",
          "name": "stderr",
          "text": [
            "871it [02:57,  4.48it/s]"
          ]
        },
        {
          "output_type": "stream",
          "name": "stdout",
          "text": [
            "| epoch   1 |   870/  891 batches | accuracy    0.838 | loss    0.458 | zero gradients percentage    0.992\n"
          ]
        },
        {
          "output_type": "stream",
          "name": "stderr",
          "text": [
            "882it [03:00,  4.84it/s]"
          ]
        },
        {
          "output_type": "stream",
          "name": "stdout",
          "text": [
            "| epoch   1 |   880/  891 batches | accuracy    0.843 | loss    0.442 | zero gradients percentage    0.992\n"
          ]
        },
        {
          "output_type": "stream",
          "name": "stderr",
          "text": [
            "891it [03:01,  4.90it/s]\n"
          ]
        },
        {
          "output_type": "stream",
          "name": "stdout",
          "text": [
            "| epoch   1 |   890/  891 batches | accuracy    0.864 | loss    0.378 | zero gradients percentage    0.992\n",
            "-----------------------------------------------------------\n",
            "| end of epoch   1 | time: 183.01s | valid accuracy    0.858 \n",
            "-----------------------------------------------------------\n"
          ]
        },
        {
          "output_type": "stream",
          "name": "stderr",
          "text": [
            "12it [00:02,  5.25it/s]"
          ]
        },
        {
          "output_type": "stream",
          "name": "stdout",
          "text": [
            "| epoch   2 |    10/  891 batches | accuracy    0.877 | loss    0.357 | zero gradients percentage    0.993\n"
          ]
        },
        {
          "output_type": "stream",
          "name": "stderr",
          "text": [
            "22it [00:04,  5.04it/s]"
          ]
        },
        {
          "output_type": "stream",
          "name": "stdout",
          "text": [
            "| epoch   2 |    20/  891 batches | accuracy    0.880 | loss    0.371 | zero gradients percentage    0.993\n"
          ]
        },
        {
          "output_type": "stream",
          "name": "stderr",
          "text": [
            "32it [00:06,  5.42it/s]"
          ]
        },
        {
          "output_type": "stream",
          "name": "stdout",
          "text": [
            "| epoch   2 |    30/  891 batches | accuracy    0.857 | loss    0.414 | zero gradients percentage    0.993\n"
          ]
        },
        {
          "output_type": "stream",
          "name": "stderr",
          "text": [
            "41it [00:08,  3.97it/s]"
          ]
        },
        {
          "output_type": "stream",
          "name": "stdout",
          "text": [
            "| epoch   2 |    40/  891 batches | accuracy    0.886 | loss    0.342 | zero gradients percentage    0.993\n"
          ]
        },
        {
          "output_type": "stream",
          "name": "stderr",
          "text": [
            "52it [00:10,  5.13it/s]"
          ]
        },
        {
          "output_type": "stream",
          "name": "stdout",
          "text": [
            "| epoch   2 |    50/  891 batches | accuracy    0.875 | loss    0.383 | zero gradients percentage    0.993\n"
          ]
        },
        {
          "output_type": "stream",
          "name": "stderr",
          "text": [
            "61it [00:12,  5.26it/s]"
          ]
        },
        {
          "output_type": "stream",
          "name": "stdout",
          "text": [
            "| epoch   2 |    60/  891 batches | accuracy    0.865 | loss    0.398 | zero gradients percentage    0.993\n"
          ]
        },
        {
          "output_type": "stream",
          "name": "stderr",
          "text": [
            "72it [00:14,  5.26it/s]"
          ]
        },
        {
          "output_type": "stream",
          "name": "stdout",
          "text": [
            "| epoch   2 |    70/  891 batches | accuracy    0.868 | loss    0.387 | zero gradients percentage    0.993\n"
          ]
        },
        {
          "output_type": "stream",
          "name": "stderr",
          "text": [
            "81it [00:16,  4.82it/s]"
          ]
        },
        {
          "output_type": "stream",
          "name": "stdout",
          "text": [
            "| epoch   2 |    80/  891 batches | accuracy    0.873 | loss    0.365 | zero gradients percentage    0.993\n"
          ]
        },
        {
          "output_type": "stream",
          "name": "stderr",
          "text": [
            "92it [00:18,  5.24it/s]"
          ]
        },
        {
          "output_type": "stream",
          "name": "stdout",
          "text": [
            "| epoch   2 |    90/  891 batches | accuracy    0.884 | loss    0.372 | zero gradients percentage    0.992\n"
          ]
        },
        {
          "output_type": "stream",
          "name": "stderr",
          "text": [
            "102it [00:21,  4.17it/s]"
          ]
        },
        {
          "output_type": "stream",
          "name": "stdout",
          "text": [
            "| epoch   2 |   100/  891 batches | accuracy    0.894 | loss    0.339 | zero gradients percentage    0.992\n"
          ]
        },
        {
          "output_type": "stream",
          "name": "stderr",
          "text": [
            "112it [00:23,  5.19it/s]"
          ]
        },
        {
          "output_type": "stream",
          "name": "stdout",
          "text": [
            "| epoch   2 |   110/  891 batches | accuracy    0.869 | loss    0.389 | zero gradients percentage    0.992\n"
          ]
        },
        {
          "output_type": "stream",
          "name": "stderr",
          "text": [
            "121it [00:25,  4.94it/s]"
          ]
        },
        {
          "output_type": "stream",
          "name": "stdout",
          "text": [
            "| epoch   2 |   120/  891 batches | accuracy    0.886 | loss    0.349 | zero gradients percentage    0.992\n"
          ]
        },
        {
          "output_type": "stream",
          "name": "stderr",
          "text": [
            "131it [00:27,  4.89it/s]"
          ]
        },
        {
          "output_type": "stream",
          "name": "stdout",
          "text": [
            "| epoch   2 |   130/  891 batches | accuracy    0.882 | loss    0.353 | zero gradients percentage    0.992\n"
          ]
        },
        {
          "output_type": "stream",
          "name": "stderr",
          "text": [
            "142it [00:29,  5.16it/s]"
          ]
        },
        {
          "output_type": "stream",
          "name": "stdout",
          "text": [
            "| epoch   2 |   140/  891 batches | accuracy    0.866 | loss    0.382 | zero gradients percentage    0.992\n"
          ]
        },
        {
          "output_type": "stream",
          "name": "stderr",
          "text": [
            "151it [00:31,  4.76it/s]"
          ]
        },
        {
          "output_type": "stream",
          "name": "stdout",
          "text": [
            "| epoch   2 |   150/  891 batches | accuracy    0.872 | loss    0.366 | zero gradients percentage    0.992\n"
          ]
        },
        {
          "output_type": "stream",
          "name": "stderr",
          "text": [
            "162it [00:33,  4.53it/s]"
          ]
        },
        {
          "output_type": "stream",
          "name": "stdout",
          "text": [
            "| epoch   2 |   160/  891 batches | accuracy    0.881 | loss    0.336 | zero gradients percentage    0.992\n"
          ]
        },
        {
          "output_type": "stream",
          "name": "stderr",
          "text": [
            "171it [00:35,  5.07it/s]"
          ]
        },
        {
          "output_type": "stream",
          "name": "stdout",
          "text": [
            "| epoch   2 |   170/  891 batches | accuracy    0.895 | loss    0.320 | zero gradients percentage    0.992\n"
          ]
        },
        {
          "output_type": "stream",
          "name": "stderr",
          "text": [
            "182it [00:37,  4.93it/s]"
          ]
        },
        {
          "output_type": "stream",
          "name": "stdout",
          "text": [
            "| epoch   2 |   180/  891 batches | accuracy    0.877 | loss    0.378 | zero gradients percentage    0.992\n"
          ]
        },
        {
          "output_type": "stream",
          "name": "stderr",
          "text": [
            "192it [00:39,  5.20it/s]"
          ]
        },
        {
          "output_type": "stream",
          "name": "stdout",
          "text": [
            "| epoch   2 |   190/  891 batches | accuracy    0.884 | loss    0.376 | zero gradients percentage    0.992\n"
          ]
        },
        {
          "output_type": "stream",
          "name": "stderr",
          "text": [
            "201it [00:41,  5.29it/s]"
          ]
        },
        {
          "output_type": "stream",
          "name": "stdout",
          "text": [
            "| epoch   2 |   200/  891 batches | accuracy    0.873 | loss    0.350 | zero gradients percentage    0.992\n"
          ]
        },
        {
          "output_type": "stream",
          "name": "stderr",
          "text": [
            "211it [00:43,  4.88it/s]"
          ]
        },
        {
          "output_type": "stream",
          "name": "stdout",
          "text": [
            "| epoch   2 |   210/  891 batches | accuracy    0.864 | loss    0.375 | zero gradients percentage    0.992\n"
          ]
        },
        {
          "output_type": "stream",
          "name": "stderr",
          "text": [
            "222it [00:45,  4.79it/s]"
          ]
        },
        {
          "output_type": "stream",
          "name": "stdout",
          "text": [
            "| epoch   2 |   220/  891 batches | accuracy    0.882 | loss    0.363 | zero gradients percentage    0.992\n"
          ]
        },
        {
          "output_type": "stream",
          "name": "stderr",
          "text": [
            "232it [00:47,  5.39it/s]"
          ]
        },
        {
          "output_type": "stream",
          "name": "stdout",
          "text": [
            "| epoch   2 |   230/  891 batches | accuracy    0.889 | loss    0.332 | zero gradients percentage    0.992\n"
          ]
        },
        {
          "output_type": "stream",
          "name": "stderr",
          "text": [
            "242it [00:49,  5.42it/s]"
          ]
        },
        {
          "output_type": "stream",
          "name": "stdout",
          "text": [
            "| epoch   2 |   240/  891 batches | accuracy    0.889 | loss    0.339 | zero gradients percentage    0.992\n"
          ]
        },
        {
          "output_type": "stream",
          "name": "stderr",
          "text": [
            "252it [00:51,  5.19it/s]"
          ]
        },
        {
          "output_type": "stream",
          "name": "stdout",
          "text": [
            "| epoch   2 |   250/  891 batches | accuracy    0.877 | loss    0.377 | zero gradients percentage    0.992\n"
          ]
        },
        {
          "output_type": "stream",
          "name": "stderr",
          "text": [
            "261it [00:53,  5.22it/s]"
          ]
        },
        {
          "output_type": "stream",
          "name": "stdout",
          "text": [
            "| epoch   2 |   260/  891 batches | accuracy    0.884 | loss    0.344 | zero gradients percentage    0.992\n"
          ]
        },
        {
          "output_type": "stream",
          "name": "stderr",
          "text": [
            "271it [00:55,  5.24it/s]"
          ]
        },
        {
          "output_type": "stream",
          "name": "stdout",
          "text": [
            "| epoch   2 |   270/  891 batches | accuracy    0.873 | loss    0.357 | zero gradients percentage    0.992\n"
          ]
        },
        {
          "output_type": "stream",
          "name": "stderr",
          "text": [
            "281it [00:57,  4.47it/s]"
          ]
        },
        {
          "output_type": "stream",
          "name": "stdout",
          "text": [
            "| epoch   2 |   280/  891 batches | accuracy    0.876 | loss    0.365 | zero gradients percentage    0.992\n"
          ]
        },
        {
          "output_type": "stream",
          "name": "stderr",
          "text": [
            "292it [00:59,  5.28it/s]"
          ]
        },
        {
          "output_type": "stream",
          "name": "stdout",
          "text": [
            "| epoch   2 |   290/  891 batches | accuracy    0.876 | loss    0.349 | zero gradients percentage    0.992\n"
          ]
        },
        {
          "output_type": "stream",
          "name": "stderr",
          "text": [
            "302it [01:01,  5.28it/s]"
          ]
        },
        {
          "output_type": "stream",
          "name": "stdout",
          "text": [
            "| epoch   2 |   300/  891 batches | accuracy    0.895 | loss    0.327 | zero gradients percentage    0.992\n"
          ]
        },
        {
          "output_type": "stream",
          "name": "stderr",
          "text": [
            "312it [01:03,  5.16it/s]"
          ]
        },
        {
          "output_type": "stream",
          "name": "stdout",
          "text": [
            "| epoch   2 |   310/  891 batches | accuracy    0.874 | loss    0.360 | zero gradients percentage    0.992\n"
          ]
        },
        {
          "output_type": "stream",
          "name": "stderr",
          "text": [
            "322it [01:05,  5.15it/s]"
          ]
        },
        {
          "output_type": "stream",
          "name": "stdout",
          "text": [
            "| epoch   2 |   320/  891 batches | accuracy    0.864 | loss    0.368 | zero gradients percentage    0.992\n"
          ]
        },
        {
          "output_type": "stream",
          "name": "stderr",
          "text": [
            "332it [01:07,  5.10it/s]"
          ]
        },
        {
          "output_type": "stream",
          "name": "stdout",
          "text": [
            "| epoch   2 |   330/  891 batches | accuracy    0.873 | loss    0.391 | zero gradients percentage    0.992\n"
          ]
        },
        {
          "output_type": "stream",
          "name": "stderr",
          "text": [
            "341it [01:09,  4.14it/s]"
          ]
        },
        {
          "output_type": "stream",
          "name": "stdout",
          "text": [
            "| epoch   2 |   340/  891 batches | accuracy    0.884 | loss    0.325 | zero gradients percentage    0.992\n"
          ]
        },
        {
          "output_type": "stream",
          "name": "stderr",
          "text": [
            "352it [01:12,  4.90it/s]"
          ]
        },
        {
          "output_type": "stream",
          "name": "stdout",
          "text": [
            "| epoch   2 |   350/  891 batches | accuracy    0.869 | loss    0.377 | zero gradients percentage    0.992\n"
          ]
        },
        {
          "output_type": "stream",
          "name": "stderr",
          "text": [
            "362it [01:14,  5.30it/s]"
          ]
        },
        {
          "output_type": "stream",
          "name": "stdout",
          "text": [
            "| epoch   2 |   360/  891 batches | accuracy    0.884 | loss    0.352 | zero gradients percentage    0.992\n"
          ]
        },
        {
          "output_type": "stream",
          "name": "stderr",
          "text": [
            "372it [01:15,  5.08it/s]"
          ]
        },
        {
          "output_type": "stream",
          "name": "stdout",
          "text": [
            "| epoch   2 |   370/  891 batches | accuracy    0.873 | loss    0.362 | zero gradients percentage    0.992\n"
          ]
        },
        {
          "output_type": "stream",
          "name": "stderr",
          "text": [
            "381it [01:17,  5.49it/s]"
          ]
        },
        {
          "output_type": "stream",
          "name": "stdout",
          "text": [
            "| epoch   2 |   380/  891 batches | accuracy    0.881 | loss    0.344 | zero gradients percentage    0.992\n"
          ]
        },
        {
          "output_type": "stream",
          "name": "stderr",
          "text": [
            "392it [01:19,  5.05it/s]"
          ]
        },
        {
          "output_type": "stream",
          "name": "stdout",
          "text": [
            "| epoch   2 |   390/  891 batches | accuracy    0.870 | loss    0.399 | zero gradients percentage    0.992\n"
          ]
        },
        {
          "output_type": "stream",
          "name": "stderr",
          "text": [
            "401it [01:21,  4.50it/s]"
          ]
        },
        {
          "output_type": "stream",
          "name": "stdout",
          "text": [
            "| epoch   2 |   400/  891 batches | accuracy    0.878 | loss    0.385 | zero gradients percentage    0.992\n"
          ]
        },
        {
          "output_type": "stream",
          "name": "stderr",
          "text": [
            "411it [01:24,  3.88it/s]"
          ]
        },
        {
          "output_type": "stream",
          "name": "stdout",
          "text": [
            "| epoch   2 |   410/  891 batches | accuracy    0.870 | loss    0.384 | zero gradients percentage    0.992\n"
          ]
        },
        {
          "output_type": "stream",
          "name": "stderr",
          "text": [
            "422it [01:26,  5.42it/s]"
          ]
        },
        {
          "output_type": "stream",
          "name": "stdout",
          "text": [
            "| epoch   2 |   420/  891 batches | accuracy    0.887 | loss    0.320 | zero gradients percentage    0.992\n"
          ]
        },
        {
          "output_type": "stream",
          "name": "stderr",
          "text": [
            "431it [01:28,  5.05it/s]"
          ]
        },
        {
          "output_type": "stream",
          "name": "stdout",
          "text": [
            "| epoch   2 |   430/  891 batches | accuracy    0.884 | loss    0.357 | zero gradients percentage    0.992\n"
          ]
        },
        {
          "output_type": "stream",
          "name": "stderr",
          "text": [
            "442it [01:30,  5.34it/s]"
          ]
        },
        {
          "output_type": "stream",
          "name": "stdout",
          "text": [
            "| epoch   2 |   440/  891 batches | accuracy    0.882 | loss    0.368 | zero gradients percentage    0.992\n"
          ]
        },
        {
          "output_type": "stream",
          "name": "stderr",
          "text": [
            "452it [01:31,  5.46it/s]"
          ]
        },
        {
          "output_type": "stream",
          "name": "stdout",
          "text": [
            "| epoch   2 |   450/  891 batches | accuracy    0.890 | loss    0.333 | zero gradients percentage    0.992\n"
          ]
        },
        {
          "output_type": "stream",
          "name": "stderr",
          "text": [
            "461it [01:33,  5.36it/s]"
          ]
        },
        {
          "output_type": "stream",
          "name": "stdout",
          "text": [
            "| epoch   2 |   460/  891 batches | accuracy    0.876 | loss    0.349 | zero gradients percentage    0.992\n"
          ]
        },
        {
          "output_type": "stream",
          "name": "stderr",
          "text": [
            "471it [01:36,  3.60it/s]"
          ]
        },
        {
          "output_type": "stream",
          "name": "stdout",
          "text": [
            "| epoch   2 |   470/  891 batches | accuracy    0.884 | loss    0.324 | zero gradients percentage    0.992\n"
          ]
        },
        {
          "output_type": "stream",
          "name": "stderr",
          "text": [
            "482it [01:38,  5.16it/s]"
          ]
        },
        {
          "output_type": "stream",
          "name": "stdout",
          "text": [
            "| epoch   2 |   480/  891 batches | accuracy    0.878 | loss    0.362 | zero gradients percentage    0.992\n"
          ]
        },
        {
          "output_type": "stream",
          "name": "stderr",
          "text": [
            "492it [01:40,  5.52it/s]"
          ]
        },
        {
          "output_type": "stream",
          "name": "stdout",
          "text": [
            "| epoch   2 |   490/  891 batches | accuracy    0.880 | loss    0.340 | zero gradients percentage    0.992\n"
          ]
        },
        {
          "output_type": "stream",
          "name": "stderr",
          "text": [
            "502it [01:42,  5.23it/s]"
          ]
        },
        {
          "output_type": "stream",
          "name": "stdout",
          "text": [
            "| epoch   2 |   500/  891 batches | accuracy    0.883 | loss    0.351 | zero gradients percentage    0.992\n"
          ]
        },
        {
          "output_type": "stream",
          "name": "stderr",
          "text": [
            "512it [01:44,  5.40it/s]"
          ]
        },
        {
          "output_type": "stream",
          "name": "stdout",
          "text": [
            "| epoch   2 |   510/  891 batches | accuracy    0.885 | loss    0.354 | zero gradients percentage    0.992\n"
          ]
        },
        {
          "output_type": "stream",
          "name": "stderr",
          "text": [
            "522it [01:46,  5.35it/s]"
          ]
        },
        {
          "output_type": "stream",
          "name": "stdout",
          "text": [
            "| epoch   2 |   520/  891 batches | accuracy    0.893 | loss    0.336 | zero gradients percentage    0.992\n"
          ]
        },
        {
          "output_type": "stream",
          "name": "stderr",
          "text": [
            "532it [01:48,  4.10it/s]"
          ]
        },
        {
          "output_type": "stream",
          "name": "stdout",
          "text": [
            "| epoch   2 |   530/  891 batches | accuracy    0.883 | loss    0.361 | zero gradients percentage    0.992\n"
          ]
        },
        {
          "output_type": "stream",
          "name": "stderr",
          "text": [
            "541it [01:50,  5.11it/s]"
          ]
        },
        {
          "output_type": "stream",
          "name": "stdout",
          "text": [
            "| epoch   2 |   540/  891 batches | accuracy    0.866 | loss    0.397 | zero gradients percentage    0.992\n"
          ]
        },
        {
          "output_type": "stream",
          "name": "stderr",
          "text": [
            "552it [01:52,  5.48it/s]"
          ]
        },
        {
          "output_type": "stream",
          "name": "stdout",
          "text": [
            "| epoch   2 |   550/  891 batches | accuracy    0.873 | loss    0.345 | zero gradients percentage    0.992\n"
          ]
        },
        {
          "output_type": "stream",
          "name": "stderr",
          "text": [
            "562it [01:54,  5.28it/s]"
          ]
        },
        {
          "output_type": "stream",
          "name": "stdout",
          "text": [
            "| epoch   2 |   560/  891 batches | accuracy    0.881 | loss    0.352 | zero gradients percentage    0.992\n"
          ]
        },
        {
          "output_type": "stream",
          "name": "stderr",
          "text": [
            "572it [01:56,  5.57it/s]"
          ]
        },
        {
          "output_type": "stream",
          "name": "stdout",
          "text": [
            "| epoch   2 |   570/  891 batches | accuracy    0.881 | loss    0.371 | zero gradients percentage    0.992\n"
          ]
        },
        {
          "output_type": "stream",
          "name": "stderr",
          "text": [
            "581it [01:58,  5.25it/s]"
          ]
        },
        {
          "output_type": "stream",
          "name": "stdout",
          "text": [
            "| epoch   2 |   580/  891 batches | accuracy    0.883 | loss    0.328 | zero gradients percentage    0.992\n"
          ]
        },
        {
          "output_type": "stream",
          "name": "stderr",
          "text": [
            "591it [02:00,  3.89it/s]"
          ]
        },
        {
          "output_type": "stream",
          "name": "stdout",
          "text": [
            "| epoch   2 |   590/  891 batches | accuracy    0.881 | loss    0.349 | zero gradients percentage    0.992\n"
          ]
        },
        {
          "output_type": "stream",
          "name": "stderr",
          "text": [
            "602it [02:02,  5.30it/s]"
          ]
        },
        {
          "output_type": "stream",
          "name": "stdout",
          "text": [
            "| epoch   2 |   600/  891 batches | accuracy    0.898 | loss    0.304 | zero gradients percentage    0.992\n"
          ]
        },
        {
          "output_type": "stream",
          "name": "stderr",
          "text": [
            "611it [02:04,  4.61it/s]"
          ]
        },
        {
          "output_type": "stream",
          "name": "stdout",
          "text": [
            "| epoch   2 |   610/  891 batches | accuracy    0.881 | loss    0.340 | zero gradients percentage    0.992\n"
          ]
        },
        {
          "output_type": "stream",
          "name": "stderr",
          "text": [
            "622it [02:06,  5.28it/s]"
          ]
        },
        {
          "output_type": "stream",
          "name": "stdout",
          "text": [
            "| epoch   2 |   620/  891 batches | accuracy    0.888 | loss    0.358 | zero gradients percentage    0.992\n"
          ]
        },
        {
          "output_type": "stream",
          "name": "stderr",
          "text": [
            "632it [02:08,  5.23it/s]"
          ]
        },
        {
          "output_type": "stream",
          "name": "stdout",
          "text": [
            "| epoch   2 |   630/  891 batches | accuracy    0.868 | loss    0.360 | zero gradients percentage    0.992\n"
          ]
        },
        {
          "output_type": "stream",
          "name": "stderr",
          "text": [
            "642it [02:10,  5.25it/s]"
          ]
        },
        {
          "output_type": "stream",
          "name": "stdout",
          "text": [
            "| epoch   2 |   640/  891 batches | accuracy    0.886 | loss    0.331 | zero gradients percentage    0.992\n"
          ]
        },
        {
          "output_type": "stream",
          "name": "stderr",
          "text": [
            "651it [02:12,  3.64it/s]"
          ]
        },
        {
          "output_type": "stream",
          "name": "stdout",
          "text": [
            "| epoch   2 |   650/  891 batches | accuracy    0.869 | loss    0.371 | zero gradients percentage    0.992\n"
          ]
        },
        {
          "output_type": "stream",
          "name": "stderr",
          "text": [
            "662it [02:15,  5.03it/s]"
          ]
        },
        {
          "output_type": "stream",
          "name": "stdout",
          "text": [
            "| epoch   2 |   660/  891 batches | accuracy    0.889 | loss    0.328 | zero gradients percentage    0.992\n"
          ]
        },
        {
          "output_type": "stream",
          "name": "stderr",
          "text": [
            "672it [02:17,  5.06it/s]"
          ]
        },
        {
          "output_type": "stream",
          "name": "stdout",
          "text": [
            "| epoch   2 |   670/  891 batches | accuracy    0.878 | loss    0.370 | zero gradients percentage    0.992\n"
          ]
        },
        {
          "output_type": "stream",
          "name": "stderr",
          "text": [
            "682it [02:19,  5.28it/s]"
          ]
        },
        {
          "output_type": "stream",
          "name": "stdout",
          "text": [
            "| epoch   2 |   680/  891 batches | accuracy    0.867 | loss    0.376 | zero gradients percentage    0.992\n"
          ]
        },
        {
          "output_type": "stream",
          "name": "stderr",
          "text": [
            "692it [02:21,  5.27it/s]"
          ]
        },
        {
          "output_type": "stream",
          "name": "stdout",
          "text": [
            "| epoch   2 |   690/  891 batches | accuracy    0.861 | loss    0.397 | zero gradients percentage    0.992\n"
          ]
        },
        {
          "output_type": "stream",
          "name": "stderr",
          "text": [
            "702it [02:23,  5.38it/s]"
          ]
        },
        {
          "output_type": "stream",
          "name": "stdout",
          "text": [
            "| epoch   2 |   700/  891 batches | accuracy    0.879 | loss    0.345 | zero gradients percentage    0.992\n"
          ]
        },
        {
          "output_type": "stream",
          "name": "stderr",
          "text": [
            "711it [02:24,  4.80it/s]"
          ]
        },
        {
          "output_type": "stream",
          "name": "stdout",
          "text": [
            "| epoch   2 |   710/  891 batches | accuracy    0.892 | loss    0.304 | zero gradients percentage    0.992\n"
          ]
        },
        {
          "output_type": "stream",
          "name": "stderr",
          "text": [
            "721it [02:27,  4.17it/s]"
          ]
        },
        {
          "output_type": "stream",
          "name": "stdout",
          "text": [
            "| epoch   2 |   720/  891 batches | accuracy    0.865 | loss    0.373 | zero gradients percentage    0.992\n"
          ]
        },
        {
          "output_type": "stream",
          "name": "stderr",
          "text": [
            "732it [02:29,  5.28it/s]"
          ]
        },
        {
          "output_type": "stream",
          "name": "stdout",
          "text": [
            "| epoch   2 |   730/  891 batches | accuracy    0.881 | loss    0.342 | zero gradients percentage    0.992\n"
          ]
        },
        {
          "output_type": "stream",
          "name": "stderr",
          "text": [
            "742it [02:31,  5.38it/s]"
          ]
        },
        {
          "output_type": "stream",
          "name": "stdout",
          "text": [
            "| epoch   2 |   740/  891 batches | accuracy    0.877 | loss    0.352 | zero gradients percentage    0.992\n"
          ]
        },
        {
          "output_type": "stream",
          "name": "stderr",
          "text": [
            "752it [02:33,  5.14it/s]"
          ]
        },
        {
          "output_type": "stream",
          "name": "stdout",
          "text": [
            "| epoch   2 |   750/  891 batches | accuracy    0.887 | loss    0.327 | zero gradients percentage    0.992\n"
          ]
        },
        {
          "output_type": "stream",
          "name": "stderr",
          "text": [
            "762it [02:35,  5.45it/s]"
          ]
        },
        {
          "output_type": "stream",
          "name": "stdout",
          "text": [
            "| epoch   2 |   760/  891 batches | accuracy    0.870 | loss    0.336 | zero gradients percentage    0.992\n"
          ]
        },
        {
          "output_type": "stream",
          "name": "stderr",
          "text": [
            "772it [02:37,  5.39it/s]"
          ]
        },
        {
          "output_type": "stream",
          "name": "stdout",
          "text": [
            "| epoch   2 |   770/  891 batches | accuracy    0.881 | loss    0.332 | zero gradients percentage    0.992\n"
          ]
        },
        {
          "output_type": "stream",
          "name": "stderr",
          "text": [
            "781it [02:39,  3.84it/s]"
          ]
        },
        {
          "output_type": "stream",
          "name": "stdout",
          "text": [
            "| epoch   2 |   780/  891 batches | accuracy    0.905 | loss    0.290 | zero gradients percentage    0.992\n"
          ]
        },
        {
          "output_type": "stream",
          "name": "stderr",
          "text": [
            "792it [02:41,  5.33it/s]"
          ]
        },
        {
          "output_type": "stream",
          "name": "stdout",
          "text": [
            "| epoch   2 |   790/  891 batches | accuracy    0.891 | loss    0.353 | zero gradients percentage    0.992\n"
          ]
        },
        {
          "output_type": "stream",
          "name": "stderr",
          "text": [
            "802it [02:43,  5.31it/s]"
          ]
        },
        {
          "output_type": "stream",
          "name": "stdout",
          "text": [
            "| epoch   2 |   800/  891 batches | accuracy    0.880 | loss    0.360 | zero gradients percentage    0.992\n"
          ]
        },
        {
          "output_type": "stream",
          "name": "stderr",
          "text": [
            "812it [02:45,  5.02it/s]"
          ]
        },
        {
          "output_type": "stream",
          "name": "stdout",
          "text": [
            "| epoch   2 |   810/  891 batches | accuracy    0.884 | loss    0.360 | zero gradients percentage    0.992\n"
          ]
        },
        {
          "output_type": "stream",
          "name": "stderr",
          "text": [
            "822it [02:47,  5.13it/s]"
          ]
        },
        {
          "output_type": "stream",
          "name": "stdout",
          "text": [
            "| epoch   2 |   820/  891 batches | accuracy    0.877 | loss    0.339 | zero gradients percentage    0.992\n"
          ]
        },
        {
          "output_type": "stream",
          "name": "stderr",
          "text": [
            "831it [02:49,  5.05it/s]"
          ]
        },
        {
          "output_type": "stream",
          "name": "stdout",
          "text": [
            "| epoch   2 |   830/  891 batches | accuracy    0.870 | loss    0.384 | zero gradients percentage    0.992\n"
          ]
        },
        {
          "output_type": "stream",
          "name": "stderr",
          "text": [
            "841it [02:51,  3.72it/s]"
          ]
        },
        {
          "output_type": "stream",
          "name": "stdout",
          "text": [
            "| epoch   2 |   840/  891 batches | accuracy    0.874 | loss    0.344 | zero gradients percentage    0.992\n"
          ]
        },
        {
          "output_type": "stream",
          "name": "stderr",
          "text": [
            "851it [02:53,  5.36it/s]"
          ]
        },
        {
          "output_type": "stream",
          "name": "stdout",
          "text": [
            "| epoch   2 |   850/  891 batches | accuracy    0.891 | loss    0.339 | zero gradients percentage    0.992\n"
          ]
        },
        {
          "output_type": "stream",
          "name": "stderr",
          "text": [
            "862it [02:55,  5.38it/s]"
          ]
        },
        {
          "output_type": "stream",
          "name": "stdout",
          "text": [
            "| epoch   2 |   860/  891 batches | accuracy    0.888 | loss    0.334 | zero gradients percentage    0.992\n"
          ]
        },
        {
          "output_type": "stream",
          "name": "stderr",
          "text": [
            "872it [02:57,  5.30it/s]"
          ]
        },
        {
          "output_type": "stream",
          "name": "stdout",
          "text": [
            "| epoch   2 |   870/  891 batches | accuracy    0.865 | loss    0.390 | zero gradients percentage    0.992\n"
          ]
        },
        {
          "output_type": "stream",
          "name": "stderr",
          "text": [
            "882it [02:59,  5.23it/s]"
          ]
        },
        {
          "output_type": "stream",
          "name": "stdout",
          "text": [
            "| epoch   2 |   880/  891 batches | accuracy    0.873 | loss    0.351 | zero gradients percentage    0.992\n"
          ]
        },
        {
          "output_type": "stream",
          "name": "stderr",
          "text": [
            "891it [03:01,  4.91it/s]\n"
          ]
        },
        {
          "output_type": "stream",
          "name": "stdout",
          "text": [
            "| epoch   2 |   890/  891 batches | accuracy    0.873 | loss    0.389 | zero gradients percentage    0.992\n",
            "-----------------------------------------------------------\n",
            "| end of epoch   2 | time: 182.68s | valid accuracy    0.872 \n",
            "-----------------------------------------------------------\n"
          ]
        },
        {
          "output_type": "stream",
          "name": "stderr",
          "text": [
            "11it [00:02,  3.90it/s]"
          ]
        },
        {
          "output_type": "stream",
          "name": "stdout",
          "text": [
            "| epoch   3 |    10/  891 batches | accuracy    0.882 | loss    0.322 | zero gradients percentage    0.992\n"
          ]
        },
        {
          "output_type": "stream",
          "name": "stderr",
          "text": [
            "22it [00:04,  5.20it/s]"
          ]
        },
        {
          "output_type": "stream",
          "name": "stdout",
          "text": [
            "| epoch   3 |    20/  891 batches | accuracy    0.876 | loss    0.337 | zero gradients percentage    0.992\n"
          ]
        },
        {
          "output_type": "stream",
          "name": "stderr",
          "text": [
            "32it [00:06,  5.47it/s]"
          ]
        },
        {
          "output_type": "stream",
          "name": "stdout",
          "text": [
            "| epoch   3 |    30/  891 batches | accuracy    0.902 | loss    0.289 | zero gradients percentage    0.992\n"
          ]
        },
        {
          "output_type": "stream",
          "name": "stderr",
          "text": [
            "42it [00:08,  4.96it/s]"
          ]
        },
        {
          "output_type": "stream",
          "name": "stdout",
          "text": [
            "| epoch   3 |    40/  891 batches | accuracy    0.881 | loss    0.337 | zero gradients percentage    0.992\n"
          ]
        },
        {
          "output_type": "stream",
          "name": "stderr",
          "text": [
            "51it [00:10,  4.89it/s]"
          ]
        },
        {
          "output_type": "stream",
          "name": "stdout",
          "text": [
            "| epoch   3 |    50/  891 batches | accuracy    0.887 | loss    0.317 | zero gradients percentage    0.992\n"
          ]
        },
        {
          "output_type": "stream",
          "name": "stderr",
          "text": [
            "62it [00:12,  5.37it/s]"
          ]
        },
        {
          "output_type": "stream",
          "name": "stdout",
          "text": [
            "| epoch   3 |    60/  891 batches | accuracy    0.884 | loss    0.336 | zero gradients percentage    0.992\n"
          ]
        },
        {
          "output_type": "stream",
          "name": "stderr",
          "text": [
            "71it [00:14,  3.97it/s]"
          ]
        },
        {
          "output_type": "stream",
          "name": "stdout",
          "text": [
            "| epoch   3 |    70/  891 batches | accuracy    0.897 | loss    0.313 | zero gradients percentage    0.992\n"
          ]
        },
        {
          "output_type": "stream",
          "name": "stderr",
          "text": [
            "81it [00:16,  4.89it/s]"
          ]
        },
        {
          "output_type": "stream",
          "name": "stdout",
          "text": [
            "| epoch   3 |    80/  891 batches | accuracy    0.891 | loss    0.323 | zero gradients percentage    0.992\n"
          ]
        },
        {
          "output_type": "stream",
          "name": "stderr",
          "text": [
            "92it [00:18,  5.63it/s]"
          ]
        },
        {
          "output_type": "stream",
          "name": "stdout",
          "text": [
            "| epoch   3 |    90/  891 batches | accuracy    0.880 | loss    0.363 | zero gradients percentage    0.992\n"
          ]
        },
        {
          "output_type": "stream",
          "name": "stderr",
          "text": [
            "102it [00:20,  5.72it/s]"
          ]
        },
        {
          "output_type": "stream",
          "name": "stdout",
          "text": [
            "| epoch   3 |   100/  891 batches | accuracy    0.890 | loss    0.330 | zero gradients percentage    0.992\n"
          ]
        },
        {
          "output_type": "stream",
          "name": "stderr",
          "text": [
            "111it [00:22,  5.66it/s]"
          ]
        },
        {
          "output_type": "stream",
          "name": "stdout",
          "text": [
            "| epoch   3 |   110/  891 batches | accuracy    0.896 | loss    0.318 | zero gradients percentage    0.992\n"
          ]
        },
        {
          "output_type": "stream",
          "name": "stderr",
          "text": [
            "122it [00:24,  5.79it/s]"
          ]
        },
        {
          "output_type": "stream",
          "name": "stdout",
          "text": [
            "| epoch   3 |   120/  891 batches | accuracy    0.880 | loss    0.350 | zero gradients percentage    0.992\n"
          ]
        },
        {
          "output_type": "stream",
          "name": "stderr",
          "text": [
            "131it [00:26,  4.88it/s]"
          ]
        },
        {
          "output_type": "stream",
          "name": "stdout",
          "text": [
            "| epoch   3 |   130/  891 batches | accuracy    0.884 | loss    0.351 | zero gradients percentage    0.992\n"
          ]
        },
        {
          "output_type": "stream",
          "name": "stderr",
          "text": [
            "142it [00:28,  4.91it/s]"
          ]
        },
        {
          "output_type": "stream",
          "name": "stdout",
          "text": [
            "| epoch   3 |   140/  891 batches | accuracy    0.885 | loss    0.346 | zero gradients percentage    0.992\n"
          ]
        },
        {
          "output_type": "stream",
          "name": "stderr",
          "text": [
            "152it [00:30,  5.72it/s]"
          ]
        },
        {
          "output_type": "stream",
          "name": "stdout",
          "text": [
            "| epoch   3 |   150/  891 batches | accuracy    0.866 | loss    0.371 | zero gradients percentage    0.992\n"
          ]
        },
        {
          "output_type": "stream",
          "name": "stderr",
          "text": [
            "162it [00:32,  5.73it/s]"
          ]
        },
        {
          "output_type": "stream",
          "name": "stdout",
          "text": [
            "| epoch   3 |   160/  891 batches | accuracy    0.892 | loss    0.322 | zero gradients percentage    0.992\n"
          ]
        },
        {
          "output_type": "stream",
          "name": "stderr",
          "text": [
            "172it [00:33,  5.56it/s]"
          ]
        },
        {
          "output_type": "stream",
          "name": "stdout",
          "text": [
            "| epoch   3 |   170/  891 batches | accuracy    0.869 | loss    0.379 | zero gradients percentage    0.992\n"
          ]
        },
        {
          "output_type": "stream",
          "name": "stderr",
          "text": [
            "182it [00:35,  5.31it/s]"
          ]
        },
        {
          "output_type": "stream",
          "name": "stdout",
          "text": [
            "| epoch   3 |   180/  891 batches | accuracy    0.883 | loss    0.337 | zero gradients percentage    0.992\n"
          ]
        },
        {
          "output_type": "stream",
          "name": "stderr",
          "text": [
            "192it [00:37,  5.49it/s]"
          ]
        },
        {
          "output_type": "stream",
          "name": "stdout",
          "text": [
            "| epoch   3 |   190/  891 batches | accuracy    0.889 | loss    0.327 | zero gradients percentage    0.992\n"
          ]
        },
        {
          "output_type": "stream",
          "name": "stderr",
          "text": [
            "201it [00:39,  4.89it/s]"
          ]
        },
        {
          "output_type": "stream",
          "name": "stdout",
          "text": [
            "| epoch   3 |   200/  891 batches | accuracy    0.891 | loss    0.330 | zero gradients percentage    0.992\n"
          ]
        },
        {
          "output_type": "stream",
          "name": "stderr",
          "text": [
            "212it [00:41,  4.56it/s]"
          ]
        },
        {
          "output_type": "stream",
          "name": "stdout",
          "text": [
            "| epoch   3 |   210/  891 batches | accuracy    0.877 | loss    0.403 | zero gradients percentage    0.992\n"
          ]
        },
        {
          "output_type": "stream",
          "name": "stderr",
          "text": [
            "222it [00:43,  5.62it/s]"
          ]
        },
        {
          "output_type": "stream",
          "name": "stdout",
          "text": [
            "| epoch   3 |   220/  891 batches | accuracy    0.890 | loss    0.331 | zero gradients percentage    0.992\n"
          ]
        },
        {
          "output_type": "stream",
          "name": "stderr",
          "text": [
            "231it [00:45,  5.78it/s]"
          ]
        },
        {
          "output_type": "stream",
          "name": "stdout",
          "text": [
            "| epoch   3 |   230/  891 batches | accuracy    0.869 | loss    0.384 | zero gradients percentage    0.992\n"
          ]
        },
        {
          "output_type": "stream",
          "name": "stderr",
          "text": [
            "242it [00:46,  6.05it/s]"
          ]
        },
        {
          "output_type": "stream",
          "name": "stdout",
          "text": [
            "| epoch   3 |   240/  891 batches | accuracy    0.882 | loss    0.331 | zero gradients percentage    0.992\n"
          ]
        },
        {
          "output_type": "stream",
          "name": "stderr",
          "text": [
            "252it [00:48,  5.38it/s]"
          ]
        },
        {
          "output_type": "stream",
          "name": "stdout",
          "text": [
            "| epoch   3 |   250/  891 batches | accuracy    0.901 | loss    0.302 | zero gradients percentage    0.992\n"
          ]
        },
        {
          "output_type": "stream",
          "name": "stderr",
          "text": [
            "262it [00:50,  5.68it/s]"
          ]
        },
        {
          "output_type": "stream",
          "name": "stdout",
          "text": [
            "| epoch   3 |   260/  891 batches | accuracy    0.861 | loss    0.378 | zero gradients percentage    0.992\n"
          ]
        },
        {
          "output_type": "stream",
          "name": "stderr",
          "text": [
            "271it [00:52,  4.79it/s]"
          ]
        },
        {
          "output_type": "stream",
          "name": "stdout",
          "text": [
            "| epoch   3 |   270/  891 batches | accuracy    0.884 | loss    0.337 | zero gradients percentage    0.992\n"
          ]
        },
        {
          "output_type": "stream",
          "name": "stderr",
          "text": [
            "282it [00:54,  4.99it/s]"
          ]
        },
        {
          "output_type": "stream",
          "name": "stdout",
          "text": [
            "| epoch   3 |   280/  891 batches | accuracy    0.870 | loss    0.370 | zero gradients percentage    0.992\n"
          ]
        },
        {
          "output_type": "stream",
          "name": "stderr",
          "text": [
            "291it [00:56,  5.39it/s]"
          ]
        },
        {
          "output_type": "stream",
          "name": "stdout",
          "text": [
            "| epoch   3 |   290/  891 batches | accuracy    0.872 | loss    0.371 | zero gradients percentage    0.992\n"
          ]
        },
        {
          "output_type": "stream",
          "name": "stderr",
          "text": [
            "302it [00:58,  5.20it/s]"
          ]
        },
        {
          "output_type": "stream",
          "name": "stdout",
          "text": [
            "| epoch   3 |   300/  891 batches | accuracy    0.888 | loss    0.353 | zero gradients percentage    0.992\n"
          ]
        },
        {
          "output_type": "stream",
          "name": "stderr",
          "text": [
            "311it [01:00,  5.70it/s]"
          ]
        },
        {
          "output_type": "stream",
          "name": "stdout",
          "text": [
            "| epoch   3 |   310/  891 batches | accuracy    0.890 | loss    0.352 | zero gradients percentage    0.992\n"
          ]
        },
        {
          "output_type": "stream",
          "name": "stderr",
          "text": [
            "322it [01:02,  5.32it/s]"
          ]
        },
        {
          "output_type": "stream",
          "name": "stdout",
          "text": [
            "| epoch   3 |   320/  891 batches | accuracy    0.890 | loss    0.322 | zero gradients percentage    0.992\n"
          ]
        },
        {
          "output_type": "stream",
          "name": "stderr",
          "text": [
            "332it [01:04,  5.68it/s]"
          ]
        },
        {
          "output_type": "stream",
          "name": "stdout",
          "text": [
            "| epoch   3 |   330/  891 batches | accuracy    0.875 | loss    0.360 | zero gradients percentage    0.992\n"
          ]
        },
        {
          "output_type": "stream",
          "name": "stderr",
          "text": [
            "341it [01:06,  4.34it/s]"
          ]
        },
        {
          "output_type": "stream",
          "name": "stdout",
          "text": [
            "| epoch   3 |   340/  891 batches | accuracy    0.894 | loss    0.334 | zero gradients percentage    0.992\n"
          ]
        },
        {
          "output_type": "stream",
          "name": "stderr",
          "text": [
            "352it [01:08,  5.40it/s]"
          ]
        },
        {
          "output_type": "stream",
          "name": "stdout",
          "text": [
            "| epoch   3 |   350/  891 batches | accuracy    0.884 | loss    0.335 | zero gradients percentage    0.992\n"
          ]
        },
        {
          "output_type": "stream",
          "name": "stderr",
          "text": [
            "362it [01:10,  5.36it/s]"
          ]
        },
        {
          "output_type": "stream",
          "name": "stdout",
          "text": [
            "| epoch   3 |   360/  891 batches | accuracy    0.881 | loss    0.337 | zero gradients percentage    0.992\n"
          ]
        },
        {
          "output_type": "stream",
          "name": "stderr",
          "text": [
            "372it [01:11,  5.79it/s]"
          ]
        },
        {
          "output_type": "stream",
          "name": "stdout",
          "text": [
            "| epoch   3 |   370/  891 batches | accuracy    0.878 | loss    0.346 | zero gradients percentage    0.992\n"
          ]
        },
        {
          "output_type": "stream",
          "name": "stderr",
          "text": [
            "382it [01:13,  5.60it/s]"
          ]
        },
        {
          "output_type": "stream",
          "name": "stdout",
          "text": [
            "| epoch   3 |   380/  891 batches | accuracy    0.898 | loss    0.326 | zero gradients percentage    0.992\n"
          ]
        },
        {
          "output_type": "stream",
          "name": "stderr",
          "text": [
            "392it [01:15,  5.74it/s]"
          ]
        },
        {
          "output_type": "stream",
          "name": "stdout",
          "text": [
            "| epoch   3 |   390/  891 batches | accuracy    0.874 | loss    0.359 | zero gradients percentage    0.992\n"
          ]
        },
        {
          "output_type": "stream",
          "name": "stderr",
          "text": [
            "402it [01:17,  5.81it/s]"
          ]
        },
        {
          "output_type": "stream",
          "name": "stdout",
          "text": [
            "| epoch   3 |   400/  891 batches | accuracy    0.893 | loss    0.328 | zero gradients percentage    0.992\n"
          ]
        },
        {
          "output_type": "stream",
          "name": "stderr",
          "text": [
            "411it [01:19,  4.32it/s]"
          ]
        },
        {
          "output_type": "stream",
          "name": "stdout",
          "text": [
            "| epoch   3 |   410/  891 batches | accuracy    0.882 | loss    0.340 | zero gradients percentage    0.992\n"
          ]
        },
        {
          "output_type": "stream",
          "name": "stderr",
          "text": [
            "422it [01:21,  5.50it/s]"
          ]
        },
        {
          "output_type": "stream",
          "name": "stdout",
          "text": [
            "| epoch   3 |   420/  891 batches | accuracy    0.880 | loss    0.365 | zero gradients percentage    0.992\n"
          ]
        },
        {
          "output_type": "stream",
          "name": "stderr",
          "text": [
            "432it [01:23,  5.68it/s]"
          ]
        },
        {
          "output_type": "stream",
          "name": "stdout",
          "text": [
            "| epoch   3 |   430/  891 batches | accuracy    0.884 | loss    0.345 | zero gradients percentage    0.992\n"
          ]
        },
        {
          "output_type": "stream",
          "name": "stderr",
          "text": [
            "442it [01:25,  5.53it/s]"
          ]
        },
        {
          "output_type": "stream",
          "name": "stdout",
          "text": [
            "| epoch   3 |   440/  891 batches | accuracy    0.880 | loss    0.336 | zero gradients percentage    0.992\n"
          ]
        },
        {
          "output_type": "stream",
          "name": "stderr",
          "text": [
            "452it [01:26,  5.75it/s]"
          ]
        },
        {
          "output_type": "stream",
          "name": "stdout",
          "text": [
            "| epoch   3 |   450/  891 batches | accuracy    0.886 | loss    0.315 | zero gradients percentage    0.992\n"
          ]
        },
        {
          "output_type": "stream",
          "name": "stderr",
          "text": [
            "462it [01:28,  5.83it/s]"
          ]
        },
        {
          "output_type": "stream",
          "name": "stdout",
          "text": [
            "| epoch   3 |   460/  891 batches | accuracy    0.893 | loss    0.350 | zero gradients percentage    0.992\n"
          ]
        },
        {
          "output_type": "stream",
          "name": "stderr",
          "text": [
            "472it [01:30,  5.29it/s]"
          ]
        },
        {
          "output_type": "stream",
          "name": "stdout",
          "text": [
            "| epoch   3 |   470/  891 batches | accuracy    0.889 | loss    0.316 | zero gradients percentage    0.992\n"
          ]
        },
        {
          "output_type": "stream",
          "name": "stderr",
          "text": [
            "481it [01:32,  3.87it/s]"
          ]
        },
        {
          "output_type": "stream",
          "name": "stdout",
          "text": [
            "| epoch   3 |   480/  891 batches | accuracy    0.868 | loss    0.378 | zero gradients percentage    0.992\n"
          ]
        },
        {
          "output_type": "stream",
          "name": "stderr",
          "text": [
            "492it [01:34,  5.59it/s]"
          ]
        },
        {
          "output_type": "stream",
          "name": "stdout",
          "text": [
            "| epoch   3 |   490/  891 batches | accuracy    0.875 | loss    0.359 | zero gradients percentage    0.992\n"
          ]
        },
        {
          "output_type": "stream",
          "name": "stderr",
          "text": [
            "502it [01:36,  5.63it/s]"
          ]
        },
        {
          "output_type": "stream",
          "name": "stdout",
          "text": [
            "| epoch   3 |   500/  891 batches | accuracy    0.886 | loss    0.337 | zero gradients percentage    0.992\n"
          ]
        },
        {
          "output_type": "stream",
          "name": "stderr",
          "text": [
            "512it [01:38,  5.58it/s]"
          ]
        },
        {
          "output_type": "stream",
          "name": "stdout",
          "text": [
            "| epoch   3 |   510/  891 batches | accuracy    0.881 | loss    0.356 | zero gradients percentage    0.992\n"
          ]
        },
        {
          "output_type": "stream",
          "name": "stderr",
          "text": [
            "522it [01:40,  5.40it/s]"
          ]
        },
        {
          "output_type": "stream",
          "name": "stdout",
          "text": [
            "| epoch   3 |   520/  891 batches | accuracy    0.881 | loss    0.346 | zero gradients percentage    0.992\n"
          ]
        },
        {
          "output_type": "stream",
          "name": "stderr",
          "text": [
            "532it [01:42,  5.31it/s]"
          ]
        },
        {
          "output_type": "stream",
          "name": "stdout",
          "text": [
            "| epoch   3 |   530/  891 batches | accuracy    0.897 | loss    0.328 | zero gradients percentage    0.992\n"
          ]
        },
        {
          "output_type": "stream",
          "name": "stderr",
          "text": [
            "542it [01:44,  4.83it/s]"
          ]
        },
        {
          "output_type": "stream",
          "name": "stdout",
          "text": [
            "| epoch   3 |   540/  891 batches | accuracy    0.884 | loss    0.357 | zero gradients percentage    0.992\n"
          ]
        },
        {
          "output_type": "stream",
          "name": "stderr",
          "text": [
            "551it [01:46,  5.07it/s]"
          ]
        },
        {
          "output_type": "stream",
          "name": "stdout",
          "text": [
            "| epoch   3 |   550/  891 batches | accuracy    0.893 | loss    0.313 | zero gradients percentage    0.992\n"
          ]
        },
        {
          "output_type": "stream",
          "name": "stderr",
          "text": [
            "561it [01:48,  4.82it/s]"
          ]
        },
        {
          "output_type": "stream",
          "name": "stdout",
          "text": [
            "| epoch   3 |   560/  891 batches | accuracy    0.870 | loss    0.356 | zero gradients percentage    0.992\n"
          ]
        },
        {
          "output_type": "stream",
          "name": "stderr",
          "text": [
            "572it [01:50,  5.21it/s]"
          ]
        },
        {
          "output_type": "stream",
          "name": "stdout",
          "text": [
            "| epoch   3 |   570/  891 batches | accuracy    0.891 | loss    0.348 | zero gradients percentage    0.992\n"
          ]
        },
        {
          "output_type": "stream",
          "name": "stderr",
          "text": [
            "582it [01:52,  5.12it/s]"
          ]
        },
        {
          "output_type": "stream",
          "name": "stdout",
          "text": [
            "| epoch   3 |   580/  891 batches | accuracy    0.890 | loss    0.330 | zero gradients percentage    0.992\n"
          ]
        },
        {
          "output_type": "stream",
          "name": "stderr",
          "text": [
            "591it [01:54,  4.87it/s]"
          ]
        },
        {
          "output_type": "stream",
          "name": "stdout",
          "text": [
            "| epoch   3 |   590/  891 batches | accuracy    0.891 | loss    0.326 | zero gradients percentage    0.992\n"
          ]
        },
        {
          "output_type": "stream",
          "name": "stderr",
          "text": [
            "601it [01:56,  4.16it/s]"
          ]
        },
        {
          "output_type": "stream",
          "name": "stdout",
          "text": [
            "| epoch   3 |   600/  891 batches | accuracy    0.886 | loss    0.338 | zero gradients percentage    0.992\n"
          ]
        },
        {
          "output_type": "stream",
          "name": "stderr",
          "text": [
            "611it [01:58,  4.40it/s]"
          ]
        },
        {
          "output_type": "stream",
          "name": "stdout",
          "text": [
            "| epoch   3 |   610/  891 batches | accuracy    0.891 | loss    0.350 | zero gradients percentage    0.992\n"
          ]
        },
        {
          "output_type": "stream",
          "name": "stderr",
          "text": [
            "622it [02:00,  5.35it/s]"
          ]
        },
        {
          "output_type": "stream",
          "name": "stdout",
          "text": [
            "| epoch   3 |   620/  891 batches | accuracy    0.864 | loss    0.364 | zero gradients percentage    0.992\n"
          ]
        },
        {
          "output_type": "stream",
          "name": "stderr",
          "text": [
            "632it [02:02,  5.35it/s]"
          ]
        },
        {
          "output_type": "stream",
          "name": "stdout",
          "text": [
            "| epoch   3 |   630/  891 batches | accuracy    0.900 | loss    0.291 | zero gradients percentage    0.992\n"
          ]
        },
        {
          "output_type": "stream",
          "name": "stderr",
          "text": [
            "641it [02:04,  4.82it/s]"
          ]
        },
        {
          "output_type": "stream",
          "name": "stdout",
          "text": [
            "| epoch   3 |   640/  891 batches | accuracy    0.882 | loss    0.351 | zero gradients percentage    0.992\n"
          ]
        },
        {
          "output_type": "stream",
          "name": "stderr",
          "text": [
            "651it [02:06,  5.06it/s]"
          ]
        },
        {
          "output_type": "stream",
          "name": "stdout",
          "text": [
            "| epoch   3 |   650/  891 batches | accuracy    0.880 | loss    0.319 | zero gradients percentage    0.992\n"
          ]
        },
        {
          "output_type": "stream",
          "name": "stderr",
          "text": [
            "661it [02:08,  5.18it/s]"
          ]
        },
        {
          "output_type": "stream",
          "name": "stdout",
          "text": [
            "| epoch   3 |   660/  891 batches | accuracy    0.870 | loss    0.367 | zero gradients percentage    0.992\n"
          ]
        },
        {
          "output_type": "stream",
          "name": "stderr",
          "text": [
            "672it [02:11,  4.67it/s]"
          ]
        },
        {
          "output_type": "stream",
          "name": "stdout",
          "text": [
            "| epoch   3 |   670/  891 batches | accuracy    0.863 | loss    0.367 | zero gradients percentage    0.992\n"
          ]
        },
        {
          "output_type": "stream",
          "name": "stderr",
          "text": [
            "682it [02:13,  5.05it/s]"
          ]
        },
        {
          "output_type": "stream",
          "name": "stdout",
          "text": [
            "| epoch   3 |   680/  891 batches | accuracy    0.887 | loss    0.353 | zero gradients percentage    0.992\n"
          ]
        },
        {
          "output_type": "stream",
          "name": "stderr",
          "text": [
            "692it [02:15,  5.43it/s]"
          ]
        },
        {
          "output_type": "stream",
          "name": "stdout",
          "text": [
            "| epoch   3 |   690/  891 batches | accuracy    0.880 | loss    0.333 | zero gradients percentage    0.992\n"
          ]
        },
        {
          "output_type": "stream",
          "name": "stderr",
          "text": [
            "702it [02:17,  5.40it/s]"
          ]
        },
        {
          "output_type": "stream",
          "name": "stdout",
          "text": [
            "| epoch   3 |   700/  891 batches | accuracy    0.881 | loss    0.356 | zero gradients percentage    0.992\n"
          ]
        },
        {
          "output_type": "stream",
          "name": "stderr",
          "text": [
            "712it [02:19,  5.05it/s]"
          ]
        },
        {
          "output_type": "stream",
          "name": "stdout",
          "text": [
            "| epoch   3 |   710/  891 batches | accuracy    0.889 | loss    0.342 | zero gradients percentage    0.992\n"
          ]
        },
        {
          "output_type": "stream",
          "name": "stderr",
          "text": [
            "721it [02:20,  4.59it/s]"
          ]
        },
        {
          "output_type": "stream",
          "name": "stdout",
          "text": [
            "| epoch   3 |   720/  891 batches | accuracy    0.879 | loss    0.367 | zero gradients percentage    0.992\n"
          ]
        },
        {
          "output_type": "stream",
          "name": "stderr",
          "text": [
            "731it [02:23,  4.27it/s]"
          ]
        },
        {
          "output_type": "stream",
          "name": "stdout",
          "text": [
            "| epoch   3 |   730/  891 batches | accuracy    0.889 | loss    0.334 | zero gradients percentage    0.992\n"
          ]
        },
        {
          "output_type": "stream",
          "name": "stderr",
          "text": [
            "742it [02:25,  5.01it/s]"
          ]
        },
        {
          "output_type": "stream",
          "name": "stdout",
          "text": [
            "| epoch   3 |   740/  891 batches | accuracy    0.866 | loss    0.358 | zero gradients percentage    0.992\n"
          ]
        },
        {
          "output_type": "stream",
          "name": "stderr",
          "text": [
            "752it [02:27,  5.08it/s]"
          ]
        },
        {
          "output_type": "stream",
          "name": "stdout",
          "text": [
            "| epoch   3 |   750/  891 batches | accuracy    0.900 | loss    0.315 | zero gradients percentage    0.992\n"
          ]
        },
        {
          "output_type": "stream",
          "name": "stderr",
          "text": [
            "762it [02:29,  5.16it/s]"
          ]
        },
        {
          "output_type": "stream",
          "name": "stdout",
          "text": [
            "| epoch   3 |   760/  891 batches | accuracy    0.885 | loss    0.351 | zero gradients percentage    0.992\n"
          ]
        },
        {
          "output_type": "stream",
          "name": "stderr",
          "text": [
            "772it [02:31,  5.47it/s]"
          ]
        },
        {
          "output_type": "stream",
          "name": "stdout",
          "text": [
            "| epoch   3 |   770/  891 batches | accuracy    0.877 | loss    0.365 | zero gradients percentage    0.992\n"
          ]
        },
        {
          "output_type": "stream",
          "name": "stderr",
          "text": [
            "782it [02:33,  5.21it/s]"
          ]
        },
        {
          "output_type": "stream",
          "name": "stdout",
          "text": [
            "| epoch   3 |   780/  891 batches | accuracy    0.882 | loss    0.367 | zero gradients percentage    0.992\n"
          ]
        },
        {
          "output_type": "stream",
          "name": "stderr",
          "text": [
            "791it [02:35,  3.96it/s]"
          ]
        },
        {
          "output_type": "stream",
          "name": "stdout",
          "text": [
            "| epoch   3 |   790/  891 batches | accuracy    0.886 | loss    0.333 | zero gradients percentage    0.992\n"
          ]
        },
        {
          "output_type": "stream",
          "name": "stderr",
          "text": [
            "802it [02:37,  5.19it/s]"
          ]
        },
        {
          "output_type": "stream",
          "name": "stdout",
          "text": [
            "| epoch   3 |   800/  891 batches | accuracy    0.881 | loss    0.337 | zero gradients percentage    0.992\n"
          ]
        },
        {
          "output_type": "stream",
          "name": "stderr",
          "text": [
            "812it [02:39,  5.26it/s]"
          ]
        },
        {
          "output_type": "stream",
          "name": "stdout",
          "text": [
            "| epoch   3 |   810/  891 batches | accuracy    0.898 | loss    0.307 | zero gradients percentage    0.992\n"
          ]
        },
        {
          "output_type": "stream",
          "name": "stderr",
          "text": [
            "822it [02:41,  5.49it/s]"
          ]
        },
        {
          "output_type": "stream",
          "name": "stdout",
          "text": [
            "| epoch   3 |   820/  891 batches | accuracy    0.861 | loss    0.371 | zero gradients percentage    0.992\n"
          ]
        },
        {
          "output_type": "stream",
          "name": "stderr",
          "text": [
            "832it [02:43,  4.96it/s]"
          ]
        },
        {
          "output_type": "stream",
          "name": "stdout",
          "text": [
            "| epoch   3 |   830/  891 batches | accuracy    0.903 | loss    0.299 | zero gradients percentage    0.992\n"
          ]
        },
        {
          "output_type": "stream",
          "name": "stderr",
          "text": [
            "841it [02:45,  5.27it/s]"
          ]
        },
        {
          "output_type": "stream",
          "name": "stdout",
          "text": [
            "| epoch   3 |   840/  891 batches | accuracy    0.879 | loss    0.343 | zero gradients percentage    0.992\n"
          ]
        },
        {
          "output_type": "stream",
          "name": "stderr",
          "text": [
            "851it [02:47,  4.12it/s]"
          ]
        },
        {
          "output_type": "stream",
          "name": "stdout",
          "text": [
            "| epoch   3 |   850/  891 batches | accuracy    0.877 | loss    0.350 | zero gradients percentage    0.992\n"
          ]
        },
        {
          "output_type": "stream",
          "name": "stderr",
          "text": [
            "861it [02:49,  4.97it/s]"
          ]
        },
        {
          "output_type": "stream",
          "name": "stdout",
          "text": [
            "| epoch   3 |   860/  891 batches | accuracy    0.872 | loss    0.383 | zero gradients percentage    0.992\n"
          ]
        },
        {
          "output_type": "stream",
          "name": "stderr",
          "text": [
            "872it [02:51,  5.24it/s]"
          ]
        },
        {
          "output_type": "stream",
          "name": "stdout",
          "text": [
            "| epoch   3 |   870/  891 batches | accuracy    0.861 | loss    0.361 | zero gradients percentage    0.992\n"
          ]
        },
        {
          "output_type": "stream",
          "name": "stderr",
          "text": [
            "882it [02:53,  5.33it/s]"
          ]
        },
        {
          "output_type": "stream",
          "name": "stdout",
          "text": [
            "| epoch   3 |   880/  891 batches | accuracy    0.895 | loss    0.326 | zero gradients percentage    0.992\n"
          ]
        },
        {
          "output_type": "stream",
          "name": "stderr",
          "text": [
            "891it [02:55,  5.07it/s]\n"
          ]
        },
        {
          "output_type": "stream",
          "name": "stdout",
          "text": [
            "| epoch   3 |   890/  891 batches | accuracy    0.874 | loss    0.355 | zero gradients percentage    0.992\n",
            "-----------------------------------------------------------\n",
            "| end of epoch   3 | time: 176.74s | valid accuracy    0.876 \n",
            "-----------------------------------------------------------\n"
          ]
        },
        {
          "output_type": "stream",
          "name": "stderr",
          "text": [
            "11it [00:02,  5.29it/s]"
          ]
        },
        {
          "output_type": "stream",
          "name": "stdout",
          "text": [
            "| epoch   4 |    10/  891 batches | accuracy    0.891 | loss    0.321 | zero gradients percentage    0.992\n"
          ]
        },
        {
          "output_type": "stream",
          "name": "stderr",
          "text": [
            "21it [00:04,  4.19it/s]"
          ]
        },
        {
          "output_type": "stream",
          "name": "stdout",
          "text": [
            "| epoch   4 |    20/  891 batches | accuracy    0.881 | loss    0.336 | zero gradients percentage    0.992\n"
          ]
        },
        {
          "output_type": "stream",
          "name": "stderr",
          "text": [
            "31it [00:06,  5.13it/s]"
          ]
        },
        {
          "output_type": "stream",
          "name": "stdout",
          "text": [
            "| epoch   4 |    30/  891 batches | accuracy    0.896 | loss    0.307 | zero gradients percentage    0.992\n"
          ]
        },
        {
          "output_type": "stream",
          "name": "stderr",
          "text": [
            "41it [00:08,  5.19it/s]"
          ]
        },
        {
          "output_type": "stream",
          "name": "stdout",
          "text": [
            "| epoch   4 |    40/  891 batches | accuracy    0.884 | loss    0.340 | zero gradients percentage    0.992\n"
          ]
        },
        {
          "output_type": "stream",
          "name": "stderr",
          "text": [
            "52it [00:10,  5.20it/s]"
          ]
        },
        {
          "output_type": "stream",
          "name": "stdout",
          "text": [
            "| epoch   4 |    50/  891 batches | accuracy    0.866 | loss    0.383 | zero gradients percentage    0.992\n"
          ]
        },
        {
          "output_type": "stream",
          "name": "stderr",
          "text": [
            "62it [00:12,  5.45it/s]"
          ]
        },
        {
          "output_type": "stream",
          "name": "stdout",
          "text": [
            "| epoch   4 |    60/  891 batches | accuracy    0.887 | loss    0.342 | zero gradients percentage    0.992\n"
          ]
        },
        {
          "output_type": "stream",
          "name": "stderr",
          "text": [
            "72it [00:14,  5.15it/s]"
          ]
        },
        {
          "output_type": "stream",
          "name": "stdout",
          "text": [
            "| epoch   4 |    70/  891 batches | accuracy    0.889 | loss    0.317 | zero gradients percentage    0.992\n"
          ]
        },
        {
          "output_type": "stream",
          "name": "stderr",
          "text": [
            "82it [00:17,  4.04it/s]"
          ]
        },
        {
          "output_type": "stream",
          "name": "stdout",
          "text": [
            "| epoch   4 |    80/  891 batches | accuracy    0.866 | loss    0.369 | zero gradients percentage    0.992\n"
          ]
        },
        {
          "output_type": "stream",
          "name": "stderr",
          "text": [
            "91it [00:18,  5.06it/s]"
          ]
        },
        {
          "output_type": "stream",
          "name": "stdout",
          "text": [
            "| epoch   4 |    90/  891 batches | accuracy    0.884 | loss    0.336 | zero gradients percentage    0.992\n"
          ]
        },
        {
          "output_type": "stream",
          "name": "stderr",
          "text": [
            "102it [00:21,  5.40it/s]"
          ]
        },
        {
          "output_type": "stream",
          "name": "stdout",
          "text": [
            "| epoch   4 |   100/  891 batches | accuracy    0.891 | loss    0.327 | zero gradients percentage    0.992\n"
          ]
        },
        {
          "output_type": "stream",
          "name": "stderr",
          "text": [
            "112it [00:22,  5.40it/s]"
          ]
        },
        {
          "output_type": "stream",
          "name": "stdout",
          "text": [
            "| epoch   4 |   110/  891 batches | accuracy    0.879 | loss    0.363 | zero gradients percentage    0.992\n"
          ]
        },
        {
          "output_type": "stream",
          "name": "stderr",
          "text": [
            "122it [00:24,  5.40it/s]"
          ]
        },
        {
          "output_type": "stream",
          "name": "stdout",
          "text": [
            "| epoch   4 |   120/  891 batches | accuracy    0.875 | loss    0.364 | zero gradients percentage    0.992\n"
          ]
        },
        {
          "output_type": "stream",
          "name": "stderr",
          "text": [
            "132it [00:26,  5.33it/s]"
          ]
        },
        {
          "output_type": "stream",
          "name": "stdout",
          "text": [
            "| epoch   4 |   130/  891 batches | accuracy    0.876 | loss    0.377 | zero gradients percentage    0.992\n"
          ]
        },
        {
          "output_type": "stream",
          "name": "stderr",
          "text": [
            "141it [00:29,  3.81it/s]"
          ]
        },
        {
          "output_type": "stream",
          "name": "stdout",
          "text": [
            "| epoch   4 |   140/  891 batches | accuracy    0.885 | loss    0.356 | zero gradients percentage    0.992\n"
          ]
        },
        {
          "output_type": "stream",
          "name": "stderr",
          "text": [
            "152it [00:31,  5.35it/s]"
          ]
        },
        {
          "output_type": "stream",
          "name": "stdout",
          "text": [
            "| epoch   4 |   150/  891 batches | accuracy    0.861 | loss    0.378 | zero gradients percentage    0.992\n"
          ]
        },
        {
          "output_type": "stream",
          "name": "stderr",
          "text": [
            "162it [00:33,  5.40it/s]"
          ]
        },
        {
          "output_type": "stream",
          "name": "stdout",
          "text": [
            "| epoch   4 |   160/  891 batches | accuracy    0.875 | loss    0.361 | zero gradients percentage    0.992\n"
          ]
        },
        {
          "output_type": "stream",
          "name": "stderr",
          "text": [
            "171it [00:34,  5.32it/s]"
          ]
        },
        {
          "output_type": "stream",
          "name": "stdout",
          "text": [
            "| epoch   4 |   170/  891 batches | accuracy    0.877 | loss    0.386 | zero gradients percentage    0.992\n"
          ]
        },
        {
          "output_type": "stream",
          "name": "stderr",
          "text": [
            "182it [00:37,  5.14it/s]"
          ]
        },
        {
          "output_type": "stream",
          "name": "stdout",
          "text": [
            "| epoch   4 |   180/  891 batches | accuracy    0.890 | loss    0.331 | zero gradients percentage    0.992\n"
          ]
        },
        {
          "output_type": "stream",
          "name": "stderr",
          "text": [
            "192it [00:38,  5.32it/s]"
          ]
        },
        {
          "output_type": "stream",
          "name": "stdout",
          "text": [
            "| epoch   4 |   190/  891 batches | accuracy    0.890 | loss    0.338 | zero gradients percentage    0.992\n"
          ]
        },
        {
          "output_type": "stream",
          "name": "stderr",
          "text": [
            "201it [00:40,  4.33it/s]"
          ]
        },
        {
          "output_type": "stream",
          "name": "stdout",
          "text": [
            "| epoch   4 |   200/  891 batches | accuracy    0.887 | loss    0.333 | zero gradients percentage    0.992\n"
          ]
        },
        {
          "output_type": "stream",
          "name": "stderr",
          "text": [
            "212it [00:43,  5.03it/s]"
          ]
        },
        {
          "output_type": "stream",
          "name": "stdout",
          "text": [
            "| epoch   4 |   210/  891 batches | accuracy    0.885 | loss    0.325 | zero gradients percentage    0.992\n"
          ]
        },
        {
          "output_type": "stream",
          "name": "stderr",
          "text": [
            "222it [00:45,  4.88it/s]"
          ]
        },
        {
          "output_type": "stream",
          "name": "stdout",
          "text": [
            "| epoch   4 |   220/  891 batches | accuracy    0.880 | loss    0.342 | zero gradients percentage    0.992\n"
          ]
        },
        {
          "output_type": "stream",
          "name": "stderr",
          "text": [
            "231it [00:47,  5.02it/s]"
          ]
        },
        {
          "output_type": "stream",
          "name": "stdout",
          "text": [
            "| epoch   4 |   230/  891 batches | accuracy    0.884 | loss    0.329 | zero gradients percentage    0.992\n"
          ]
        },
        {
          "output_type": "stream",
          "name": "stderr",
          "text": [
            "242it [00:49,  5.10it/s]"
          ]
        },
        {
          "output_type": "stream",
          "name": "stdout",
          "text": [
            "| epoch   4 |   240/  891 batches | accuracy    0.882 | loss    0.343 | zero gradients percentage    0.992\n"
          ]
        },
        {
          "output_type": "stream",
          "name": "stderr",
          "text": [
            "252it [00:51,  5.26it/s]"
          ]
        },
        {
          "output_type": "stream",
          "name": "stdout",
          "text": [
            "| epoch   4 |   250/  891 batches | accuracy    0.899 | loss    0.313 | zero gradients percentage    0.992\n"
          ]
        },
        {
          "output_type": "stream",
          "name": "stderr",
          "text": [
            "261it [00:53,  3.88it/s]"
          ]
        },
        {
          "output_type": "stream",
          "name": "stdout",
          "text": [
            "| epoch   4 |   260/  891 batches | accuracy    0.885 | loss    0.349 | zero gradients percentage    0.992\n"
          ]
        },
        {
          "output_type": "stream",
          "name": "stderr",
          "text": [
            "272it [00:55,  5.10it/s]"
          ]
        },
        {
          "output_type": "stream",
          "name": "stdout",
          "text": [
            "| epoch   4 |   270/  891 batches | accuracy    0.877 | loss    0.368 | zero gradients percentage    0.992\n"
          ]
        },
        {
          "output_type": "stream",
          "name": "stderr",
          "text": [
            "282it [00:57,  5.30it/s]"
          ]
        },
        {
          "output_type": "stream",
          "name": "stdout",
          "text": [
            "| epoch   4 |   280/  891 batches | accuracy    0.902 | loss    0.284 | zero gradients percentage    0.992\n"
          ]
        },
        {
          "output_type": "stream",
          "name": "stderr",
          "text": [
            "292it [00:59,  5.36it/s]"
          ]
        },
        {
          "output_type": "stream",
          "name": "stdout",
          "text": [
            "| epoch   4 |   290/  891 batches | accuracy    0.881 | loss    0.333 | zero gradients percentage    0.992\n"
          ]
        },
        {
          "output_type": "stream",
          "name": "stderr",
          "text": [
            "301it [01:01,  4.93it/s]"
          ]
        },
        {
          "output_type": "stream",
          "name": "stdout",
          "text": [
            "| epoch   4 |   300/  891 batches | accuracy    0.883 | loss    0.347 | zero gradients percentage    0.992\n"
          ]
        },
        {
          "output_type": "stream",
          "name": "stderr",
          "text": [
            "312it [01:03,  5.07it/s]"
          ]
        },
        {
          "output_type": "stream",
          "name": "stdout",
          "text": [
            "| epoch   4 |   310/  891 batches | accuracy    0.866 | loss    0.379 | zero gradients percentage    0.992\n"
          ]
        },
        {
          "output_type": "stream",
          "name": "stderr",
          "text": [
            "321it [01:05,  4.41it/s]"
          ]
        },
        {
          "output_type": "stream",
          "name": "stdout",
          "text": [
            "| epoch   4 |   320/  891 batches | accuracy    0.881 | loss    0.327 | zero gradients percentage    0.992\n"
          ]
        },
        {
          "output_type": "stream",
          "name": "stderr",
          "text": [
            "331it [01:08,  4.59it/s]"
          ]
        },
        {
          "output_type": "stream",
          "name": "stdout",
          "text": [
            "| epoch   4 |   330/  891 batches | accuracy    0.885 | loss    0.339 | zero gradients percentage    0.992\n"
          ]
        },
        {
          "output_type": "stream",
          "name": "stderr",
          "text": [
            "342it [01:10,  5.70it/s]"
          ]
        },
        {
          "output_type": "stream",
          "name": "stdout",
          "text": [
            "| epoch   4 |   340/  891 batches | accuracy    0.882 | loss    0.353 | zero gradients percentage    0.992\n"
          ]
        },
        {
          "output_type": "stream",
          "name": "stderr",
          "text": [
            "352it [01:11,  5.71it/s]"
          ]
        },
        {
          "output_type": "stream",
          "name": "stdout",
          "text": [
            "| epoch   4 |   350/  891 batches | accuracy    0.891 | loss    0.299 | zero gradients percentage    0.992\n"
          ]
        },
        {
          "output_type": "stream",
          "name": "stderr",
          "text": [
            "362it [01:13,  5.17it/s]"
          ]
        },
        {
          "output_type": "stream",
          "name": "stdout",
          "text": [
            "| epoch   4 |   360/  891 batches | accuracy    0.880 | loss    0.347 | zero gradients percentage    0.992\n"
          ]
        },
        {
          "output_type": "stream",
          "name": "stderr",
          "text": [
            "372it [01:15,  5.51it/s]"
          ]
        },
        {
          "output_type": "stream",
          "name": "stdout",
          "text": [
            "| epoch   4 |   370/  891 batches | accuracy    0.896 | loss    0.312 | zero gradients percentage    0.992\n"
          ]
        },
        {
          "output_type": "stream",
          "name": "stderr",
          "text": [
            "381it [01:17,  5.20it/s]"
          ]
        },
        {
          "output_type": "stream",
          "name": "stdout",
          "text": [
            "| epoch   4 |   380/  891 batches | accuracy    0.885 | loss    0.347 | zero gradients percentage    0.992\n"
          ]
        },
        {
          "output_type": "stream",
          "name": "stderr",
          "text": [
            "391it [01:19,  4.56it/s]"
          ]
        },
        {
          "output_type": "stream",
          "name": "stdout",
          "text": [
            "| epoch   4 |   390/  891 batches | accuracy    0.884 | loss    0.320 | zero gradients percentage    0.992\n"
          ]
        },
        {
          "output_type": "stream",
          "name": "stderr",
          "text": [
            "402it [01:21,  5.04it/s]"
          ]
        },
        {
          "output_type": "stream",
          "name": "stdout",
          "text": [
            "| epoch   4 |   400/  891 batches | accuracy    0.887 | loss    0.334 | zero gradients percentage    0.992\n"
          ]
        },
        {
          "output_type": "stream",
          "name": "stderr",
          "text": [
            "412it [01:23,  5.54it/s]"
          ]
        },
        {
          "output_type": "stream",
          "name": "stdout",
          "text": [
            "| epoch   4 |   410/  891 batches | accuracy    0.891 | loss    0.309 | zero gradients percentage    0.992\n"
          ]
        },
        {
          "output_type": "stream",
          "name": "stderr",
          "text": [
            "421it [01:25,  5.07it/s]"
          ]
        },
        {
          "output_type": "stream",
          "name": "stdout",
          "text": [
            "| epoch   4 |   420/  891 batches | accuracy    0.884 | loss    0.323 | zero gradients percentage    0.992\n"
          ]
        },
        {
          "output_type": "stream",
          "name": "stderr",
          "text": [
            "431it [01:27,  5.27it/s]"
          ]
        },
        {
          "output_type": "stream",
          "name": "stdout",
          "text": [
            "| epoch   4 |   430/  891 batches | accuracy    0.883 | loss    0.343 | zero gradients percentage    0.992\n"
          ]
        },
        {
          "output_type": "stream",
          "name": "stderr",
          "text": [
            "442it [01:29,  5.04it/s]"
          ]
        },
        {
          "output_type": "stream",
          "name": "stdout",
          "text": [
            "| epoch   4 |   440/  891 batches | accuracy    0.879 | loss    0.347 | zero gradients percentage    0.992\n"
          ]
        },
        {
          "output_type": "stream",
          "name": "stderr",
          "text": [
            "451it [01:31,  3.88it/s]"
          ]
        },
        {
          "output_type": "stream",
          "name": "stdout",
          "text": [
            "| epoch   4 |   450/  891 batches | accuracy    0.859 | loss    0.386 | zero gradients percentage    0.992\n"
          ]
        },
        {
          "output_type": "stream",
          "name": "stderr",
          "text": [
            "462it [01:33,  5.07it/s]"
          ]
        },
        {
          "output_type": "stream",
          "name": "stdout",
          "text": [
            "| epoch   4 |   460/  891 batches | accuracy    0.877 | loss    0.349 | zero gradients percentage    0.992\n"
          ]
        },
        {
          "output_type": "stream",
          "name": "stderr",
          "text": [
            "472it [01:35,  5.28it/s]"
          ]
        },
        {
          "output_type": "stream",
          "name": "stdout",
          "text": [
            "| epoch   4 |   470/  891 batches | accuracy    0.881 | loss    0.342 | zero gradients percentage    0.992\n"
          ]
        },
        {
          "output_type": "stream",
          "name": "stderr",
          "text": [
            "482it [01:37,  5.30it/s]"
          ]
        },
        {
          "output_type": "stream",
          "name": "stdout",
          "text": [
            "| epoch   4 |   480/  891 batches | accuracy    0.870 | loss    0.385 | zero gradients percentage    0.992\n"
          ]
        },
        {
          "output_type": "stream",
          "name": "stderr",
          "text": [
            "491it [01:39,  5.19it/s]"
          ]
        },
        {
          "output_type": "stream",
          "name": "stdout",
          "text": [
            "| epoch   4 |   490/  891 batches | accuracy    0.886 | loss    0.350 | zero gradients percentage    0.992\n"
          ]
        },
        {
          "output_type": "stream",
          "name": "stderr",
          "text": [
            "501it [01:41,  5.28it/s]"
          ]
        },
        {
          "output_type": "stream",
          "name": "stdout",
          "text": [
            "| epoch   4 |   500/  891 batches | accuracy    0.885 | loss    0.321 | zero gradients percentage    0.992\n"
          ]
        },
        {
          "output_type": "stream",
          "name": "stderr",
          "text": [
            "511it [01:43,  4.01it/s]"
          ]
        },
        {
          "output_type": "stream",
          "name": "stdout",
          "text": [
            "| epoch   4 |   510/  891 batches | accuracy    0.891 | loss    0.320 | zero gradients percentage    0.992\n"
          ]
        },
        {
          "output_type": "stream",
          "name": "stderr",
          "text": [
            "522it [01:46,  4.91it/s]"
          ]
        },
        {
          "output_type": "stream",
          "name": "stdout",
          "text": [
            "| epoch   4 |   520/  891 batches | accuracy    0.889 | loss    0.326 | zero gradients percentage    0.992\n"
          ]
        },
        {
          "output_type": "stream",
          "name": "stderr",
          "text": [
            "531it [01:48,  5.14it/s]"
          ]
        },
        {
          "output_type": "stream",
          "name": "stdout",
          "text": [
            "| epoch   4 |   530/  891 batches | accuracy    0.891 | loss    0.334 | zero gradients percentage    0.992\n"
          ]
        },
        {
          "output_type": "stream",
          "name": "stderr",
          "text": [
            "541it [01:49,  5.25it/s]"
          ]
        },
        {
          "output_type": "stream",
          "name": "stdout",
          "text": [
            "| epoch   4 |   540/  891 batches | accuracy    0.886 | loss    0.351 | zero gradients percentage    0.992\n"
          ]
        },
        {
          "output_type": "stream",
          "name": "stderr",
          "text": [
            "551it [01:51,  5.25it/s]"
          ]
        },
        {
          "output_type": "stream",
          "name": "stdout",
          "text": [
            "| epoch   4 |   550/  891 batches | accuracy    0.893 | loss    0.327 | zero gradients percentage    0.992\n"
          ]
        },
        {
          "output_type": "stream",
          "name": "stderr",
          "text": [
            "562it [01:54,  4.73it/s]"
          ]
        },
        {
          "output_type": "stream",
          "name": "stdout",
          "text": [
            "| epoch   4 |   560/  891 batches | accuracy    0.877 | loss    0.344 | zero gradients percentage    0.992\n"
          ]
        },
        {
          "output_type": "stream",
          "name": "stderr",
          "text": [
            "571it [01:55,  4.65it/s]"
          ]
        },
        {
          "output_type": "stream",
          "name": "stdout",
          "text": [
            "| epoch   4 |   570/  891 batches | accuracy    0.883 | loss    0.341 | zero gradients percentage    0.992\n"
          ]
        },
        {
          "output_type": "stream",
          "name": "stderr",
          "text": [
            "582it [01:58,  4.59it/s]"
          ]
        },
        {
          "output_type": "stream",
          "name": "stdout",
          "text": [
            "| epoch   4 |   580/  891 batches | accuracy    0.888 | loss    0.326 | zero gradients percentage    0.992\n"
          ]
        },
        {
          "output_type": "stream",
          "name": "stderr",
          "text": [
            "591it [02:00,  5.67it/s]"
          ]
        },
        {
          "output_type": "stream",
          "name": "stdout",
          "text": [
            "| epoch   4 |   590/  891 batches | accuracy    0.871 | loss    0.385 | zero gradients percentage    0.992\n"
          ]
        },
        {
          "output_type": "stream",
          "name": "stderr",
          "text": [
            "602it [02:01,  5.91it/s]"
          ]
        },
        {
          "output_type": "stream",
          "name": "stdout",
          "text": [
            "| epoch   4 |   600/  891 batches | accuracy    0.870 | loss    0.361 | zero gradients percentage    0.992\n"
          ]
        },
        {
          "output_type": "stream",
          "name": "stderr",
          "text": [
            "612it [02:03,  5.93it/s]"
          ]
        },
        {
          "output_type": "stream",
          "name": "stdout",
          "text": [
            "| epoch   4 |   610/  891 batches | accuracy    0.894 | loss    0.338 | zero gradients percentage    0.992\n"
          ]
        },
        {
          "output_type": "stream",
          "name": "stderr",
          "text": [
            "622it [02:05,  5.81it/s]"
          ]
        },
        {
          "output_type": "stream",
          "name": "stdout",
          "text": [
            "| epoch   4 |   620/  891 batches | accuracy    0.874 | loss    0.359 | zero gradients percentage    0.992\n"
          ]
        },
        {
          "output_type": "stream",
          "name": "stderr",
          "text": [
            "632it [02:07,  5.86it/s]"
          ]
        },
        {
          "output_type": "stream",
          "name": "stdout",
          "text": [
            "| epoch   4 |   630/  891 batches | accuracy    0.892 | loss    0.343 | zero gradients percentage    0.992\n"
          ]
        },
        {
          "output_type": "stream",
          "name": "stderr",
          "text": [
            "641it [02:08,  4.79it/s]"
          ]
        },
        {
          "output_type": "stream",
          "name": "stdout",
          "text": [
            "| epoch   4 |   640/  891 batches | accuracy    0.894 | loss    0.326 | zero gradients percentage    0.992\n"
          ]
        },
        {
          "output_type": "stream",
          "name": "stderr",
          "text": [
            "652it [02:11,  4.74it/s]"
          ]
        },
        {
          "output_type": "stream",
          "name": "stdout",
          "text": [
            "| epoch   4 |   650/  891 batches | accuracy    0.892 | loss    0.327 | zero gradients percentage    0.992\n"
          ]
        },
        {
          "output_type": "stream",
          "name": "stderr",
          "text": [
            "662it [02:13,  5.73it/s]"
          ]
        },
        {
          "output_type": "stream",
          "name": "stdout",
          "text": [
            "| epoch   4 |   660/  891 batches | accuracy    0.880 | loss    0.347 | zero gradients percentage    0.992\n"
          ]
        },
        {
          "output_type": "stream",
          "name": "stderr",
          "text": [
            "672it [02:14,  5.43it/s]"
          ]
        },
        {
          "output_type": "stream",
          "name": "stdout",
          "text": [
            "| epoch   4 |   670/  891 batches | accuracy    0.907 | loss    0.299 | zero gradients percentage    0.992\n"
          ]
        },
        {
          "output_type": "stream",
          "name": "stderr",
          "text": [
            "682it [02:16,  5.41it/s]"
          ]
        },
        {
          "output_type": "stream",
          "name": "stdout",
          "text": [
            "| epoch   4 |   680/  891 batches | accuracy    0.876 | loss    0.371 | zero gradients percentage    0.992\n"
          ]
        },
        {
          "output_type": "stream",
          "name": "stderr",
          "text": [
            "691it [02:18,  5.29it/s]"
          ]
        },
        {
          "output_type": "stream",
          "name": "stdout",
          "text": [
            "| epoch   4 |   690/  891 batches | accuracy    0.877 | loss    0.351 | zero gradients percentage    0.992\n"
          ]
        },
        {
          "output_type": "stream",
          "name": "stderr",
          "text": [
            "702it [02:20,  5.19it/s]"
          ]
        },
        {
          "output_type": "stream",
          "name": "stdout",
          "text": [
            "| epoch   4 |   700/  891 batches | accuracy    0.879 | loss    0.334 | zero gradients percentage    0.992\n"
          ]
        },
        {
          "output_type": "stream",
          "name": "stderr",
          "text": [
            "711it [02:23,  3.36it/s]"
          ]
        },
        {
          "output_type": "stream",
          "name": "stdout",
          "text": [
            "| epoch   4 |   710/  891 batches | accuracy    0.905 | loss    0.284 | zero gradients percentage    0.992\n"
          ]
        },
        {
          "output_type": "stream",
          "name": "stderr",
          "text": [
            "722it [02:25,  5.22it/s]"
          ]
        },
        {
          "output_type": "stream",
          "name": "stdout",
          "text": [
            "| epoch   4 |   720/  891 batches | accuracy    0.909 | loss    0.295 | zero gradients percentage    0.992\n"
          ]
        },
        {
          "output_type": "stream",
          "name": "stderr",
          "text": [
            "732it [02:27,  5.34it/s]"
          ]
        },
        {
          "output_type": "stream",
          "name": "stdout",
          "text": [
            "| epoch   4 |   730/  891 batches | accuracy    0.889 | loss    0.335 | zero gradients percentage    0.992\n"
          ]
        },
        {
          "output_type": "stream",
          "name": "stderr",
          "text": [
            "742it [02:29,  5.01it/s]"
          ]
        },
        {
          "output_type": "stream",
          "name": "stdout",
          "text": [
            "| epoch   4 |   740/  891 batches | accuracy    0.883 | loss    0.350 | zero gradients percentage    0.992\n"
          ]
        },
        {
          "output_type": "stream",
          "name": "stderr",
          "text": [
            "752it [02:31,  5.16it/s]"
          ]
        },
        {
          "output_type": "stream",
          "name": "stdout",
          "text": [
            "| epoch   4 |   750/  891 batches | accuracy    0.881 | loss    0.321 | zero gradients percentage    0.992\n"
          ]
        },
        {
          "output_type": "stream",
          "name": "stderr",
          "text": [
            "762it [02:33,  5.33it/s]"
          ]
        },
        {
          "output_type": "stream",
          "name": "stdout",
          "text": [
            "| epoch   4 |   760/  891 batches | accuracy    0.889 | loss    0.340 | zero gradients percentage    0.992\n"
          ]
        },
        {
          "output_type": "stream",
          "name": "stderr",
          "text": [
            "771it [02:35,  3.58it/s]"
          ]
        },
        {
          "output_type": "stream",
          "name": "stdout",
          "text": [
            "| epoch   4 |   770/  891 batches | accuracy    0.885 | loss    0.337 | zero gradients percentage    0.992\n"
          ]
        },
        {
          "output_type": "stream",
          "name": "stderr",
          "text": [
            "782it [02:37,  5.03it/s]"
          ]
        },
        {
          "output_type": "stream",
          "name": "stdout",
          "text": [
            "| epoch   4 |   780/  891 batches | accuracy    0.881 | loss    0.362 | zero gradients percentage    0.992\n"
          ]
        },
        {
          "output_type": "stream",
          "name": "stderr",
          "text": [
            "792it [02:39,  5.28it/s]"
          ]
        },
        {
          "output_type": "stream",
          "name": "stdout",
          "text": [
            "| epoch   4 |   790/  891 batches | accuracy    0.891 | loss    0.324 | zero gradients percentage    0.992\n"
          ]
        },
        {
          "output_type": "stream",
          "name": "stderr",
          "text": [
            "802it [02:41,  5.18it/s]"
          ]
        },
        {
          "output_type": "stream",
          "name": "stdout",
          "text": [
            "| epoch   4 |   800/  891 batches | accuracy    0.877 | loss    0.367 | zero gradients percentage    0.992\n"
          ]
        },
        {
          "output_type": "stream",
          "name": "stderr",
          "text": [
            "812it [02:43,  5.39it/s]"
          ]
        },
        {
          "output_type": "stream",
          "name": "stdout",
          "text": [
            "| epoch   4 |   810/  891 batches | accuracy    0.882 | loss    0.349 | zero gradients percentage    0.992\n"
          ]
        },
        {
          "output_type": "stream",
          "name": "stderr",
          "text": [
            "822it [02:45,  5.24it/s]"
          ]
        },
        {
          "output_type": "stream",
          "name": "stdout",
          "text": [
            "| epoch   4 |   820/  891 batches | accuracy    0.888 | loss    0.325 | zero gradients percentage    0.992\n"
          ]
        },
        {
          "output_type": "stream",
          "name": "stderr",
          "text": [
            "831it [02:47,  4.09it/s]"
          ]
        },
        {
          "output_type": "stream",
          "name": "stdout",
          "text": [
            "| epoch   4 |   830/  891 batches | accuracy    0.896 | loss    0.326 | zero gradients percentage    0.992\n"
          ]
        },
        {
          "output_type": "stream",
          "name": "stderr",
          "text": [
            "841it [02:49,  5.07it/s]"
          ]
        },
        {
          "output_type": "stream",
          "name": "stdout",
          "text": [
            "| epoch   4 |   840/  891 batches | accuracy    0.891 | loss    0.340 | zero gradients percentage    0.992\n"
          ]
        },
        {
          "output_type": "stream",
          "name": "stderr",
          "text": [
            "852it [02:51,  5.03it/s]"
          ]
        },
        {
          "output_type": "stream",
          "name": "stdout",
          "text": [
            "| epoch   4 |   850/  891 batches | accuracy    0.895 | loss    0.309 | zero gradients percentage    0.992\n"
          ]
        },
        {
          "output_type": "stream",
          "name": "stderr",
          "text": [
            "862it [02:53,  5.03it/s]"
          ]
        },
        {
          "output_type": "stream",
          "name": "stdout",
          "text": [
            "| epoch   4 |   860/  891 batches | accuracy    0.869 | loss    0.396 | zero gradients percentage    0.992\n"
          ]
        },
        {
          "output_type": "stream",
          "name": "stderr",
          "text": [
            "872it [02:55,  5.12it/s]"
          ]
        },
        {
          "output_type": "stream",
          "name": "stdout",
          "text": [
            "| epoch   4 |   870/  891 batches | accuracy    0.870 | loss    0.353 | zero gradients percentage    0.992\n"
          ]
        },
        {
          "output_type": "stream",
          "name": "stderr",
          "text": [
            "881it [02:57,  5.46it/s]"
          ]
        },
        {
          "output_type": "stream",
          "name": "stdout",
          "text": [
            "| epoch   4 |   880/  891 batches | accuracy    0.878 | loss    0.372 | zero gradients percentage    0.992\n"
          ]
        },
        {
          "output_type": "stream",
          "name": "stderr",
          "text": [
            "891it [02:59,  4.96it/s]"
          ]
        },
        {
          "output_type": "stream",
          "name": "stdout",
          "text": [
            "| epoch   4 |   890/  891 batches | accuracy    0.859 | loss    0.390 | zero gradients percentage    0.992\n"
          ]
        },
        {
          "output_type": "stream",
          "name": "stderr",
          "text": [
            "\n"
          ]
        },
        {
          "output_type": "stream",
          "name": "stdout",
          "text": [
            "-----------------------------------------------------------\n",
            "| end of epoch   4 | time: 180.82s | valid accuracy    0.875 \n",
            "-----------------------------------------------------------\n"
          ]
        },
        {
          "output_type": "stream",
          "name": "stderr",
          "text": [
            "12it [00:02,  5.27it/s]"
          ]
        },
        {
          "output_type": "stream",
          "name": "stdout",
          "text": [
            "| epoch   5 |    10/  891 batches | accuracy    0.874 | loss    0.360 | zero gradients percentage    0.992\n"
          ]
        },
        {
          "output_type": "stream",
          "name": "stderr",
          "text": [
            "22it [00:04,  5.11it/s]"
          ]
        },
        {
          "output_type": "stream",
          "name": "stdout",
          "text": [
            "| epoch   5 |    20/  891 batches | accuracy    0.887 | loss    0.351 | zero gradients percentage    0.992\n"
          ]
        },
        {
          "output_type": "stream",
          "name": "stderr",
          "text": [
            "31it [00:06,  4.86it/s]"
          ]
        },
        {
          "output_type": "stream",
          "name": "stdout",
          "text": [
            "| epoch   5 |    30/  891 batches | accuracy    0.875 | loss    0.395 | zero gradients percentage    0.992\n"
          ]
        },
        {
          "output_type": "stream",
          "name": "stderr",
          "text": [
            "42it [00:08,  5.40it/s]"
          ]
        },
        {
          "output_type": "stream",
          "name": "stdout",
          "text": [
            "| epoch   5 |    40/  891 batches | accuracy    0.873 | loss    0.370 | zero gradients percentage    0.992\n"
          ]
        },
        {
          "output_type": "stream",
          "name": "stderr",
          "text": [
            "52it [00:10,  5.17it/s]"
          ]
        },
        {
          "output_type": "stream",
          "name": "stdout",
          "text": [
            "| epoch   5 |    50/  891 batches | accuracy    0.868 | loss    0.355 | zero gradients percentage    0.992\n"
          ]
        },
        {
          "output_type": "stream",
          "name": "stderr",
          "text": [
            "61it [00:12,  4.15it/s]"
          ]
        },
        {
          "output_type": "stream",
          "name": "stdout",
          "text": [
            "| epoch   5 |    60/  891 batches | accuracy    0.884 | loss    0.312 | zero gradients percentage    0.992\n"
          ]
        },
        {
          "output_type": "stream",
          "name": "stderr",
          "text": [
            "72it [00:14,  5.07it/s]"
          ]
        },
        {
          "output_type": "stream",
          "name": "stdout",
          "text": [
            "| epoch   5 |    70/  891 batches | accuracy    0.875 | loss    0.340 | zero gradients percentage    0.992\n"
          ]
        },
        {
          "output_type": "stream",
          "name": "stderr",
          "text": [
            "82it [00:16,  5.10it/s]"
          ]
        },
        {
          "output_type": "stream",
          "name": "stdout",
          "text": [
            "| epoch   5 |    80/  891 batches | accuracy    0.878 | loss    0.340 | zero gradients percentage    0.992\n"
          ]
        },
        {
          "output_type": "stream",
          "name": "stderr",
          "text": [
            "92it [00:18,  5.24it/s]"
          ]
        },
        {
          "output_type": "stream",
          "name": "stdout",
          "text": [
            "| epoch   5 |    90/  891 batches | accuracy    0.895 | loss    0.325 | zero gradients percentage    0.992\n"
          ]
        },
        {
          "output_type": "stream",
          "name": "stderr",
          "text": [
            "102it [00:20,  5.13it/s]"
          ]
        },
        {
          "output_type": "stream",
          "name": "stdout",
          "text": [
            "| epoch   5 |   100/  891 batches | accuracy    0.895 | loss    0.312 | zero gradients percentage    0.992\n"
          ]
        },
        {
          "output_type": "stream",
          "name": "stderr",
          "text": [
            "112it [00:22,  5.10it/s]"
          ]
        },
        {
          "output_type": "stream",
          "name": "stdout",
          "text": [
            "| epoch   5 |   110/  891 batches | accuracy    0.902 | loss    0.315 | zero gradients percentage    0.992\n"
          ]
        },
        {
          "output_type": "stream",
          "name": "stderr",
          "text": [
            "121it [00:24,  4.05it/s]"
          ]
        },
        {
          "output_type": "stream",
          "name": "stdout",
          "text": [
            "| epoch   5 |   120/  891 batches | accuracy    0.888 | loss    0.340 | zero gradients percentage    0.992\n"
          ]
        },
        {
          "output_type": "stream",
          "name": "stderr",
          "text": [
            "132it [00:27,  5.13it/s]"
          ]
        },
        {
          "output_type": "stream",
          "name": "stdout",
          "text": [
            "| epoch   5 |   130/  891 batches | accuracy    0.884 | loss    0.364 | zero gradients percentage    0.992\n"
          ]
        },
        {
          "output_type": "stream",
          "name": "stderr",
          "text": [
            "141it [00:28,  5.15it/s]"
          ]
        },
        {
          "output_type": "stream",
          "name": "stdout",
          "text": [
            "| epoch   5 |   140/  891 batches | accuracy    0.888 | loss    0.338 | zero gradients percentage    0.992\n"
          ]
        },
        {
          "output_type": "stream",
          "name": "stderr",
          "text": [
            "152it [00:30,  5.36it/s]"
          ]
        },
        {
          "output_type": "stream",
          "name": "stdout",
          "text": [
            "| epoch   5 |   150/  891 batches | accuracy    0.887 | loss    0.318 | zero gradients percentage    0.992\n"
          ]
        },
        {
          "output_type": "stream",
          "name": "stderr",
          "text": [
            "161it [00:32,  4.91it/s]"
          ]
        },
        {
          "output_type": "stream",
          "name": "stdout",
          "text": [
            "| epoch   5 |   160/  891 batches | accuracy    0.885 | loss    0.337 | zero gradients percentage    0.992\n"
          ]
        },
        {
          "output_type": "stream",
          "name": "stderr",
          "text": [
            "172it [00:34,  4.92it/s]"
          ]
        },
        {
          "output_type": "stream",
          "name": "stdout",
          "text": [
            "| epoch   5 |   170/  891 batches | accuracy    0.880 | loss    0.337 | zero gradients percentage    0.992\n"
          ]
        },
        {
          "output_type": "stream",
          "name": "stderr",
          "text": [
            "181it [00:36,  4.16it/s]"
          ]
        },
        {
          "output_type": "stream",
          "name": "stdout",
          "text": [
            "| epoch   5 |   180/  891 batches | accuracy    0.885 | loss    0.336 | zero gradients percentage    0.992\n"
          ]
        },
        {
          "output_type": "stream",
          "name": "stderr",
          "text": [
            "192it [00:39,  4.83it/s]"
          ]
        },
        {
          "output_type": "stream",
          "name": "stdout",
          "text": [
            "| epoch   5 |   190/  891 batches | accuracy    0.904 | loss    0.318 | zero gradients percentage    0.992\n"
          ]
        },
        {
          "output_type": "stream",
          "name": "stderr",
          "text": [
            "202it [00:41,  5.24it/s]"
          ]
        },
        {
          "output_type": "stream",
          "name": "stdout",
          "text": [
            "| epoch   5 |   200/  891 batches | accuracy    0.894 | loss    0.317 | zero gradients percentage    0.992\n"
          ]
        },
        {
          "output_type": "stream",
          "name": "stderr",
          "text": [
            "212it [00:43,  5.26it/s]"
          ]
        },
        {
          "output_type": "stream",
          "name": "stdout",
          "text": [
            "| epoch   5 |   210/  891 batches | accuracy    0.887 | loss    0.328 | zero gradients percentage    0.992\n"
          ]
        },
        {
          "output_type": "stream",
          "name": "stderr",
          "text": [
            "222it [00:45,  5.26it/s]"
          ]
        },
        {
          "output_type": "stream",
          "name": "stdout",
          "text": [
            "| epoch   5 |   220/  891 batches | accuracy    0.880 | loss    0.349 | zero gradients percentage    0.992\n"
          ]
        },
        {
          "output_type": "stream",
          "name": "stderr",
          "text": [
            "232it [00:47,  5.39it/s]"
          ]
        },
        {
          "output_type": "stream",
          "name": "stdout",
          "text": [
            "| epoch   5 |   230/  891 batches | accuracy    0.889 | loss    0.350 | zero gradients percentage    0.992\n"
          ]
        },
        {
          "output_type": "stream",
          "name": "stderr",
          "text": [
            "241it [00:49,  4.25it/s]"
          ]
        },
        {
          "output_type": "stream",
          "name": "stdout",
          "text": [
            "| epoch   5 |   240/  891 batches | accuracy    0.888 | loss    0.331 | zero gradients percentage    0.992\n"
          ]
        },
        {
          "output_type": "stream",
          "name": "stderr",
          "text": [
            "252it [00:51,  4.84it/s]"
          ]
        },
        {
          "output_type": "stream",
          "name": "stdout",
          "text": [
            "| epoch   5 |   250/  891 batches | accuracy    0.891 | loss    0.312 | zero gradients percentage    0.992\n"
          ]
        },
        {
          "output_type": "stream",
          "name": "stderr",
          "text": [
            "261it [00:53,  4.63it/s]"
          ]
        },
        {
          "output_type": "stream",
          "name": "stdout",
          "text": [
            "| epoch   5 |   260/  891 batches | accuracy    0.865 | loss    0.381 | zero gradients percentage    0.992\n"
          ]
        },
        {
          "output_type": "stream",
          "name": "stderr",
          "text": [
            "271it [00:55,  5.12it/s]"
          ]
        },
        {
          "output_type": "stream",
          "name": "stdout",
          "text": [
            "| epoch   5 |   270/  891 batches | accuracy    0.876 | loss    0.356 | zero gradients percentage    0.992\n"
          ]
        },
        {
          "output_type": "stream",
          "name": "stderr",
          "text": [
            "282it [00:57,  5.16it/s]"
          ]
        },
        {
          "output_type": "stream",
          "name": "stdout",
          "text": [
            "| epoch   5 |   280/  891 batches | accuracy    0.876 | loss    0.347 | zero gradients percentage    0.992\n"
          ]
        },
        {
          "output_type": "stream",
          "name": "stderr",
          "text": [
            "292it [00:59,  5.22it/s]"
          ]
        },
        {
          "output_type": "stream",
          "name": "stdout",
          "text": [
            "| epoch   5 |   290/  891 batches | accuracy    0.901 | loss    0.299 | zero gradients percentage    0.992\n"
          ]
        },
        {
          "output_type": "stream",
          "name": "stderr",
          "text": [
            "301it [01:01,  4.49it/s]"
          ]
        },
        {
          "output_type": "stream",
          "name": "stdout",
          "text": [
            "| epoch   5 |   300/  891 batches | accuracy    0.879 | loss    0.351 | zero gradients percentage    0.992\n"
          ]
        },
        {
          "output_type": "stream",
          "name": "stderr",
          "text": [
            "312it [01:03,  4.79it/s]"
          ]
        },
        {
          "output_type": "stream",
          "name": "stdout",
          "text": [
            "| epoch   5 |   310/  891 batches | accuracy    0.891 | loss    0.339 | zero gradients percentage    0.992\n"
          ]
        },
        {
          "output_type": "stream",
          "name": "stderr",
          "text": [
            "322it [01:05,  5.12it/s]"
          ]
        },
        {
          "output_type": "stream",
          "name": "stdout",
          "text": [
            "| epoch   5 |   320/  891 batches | accuracy    0.880 | loss    0.339 | zero gradients percentage    0.992\n"
          ]
        },
        {
          "output_type": "stream",
          "name": "stderr",
          "text": [
            "332it [01:07,  5.24it/s]"
          ]
        },
        {
          "output_type": "stream",
          "name": "stdout",
          "text": [
            "| epoch   5 |   330/  891 batches | accuracy    0.880 | loss    0.342 | zero gradients percentage    0.992\n"
          ]
        },
        {
          "output_type": "stream",
          "name": "stderr",
          "text": [
            "342it [01:09,  5.33it/s]"
          ]
        },
        {
          "output_type": "stream",
          "name": "stdout",
          "text": [
            "| epoch   5 |   340/  891 batches | accuracy    0.888 | loss    0.333 | zero gradients percentage    0.992\n"
          ]
        },
        {
          "output_type": "stream",
          "name": "stderr",
          "text": [
            "351it [01:11,  5.28it/s]"
          ]
        },
        {
          "output_type": "stream",
          "name": "stdout",
          "text": [
            "| epoch   5 |   350/  891 batches | accuracy    0.874 | loss    0.367 | zero gradients percentage    0.992\n"
          ]
        },
        {
          "output_type": "stream",
          "name": "stderr",
          "text": [
            "361it [01:13,  4.22it/s]"
          ]
        },
        {
          "output_type": "stream",
          "name": "stdout",
          "text": [
            "| epoch   5 |   360/  891 batches | accuracy    0.888 | loss    0.337 | zero gradients percentage    0.992\n"
          ]
        },
        {
          "output_type": "stream",
          "name": "stderr",
          "text": [
            "371it [01:15,  4.97it/s]"
          ]
        },
        {
          "output_type": "stream",
          "name": "stdout",
          "text": [
            "| epoch   5 |   370/  891 batches | accuracy    0.897 | loss    0.316 | zero gradients percentage    0.992\n"
          ]
        },
        {
          "output_type": "stream",
          "name": "stderr",
          "text": [
            "382it [01:18,  5.41it/s]"
          ]
        },
        {
          "output_type": "stream",
          "name": "stdout",
          "text": [
            "| epoch   5 |   380/  891 batches | accuracy    0.890 | loss    0.330 | zero gradients percentage    0.992\n"
          ]
        },
        {
          "output_type": "stream",
          "name": "stderr",
          "text": [
            "392it [01:19,  5.37it/s]"
          ]
        },
        {
          "output_type": "stream",
          "name": "stdout",
          "text": [
            "| epoch   5 |   390/  891 batches | accuracy    0.879 | loss    0.368 | zero gradients percentage    0.992\n"
          ]
        },
        {
          "output_type": "stream",
          "name": "stderr",
          "text": [
            "402it [01:21,  5.17it/s]"
          ]
        },
        {
          "output_type": "stream",
          "name": "stdout",
          "text": [
            "| epoch   5 |   400/  891 batches | accuracy    0.892 | loss    0.314 | zero gradients percentage    0.992\n"
          ]
        },
        {
          "output_type": "stream",
          "name": "stderr",
          "text": [
            "412it [01:23,  5.24it/s]"
          ]
        },
        {
          "output_type": "stream",
          "name": "stdout",
          "text": [
            "| epoch   5 |   410/  891 batches | accuracy    0.901 | loss    0.300 | zero gradients percentage    0.992\n"
          ]
        },
        {
          "output_type": "stream",
          "name": "stderr",
          "text": [
            "421it [01:25,  4.29it/s]"
          ]
        },
        {
          "output_type": "stream",
          "name": "stdout",
          "text": [
            "| epoch   5 |   420/  891 batches | accuracy    0.870 | loss    0.389 | zero gradients percentage    0.992\n"
          ]
        },
        {
          "output_type": "stream",
          "name": "stderr",
          "text": [
            "431it [01:28,  4.83it/s]"
          ]
        },
        {
          "output_type": "stream",
          "name": "stdout",
          "text": [
            "| epoch   5 |   430/  891 batches | accuracy    0.868 | loss    0.369 | zero gradients percentage    0.992\n"
          ]
        },
        {
          "output_type": "stream",
          "name": "stderr",
          "text": [
            "441it [01:30,  5.16it/s]"
          ]
        },
        {
          "output_type": "stream",
          "name": "stdout",
          "text": [
            "| epoch   5 |   440/  891 batches | accuracy    0.880 | loss    0.329 | zero gradients percentage    0.992\n"
          ]
        },
        {
          "output_type": "stream",
          "name": "stderr",
          "text": [
            "452it [01:32,  5.41it/s]"
          ]
        },
        {
          "output_type": "stream",
          "name": "stdout",
          "text": [
            "| epoch   5 |   450/  891 batches | accuracy    0.890 | loss    0.311 | zero gradients percentage    0.992\n"
          ]
        },
        {
          "output_type": "stream",
          "name": "stderr",
          "text": [
            "462it [01:34,  5.22it/s]"
          ]
        },
        {
          "output_type": "stream",
          "name": "stdout",
          "text": [
            "| epoch   5 |   460/  891 batches | accuracy    0.880 | loss    0.357 | zero gradients percentage    0.992\n"
          ]
        },
        {
          "output_type": "stream",
          "name": "stderr",
          "text": [
            "471it [01:35,  5.38it/s]"
          ]
        },
        {
          "output_type": "stream",
          "name": "stdout",
          "text": [
            "| epoch   5 |   470/  891 batches | accuracy    0.873 | loss    0.358 | zero gradients percentage    0.992\n"
          ]
        },
        {
          "output_type": "stream",
          "name": "stderr",
          "text": [
            "481it [01:37,  4.57it/s]"
          ]
        },
        {
          "output_type": "stream",
          "name": "stdout",
          "text": [
            "| epoch   5 |   480/  891 batches | accuracy    0.861 | loss    0.389 | zero gradients percentage    0.992\n"
          ]
        },
        {
          "output_type": "stream",
          "name": "stderr",
          "text": [
            "491it [01:40,  3.94it/s]"
          ]
        },
        {
          "output_type": "stream",
          "name": "stdout",
          "text": [
            "| epoch   5 |   490/  891 batches | accuracy    0.887 | loss    0.309 | zero gradients percentage    0.992\n"
          ]
        },
        {
          "output_type": "stream",
          "name": "stderr",
          "text": [
            "501it [01:42,  5.26it/s]"
          ]
        },
        {
          "output_type": "stream",
          "name": "stdout",
          "text": [
            "| epoch   5 |   500/  891 batches | accuracy    0.889 | loss    0.324 | zero gradients percentage    0.992\n"
          ]
        },
        {
          "output_type": "stream",
          "name": "stderr",
          "text": [
            "512it [01:44,  5.46it/s]"
          ]
        },
        {
          "output_type": "stream",
          "name": "stdout",
          "text": [
            "| epoch   5 |   510/  891 batches | accuracy    0.905 | loss    0.321 | zero gradients percentage    0.992\n"
          ]
        },
        {
          "output_type": "stream",
          "name": "stderr",
          "text": [
            "522it [01:46,  5.38it/s]"
          ]
        },
        {
          "output_type": "stream",
          "name": "stdout",
          "text": [
            "| epoch   5 |   520/  891 batches | accuracy    0.891 | loss    0.337 | zero gradients percentage    0.992\n"
          ]
        },
        {
          "output_type": "stream",
          "name": "stderr",
          "text": [
            "532it [01:48,  5.21it/s]"
          ]
        },
        {
          "output_type": "stream",
          "name": "stdout",
          "text": [
            "| epoch   5 |   530/  891 batches | accuracy    0.886 | loss    0.363 | zero gradients percentage    0.992\n"
          ]
        },
        {
          "output_type": "stream",
          "name": "stderr",
          "text": [
            "541it [01:49,  5.16it/s]"
          ]
        },
        {
          "output_type": "stream",
          "name": "stdout",
          "text": [
            "| epoch   5 |   540/  891 batches | accuracy    0.873 | loss    0.377 | zero gradients percentage    0.992\n"
          ]
        },
        {
          "output_type": "stream",
          "name": "stderr",
          "text": [
            "551it [01:52,  3.93it/s]"
          ]
        },
        {
          "output_type": "stream",
          "name": "stdout",
          "text": [
            "| epoch   5 |   550/  891 batches | accuracy    0.891 | loss    0.327 | zero gradients percentage    0.992\n"
          ]
        },
        {
          "output_type": "stream",
          "name": "stderr",
          "text": [
            "562it [01:54,  5.13it/s]"
          ]
        },
        {
          "output_type": "stream",
          "name": "stdout",
          "text": [
            "| epoch   5 |   560/  891 batches | accuracy    0.873 | loss    0.377 | zero gradients percentage    0.992\n"
          ]
        },
        {
          "output_type": "stream",
          "name": "stderr",
          "text": [
            "572it [01:56,  5.38it/s]"
          ]
        },
        {
          "output_type": "stream",
          "name": "stdout",
          "text": [
            "| epoch   5 |   570/  891 batches | accuracy    0.891 | loss    0.304 | zero gradients percentage    0.992\n"
          ]
        },
        {
          "output_type": "stream",
          "name": "stderr",
          "text": [
            "582it [01:58,  5.18it/s]"
          ]
        },
        {
          "output_type": "stream",
          "name": "stdout",
          "text": [
            "| epoch   5 |   580/  891 batches | accuracy    0.873 | loss    0.344 | zero gradients percentage    0.992\n"
          ]
        },
        {
          "output_type": "stream",
          "name": "stderr",
          "text": [
            "592it [02:00,  5.29it/s]"
          ]
        },
        {
          "output_type": "stream",
          "name": "stdout",
          "text": [
            "| epoch   5 |   590/  891 batches | accuracy    0.887 | loss    0.328 | zero gradients percentage    0.992\n"
          ]
        },
        {
          "output_type": "stream",
          "name": "stderr",
          "text": [
            "602it [02:02,  5.27it/s]"
          ]
        },
        {
          "output_type": "stream",
          "name": "stdout",
          "text": [
            "| epoch   5 |   600/  891 batches | accuracy    0.883 | loss    0.345 | zero gradients percentage    0.992\n"
          ]
        },
        {
          "output_type": "stream",
          "name": "stderr",
          "text": [
            "611it [02:05,  3.34it/s]"
          ]
        },
        {
          "output_type": "stream",
          "name": "stdout",
          "text": [
            "| epoch   5 |   610/  891 batches | accuracy    0.869 | loss    0.391 | zero gradients percentage    0.992\n"
          ]
        },
        {
          "output_type": "stream",
          "name": "stderr",
          "text": [
            "621it [02:07,  5.00it/s]"
          ]
        },
        {
          "output_type": "stream",
          "name": "stdout",
          "text": [
            "| epoch   5 |   620/  891 batches | accuracy    0.885 | loss    0.314 | zero gradients percentage    0.992\n"
          ]
        },
        {
          "output_type": "stream",
          "name": "stderr",
          "text": [
            "631it [02:09,  4.88it/s]"
          ]
        },
        {
          "output_type": "stream",
          "name": "stdout",
          "text": [
            "| epoch   5 |   630/  891 batches | accuracy    0.880 | loss    0.332 | zero gradients percentage    0.992\n"
          ]
        },
        {
          "output_type": "stream",
          "name": "stderr",
          "text": [
            "641it [02:10,  5.13it/s]"
          ]
        },
        {
          "output_type": "stream",
          "name": "stdout",
          "text": [
            "| epoch   5 |   640/  891 batches | accuracy    0.885 | loss    0.350 | zero gradients percentage    0.992\n"
          ]
        },
        {
          "output_type": "stream",
          "name": "stderr",
          "text": [
            "652it [02:13,  5.24it/s]"
          ]
        },
        {
          "output_type": "stream",
          "name": "stdout",
          "text": [
            "| epoch   5 |   650/  891 batches | accuracy    0.872 | loss    0.351 | zero gradients percentage    0.992\n"
          ]
        },
        {
          "output_type": "stream",
          "name": "stderr",
          "text": [
            "661it [02:15,  4.99it/s]"
          ]
        },
        {
          "output_type": "stream",
          "name": "stdout",
          "text": [
            "| epoch   5 |   660/  891 batches | accuracy    0.896 | loss    0.307 | zero gradients percentage    0.992\n"
          ]
        },
        {
          "output_type": "stream",
          "name": "stderr",
          "text": [
            "672it [02:17,  4.14it/s]"
          ]
        },
        {
          "output_type": "stream",
          "name": "stdout",
          "text": [
            "| epoch   5 |   670/  891 batches | accuracy    0.873 | loss    0.380 | zero gradients percentage    0.992\n"
          ]
        },
        {
          "output_type": "stream",
          "name": "stderr",
          "text": [
            "682it [02:19,  5.27it/s]"
          ]
        },
        {
          "output_type": "stream",
          "name": "stdout",
          "text": [
            "| epoch   5 |   680/  891 batches | accuracy    0.876 | loss    0.344 | zero gradients percentage    0.992\n"
          ]
        },
        {
          "output_type": "stream",
          "name": "stderr",
          "text": [
            "691it [02:21,  5.26it/s]"
          ]
        },
        {
          "output_type": "stream",
          "name": "stdout",
          "text": [
            "| epoch   5 |   690/  891 batches | accuracy    0.871 | loss    0.377 | zero gradients percentage    0.992\n"
          ]
        },
        {
          "output_type": "stream",
          "name": "stderr",
          "text": [
            "701it [02:23,  5.10it/s]"
          ]
        },
        {
          "output_type": "stream",
          "name": "stdout",
          "text": [
            "| epoch   5 |   700/  891 batches | accuracy    0.896 | loss    0.299 | zero gradients percentage    0.992\n"
          ]
        },
        {
          "output_type": "stream",
          "name": "stderr",
          "text": [
            "711it [02:25,  4.85it/s]"
          ]
        },
        {
          "output_type": "stream",
          "name": "stdout",
          "text": [
            "| epoch   5 |   710/  891 batches | accuracy    0.882 | loss    0.339 | zero gradients percentage    0.992\n"
          ]
        },
        {
          "output_type": "stream",
          "name": "stderr",
          "text": [
            "722it [02:27,  5.04it/s]"
          ]
        },
        {
          "output_type": "stream",
          "name": "stdout",
          "text": [
            "| epoch   5 |   720/  891 batches | accuracy    0.877 | loss    0.363 | zero gradients percentage    0.992\n"
          ]
        },
        {
          "output_type": "stream",
          "name": "stderr",
          "text": [
            "731it [02:30,  3.88it/s]"
          ]
        },
        {
          "output_type": "stream",
          "name": "stdout",
          "text": [
            "| epoch   5 |   730/  891 batches | accuracy    0.870 | loss    0.358 | zero gradients percentage    0.992\n"
          ]
        },
        {
          "output_type": "stream",
          "name": "stderr",
          "text": [
            "742it [02:32,  5.19it/s]"
          ]
        },
        {
          "output_type": "stream",
          "name": "stdout",
          "text": [
            "| epoch   5 |   740/  891 batches | accuracy    0.887 | loss    0.321 | zero gradients percentage    0.992\n"
          ]
        },
        {
          "output_type": "stream",
          "name": "stderr",
          "text": [
            "752it [02:34,  5.35it/s]"
          ]
        },
        {
          "output_type": "stream",
          "name": "stdout",
          "text": [
            "| epoch   5 |   750/  891 batches | accuracy    0.889 | loss    0.332 | zero gradients percentage    0.992\n"
          ]
        },
        {
          "output_type": "stream",
          "name": "stderr",
          "text": [
            "761it [02:35,  4.78it/s]"
          ]
        },
        {
          "output_type": "stream",
          "name": "stdout",
          "text": [
            "| epoch   5 |   760/  891 batches | accuracy    0.898 | loss    0.310 | zero gradients percentage    0.992\n"
          ]
        },
        {
          "output_type": "stream",
          "name": "stderr",
          "text": [
            "772it [02:38,  5.42it/s]"
          ]
        },
        {
          "output_type": "stream",
          "name": "stdout",
          "text": [
            "| epoch   5 |   770/  891 batches | accuracy    0.891 | loss    0.345 | zero gradients percentage    0.992\n"
          ]
        },
        {
          "output_type": "stream",
          "name": "stderr",
          "text": [
            "781it [02:39,  5.27it/s]"
          ]
        },
        {
          "output_type": "stream",
          "name": "stdout",
          "text": [
            "| epoch   5 |   780/  891 batches | accuracy    0.877 | loss    0.365 | zero gradients percentage    0.992\n"
          ]
        },
        {
          "output_type": "stream",
          "name": "stderr",
          "text": [
            "792it [02:42,  4.37it/s]"
          ]
        },
        {
          "output_type": "stream",
          "name": "stdout",
          "text": [
            "| epoch   5 |   790/  891 batches | accuracy    0.880 | loss    0.331 | zero gradients percentage    0.992\n"
          ]
        },
        {
          "output_type": "stream",
          "name": "stderr",
          "text": [
            "802it [02:44,  5.20it/s]"
          ]
        },
        {
          "output_type": "stream",
          "name": "stdout",
          "text": [
            "| epoch   5 |   800/  891 batches | accuracy    0.883 | loss    0.330 | zero gradients percentage    0.992\n"
          ]
        },
        {
          "output_type": "stream",
          "name": "stderr",
          "text": [
            "812it [02:46,  5.27it/s]"
          ]
        },
        {
          "output_type": "stream",
          "name": "stdout",
          "text": [
            "| epoch   5 |   810/  891 batches | accuracy    0.892 | loss    0.315 | zero gradients percentage    0.992\n"
          ]
        },
        {
          "output_type": "stream",
          "name": "stderr",
          "text": [
            "822it [02:48,  5.05it/s]"
          ]
        },
        {
          "output_type": "stream",
          "name": "stdout",
          "text": [
            "| epoch   5 |   820/  891 batches | accuracy    0.880 | loss    0.366 | zero gradients percentage    0.992\n"
          ]
        },
        {
          "output_type": "stream",
          "name": "stderr",
          "text": [
            "832it [02:50,  5.25it/s]"
          ]
        },
        {
          "output_type": "stream",
          "name": "stdout",
          "text": [
            "| epoch   5 |   830/  891 batches | accuracy    0.895 | loss    0.320 | zero gradients percentage    0.992\n"
          ]
        },
        {
          "output_type": "stream",
          "name": "stderr",
          "text": [
            "841it [02:52,  5.24it/s]"
          ]
        },
        {
          "output_type": "stream",
          "name": "stdout",
          "text": [
            "| epoch   5 |   840/  891 batches | accuracy    0.877 | loss    0.360 | zero gradients percentage    0.992\n"
          ]
        },
        {
          "output_type": "stream",
          "name": "stderr",
          "text": [
            "851it [02:54,  3.97it/s]"
          ]
        },
        {
          "output_type": "stream",
          "name": "stdout",
          "text": [
            "| epoch   5 |   850/  891 batches | accuracy    0.877 | loss    0.372 | zero gradients percentage    0.992\n"
          ]
        },
        {
          "output_type": "stream",
          "name": "stderr",
          "text": [
            "862it [02:56,  5.24it/s]"
          ]
        },
        {
          "output_type": "stream",
          "name": "stdout",
          "text": [
            "| epoch   5 |   860/  891 batches | accuracy    0.880 | loss    0.338 | zero gradients percentage    0.992\n"
          ]
        },
        {
          "output_type": "stream",
          "name": "stderr",
          "text": [
            "872it [02:58,  4.66it/s]"
          ]
        },
        {
          "output_type": "stream",
          "name": "stdout",
          "text": [
            "| epoch   5 |   870/  891 batches | accuracy    0.884 | loss    0.344 | zero gradients percentage    0.992\n"
          ]
        },
        {
          "output_type": "stream",
          "name": "stderr",
          "text": [
            "881it [03:00,  4.90it/s]"
          ]
        },
        {
          "output_type": "stream",
          "name": "stdout",
          "text": [
            "| epoch   5 |   880/  891 batches | accuracy    0.896 | loss    0.327 | zero gradients percentage    0.992\n"
          ]
        },
        {
          "output_type": "stream",
          "name": "stderr",
          "text": [
            "891it [03:02,  4.88it/s]\n"
          ]
        },
        {
          "output_type": "stream",
          "name": "stdout",
          "text": [
            "| epoch   5 |   890/  891 batches | accuracy    0.886 | loss    0.365 | zero gradients percentage    0.992\n",
            "-----------------------------------------------------------\n",
            "| end of epoch   5 | time: 183.78s | valid accuracy    0.875 \n",
            "-----------------------------------------------------------\n",
            "Checking the results of test dataset.\n",
            "test accuracy    0.871\n",
            "test loss    0.003\n"
          ]
        }
      ],
      "source": [
        "for epoch in range(1, NUM_EPOCHS + 1):\n",
        "    epoch_start_time = time.time()\n",
        "    train(train_dataloader, model, optimizer, criterion, epoch)\n",
        "    accu_val, loss_val = evaluate(valid_dataloader, model, criterion)\n",
        "    scheduler.step()\n",
        "    print(\"-\" * 59)\n",
        "    print(\n",
        "        \"| end of epoch {:3d} | time: {:5.2f}s | \"\n",
        "        \"valid accuracy {:8.3f} \".format(\n",
        "            epoch,\n",
        "            time.time() - epoch_start_time,\n",
        "            accu_val,\n",
        "            loss_val\n",
        "            )\n",
        "    )\n",
        "    print(\"-\" * 59)\n",
        "\n",
        "print(\"Checking the results of test dataset.\")\n",
        "accu_test, loss_test = evaluate(test_dataloader, model, criterion)\n",
        "print(\"test accuracy {:8.3f}\".format(accu_test))\n",
        "print(\"test loss {:8.3f}\".format(loss_test))"
      ],
      "id": "a9e02c09"
    },
    {
      "cell_type": "code",
      "execution_count": 22,
      "metadata": {
        "id": "7O2cMXiXBpse"
      },
      "outputs": [],
      "source": [],
      "id": "7O2cMXiXBpse"
    }
  ],
  "metadata": {
    "accelerator": "GPU",
    "colab": {
      "machine_shape": "hm",
      "provenance": [],
      "gpuType": "V100"
    },
    "kernelspec": {
      "display_name": "Python 3",
      "name": "python3"
    },
    "language_info": {
      "codemirror_mode": {
        "name": "ipython",
        "version": 3
      },
      "file_extension": ".py",
      "mimetype": "text/x-python",
      "name": "python",
      "nbconvert_exporter": "python",
      "pygments_lexer": "ipython3",
      "version": "3.8.15"
    }
  },
  "nbformat": 4,
  "nbformat_minor": 5
}