{
  "cells": [
    {
      "cell_type": "code",
      "execution_count": 103,
      "id": "0abae0e4",
      "metadata": {
        "id": "0abae0e4"
      },
      "outputs": [],
      "source": [
        "from __future__ import unicode_literals, print_function, division\n",
        "from io import open\n",
        "import unicodedata\n",
        "import string\n",
        "import re\n",
        "import random\n",
        "\n",
        "import torch\n",
        "import torch.nn as nn\n",
        "from torch import optim\n",
        "import torch.nn.functional as F\n",
        "\n",
        "# Change to MPS logic if on mac\n",
        "device = torch.device(\"cuda\" if torch.cuda.is_available() else \"cpu\")"
      ]
    },
    {
      "cell_type": "code",
      "source": [
        "# Put the data in your Google Drive\n",
        "# You ca get the data here: https://www.kaggle.com/competitions/titanic/data\n",
        "from google.colab import drive\n",
        "drive.mount('/content/drive')"
      ],
      "metadata": {
        "id": "MjLsWwFfB5Yx",
        "colab": {
          "base_uri": "https://localhost:8080/"
        },
        "outputId": "e61df6d5-6813-4cea-e01f-452c355d2e13"
      },
      "id": "MjLsWwFfB5Yx",
      "execution_count": 104,
      "outputs": [
        {
          "output_type": "stream",
          "name": "stdout",
          "text": [
            "Drive already mounted at /content/drive; to attempt to forcibly remount, call drive.mount(\"/content/drive\", force_remount=True).\n"
          ]
        }
      ]
    },
    {
      "cell_type": "markdown",
      "id": "15cd0d19",
      "metadata": {
        "id": "15cd0d19"
      },
      "source": [
        "For this notebook, use the hints to fill in the missing code."
      ]
    },
    {
      "cell_type": "code",
      "execution_count": 105,
      "id": "ca4546b6",
      "metadata": {
        "id": "ca4546b6"
      },
      "outputs": [],
      "source": [
        "\n",
        "FILL_IN = \"FILL IN\""
      ]
    },
    {
      "cell_type": "code",
      "execution_count": 106,
      "id": "76eb1756",
      "metadata": {
        "id": "76eb1756"
      },
      "outputs": [],
      "source": [
        "SOS_token = 0\n",
        "EOS_token = 1\n",
        "\n",
        "class Lang:\n",
        "    def __init__(self, name):\n",
        "        self.name = name\n",
        "        self.word2index = {}\n",
        "        self.word2count = {}\n",
        "        self.index2word = {0: \"SOS\", 1: \"EOS\"}\n",
        "        self.n_words = 2  # Count SOS and EOS\n",
        "\n",
        "    def addSentence(self, sentence):\n",
        "        for word in sentence.split(' '):\n",
        "            self.addWord(word)\n",
        "\n",
        "    def addWord(self, word):\n",
        "        if word not in self.word2index:\n",
        "            self.word2index[word] = self.n_words\n",
        "            self.word2count[word] = 1\n",
        "            self.index2word[self.n_words] = word\n",
        "            self.n_words += 1\n",
        "        else:\n",
        "            self.word2count[word] += 1"
      ]
    },
    {
      "cell_type": "code",
      "execution_count": 107,
      "id": "2771ae34",
      "metadata": {
        "id": "2771ae34"
      },
      "outputs": [],
      "source": [
        "# Turn a Unicode string to plain ASCII, thanks to\n",
        "# https://stackoverflow.com/a/518232/2809427\n",
        "def unicodeToAscii(s):\n",
        "    return ''.join(\n",
        "        c for c in unicodedata.normalize('NFD', s)\n",
        "        if unicodedata.category(c) != 'Mn'\n",
        "    )\n",
        "\n",
        "# Lowercase, trim, and remove non-letter characters\n",
        "\n",
        "def normalizeString(s):\n",
        "    s = unicodeToAscii(s.lower().strip())\n",
        "    s = re.sub(r\"([.!?])\", r\" \\1\", s)\n",
        "    s = re.sub(r\"[^a-zA-Z.!?]+\", r\" \", s)\n",
        "    return s"
      ]
    },
    {
      "cell_type": "code",
      "execution_count": 108,
      "id": "a64a592d",
      "metadata": {
        "id": "a64a592d"
      },
      "outputs": [],
      "source": [
        "def readLangs(lang1, lang2, reverse=False):\n",
        "    print(\"Reading lines...\")\n",
        "\n",
        "    # Read the file and split into lines\n",
        "    lines = open('/content/drive/MyDrive/%s-%s.txt' % (lang1, lang2), encoding='utf-8').\\\n",
        "        read().strip().split('\\n')\n",
        "\n",
        "    # Split every line into pairs and normalize\n",
        "    pairs = [[normalizeString(s) for s in l.split('\\t')] for l in lines]\n",
        "\n",
        "    # Reverse pairs, make Lang instances\n",
        "    if reverse:\n",
        "        pairs = [list(reversed(p)) for p in pairs]\n",
        "        input_lang = Lang(lang2)\n",
        "        output_lang = Lang(lang1)\n",
        "    else:\n",
        "        input_lang = Lang(lang1)\n",
        "        output_lang = Lang(lang2)\n",
        "\n",
        "    return input_lang, output_lang, pairs"
      ]
    },
    {
      "cell_type": "code",
      "execution_count": 109,
      "id": "247eaa96",
      "metadata": {
        "id": "247eaa96"
      },
      "outputs": [],
      "source": [
        "MAX_LENGTH = 10\n",
        "\n",
        "# We'll just read in data with these prefixes so we have easier data to deal with\n",
        "# These are \"target\" prefixes\n",
        "eng_prefixes = (\n",
        "    \"i am \", \"i m \",\n",
        "    \"he is\", \"he s \",\n",
        "    \"she is\", \"she s \",\n",
        "    \"you are\", \"you re \",\n",
        "    \"we are\", \"we re \",\n",
        "    \"they are\", \"they re \"\n",
        ")\n",
        "\n",
        "# Only use pairs where the english data (pair[1]) has the prefix above\n",
        "# Also, only consider data where pair[0] and pair[1] have length less than MAX_LENGTH\n",
        "# Split on space first here also as MAX_LENGTH means the number of tokens (words), not number of chars\n",
        "def filterPair(p):\n",
        "        return (\n",
        "        len(p[0].split(' ')) < MAX_LENGTH and\n",
        "        len(p[1].split(' ')) < MAX_LENGTH and\n",
        "        p[1].startswith(eng_prefixes)\n",
        "    )\n",
        "\n",
        "def filterPairs(pairs):\n",
        "    return [pair for pair in pairs if filterPair(pair)]"
      ]
    },
    {
      "cell_type": "code",
      "execution_count": 110,
      "id": "a347c50b",
      "metadata": {
        "id": "a347c50b",
        "outputId": "9335a859-d01f-43d0-e11d-82d56bdfd9c9",
        "colab": {
          "base_uri": "https://localhost:8080/"
        }
      },
      "outputs": [
        {
          "output_type": "stream",
          "name": "stdout",
          "text": [
            "Reading lines...\n",
            "Read 135842 sentence pairs\n",
            "Trimmed to 10599 sentence pairs\n",
            "Counting words...\n",
            "Counted words:\n",
            "fra 4345\n",
            "eng 2803\n",
            "['elle vit actuellement a l etranger .', 'she is living abroad .']\n"
          ]
        }
      ],
      "source": [
        "def prepareData(lang1, lang2, reverse=False):\n",
        "    input_lang, output_lang, pairs = readLangs(lang1, lang2, reverse)\n",
        "    print(\"Read %s sentence pairs\" % len(pairs))\n",
        "    pairs = filterPairs(pairs)\n",
        "    print(\"Trimmed to %s sentence pairs\" % len(pairs))\n",
        "    print(\"Counting words...\")\n",
        "    for pair in pairs:\n",
        "        input_lang.addSentence(pair[0])\n",
        "        output_lang.addSentence(pair[1])\n",
        "    print(\"Counted words:\")\n",
        "    print(input_lang.name, input_lang.n_words)\n",
        "    print(output_lang.name, output_lang.n_words)\n",
        "    return input_lang, output_lang, pairs\n",
        "\n",
        "\n",
        "input_lang, output_lang, pairs = prepareData('eng', 'fra', True)\n",
        "print(random.choice(pairs))"
      ]
    },
    {
      "cell_type": "code",
      "execution_count": 111,
      "id": "138cf5e5",
      "metadata": {
        "id": "138cf5e5"
      },
      "outputs": [],
      "source": [
        "class EncoderRNN(nn.Module):\n",
        "    def __init__(self, input_size, hidden_size):\n",
        "        super(EncoderRNN, self).__init__()\n",
        "        self.hidden_size = hidden_size\n",
        "\n",
        "        # Initialize the embedding and lstm; use batch_first=True\n",
        "        self.embedding = nn.Embedding(input_size, hidden_size)\n",
        "        self.lstm = nn.LSTM(hidden_size, hidden_size, batch_first=True)\n",
        "\n",
        "    def forward(self, input, hidden_cell):\n",
        "        # Get the embeddings and reshape to be (1, 1, -1)\n",
        "        # Why? remember we use batch size = 1 in this HW for simplicity\n",
        "        embedded = self.embedding(input).view(1, 1, -1)\n",
        "        output = embedded\n",
        "        # Push through the lstm\n",
        "        output, hidden_cell = self.lstm(output, hidden_cell)\n",
        "        return output, hidden_cell\n",
        "\n",
        "    def initHidden(self):\n",
        "        return torch.zeros(1, 1, self.hidden_size, device=device)"
      ]
    },
    {
      "cell_type": "code",
      "execution_count": 112,
      "id": "c1d6ee6c",
      "metadata": {
        "id": "c1d6ee6c"
      },
      "outputs": [],
      "source": [
        "class DecoderRNN(nn.Module):\n",
        "    def __init__(self, hidden_size, output_size):\n",
        "        super(DecoderRNN, self).__init__()\n",
        "        self.hidden_size = hidden_size\n",
        "\n",
        "        # Initialize the embedding\n",
        "        self.embedding = nn.Embedding(output_size, hidden_size)\n",
        "        # Initialize an LSTM with yt and kt dimensions hidden_size\n",
        "        # Use batch_first=True\n",
        "        self.lstm = nn.LSTM(hidden_size, hidden_size, batch_first=True)\n",
        "        # Initialize a Linear layer going to the appropriate vocabulary size\n",
        "        self.out = nn.Linear(hidden_size, output_size)\n",
        "        # Optional: If you use NLLLoss, initialize LogSoftmax here\n",
        "        # What dimension?\n",
        "        self.softmax = nn.LogSoftmax(dim=1)\n",
        "\n",
        "    def forward(self, input, hidden_cell):\n",
        "        output = self.embedding(input).view(1, 1, -1)\n",
        "        # Push through relu\n",
        "        output = F.relu(output)\n",
        "        # Push output and hidden_cell tuple through the lstm\n",
        "        output, hidden_cell = self.lstm(output, hidden_cell)\n",
        "        # Apply LogSoftmax to output (?)\n",
        "        # Note you can leave this out if you wor with logits and CrossEntropyLoss\n",
        "        output = self.softmax(self.out(output[0]))\n",
        "        return output, hidden_cell\n",
        "\n",
        "    def initHidden(self):\n",
        "        # Used to initialize the hidden state (or cell state) to a tensor of dimension (1, 1, hidden_size)\n",
        "        # Just return a tensor here\n",
        "        return torch.zeros(1, 1, self.hidden_size, device=device)"
      ]
    },
    {
      "cell_type": "code",
      "execution_count": 113,
      "id": "bfaf0877",
      "metadata": {
        "id": "bfaf0877"
      },
      "outputs": [],
      "source": [
        "# Split a sentence by ' ' and return a list of the tokens (int ids) for each word\n",
        "# Use word2index\n",
        "def indexesFromSentence(lang, sentence):\n",
        "    return [lang.word2index[word] for word in sentence.split(' ')]\n",
        "\n",
        "# Call the above on a sentence\n",
        "# After calling, add the EOS_token (int id) to the gotten list\n",
        "# Return a tensor, but reshape it so it's dimensions (-1, 1)\n",
        "def tensorFromSentence(lang, sentence):\n",
        "    indexes = indexesFromSentence(lang, sentence)\n",
        "    indexes.append(EOS_token)\n",
        "    return torch.tensor(indexes, dtype=torch.long, device=device).view(-1, 1)\n",
        "\n",
        "# For a source, target pair, call the above. Return a tuple of 2 tensors, one input_tensor and another an output_tensor\n",
        "def tensorsFromPair(pair):\n",
        "    input_tensor = tensorFromSentence(input_lang, pair[0])\n",
        "    target_tensor = tensorFromSentence(output_lang, pair[1])\n",
        "    return (input_tensor, target_tensor)"
      ]
    },
    {
      "cell_type": "code",
      "execution_count": 114,
      "id": "c1d6a39b",
      "metadata": {
        "id": "c1d6a39b"
      },
      "outputs": [],
      "source": [
        "# For 50% of pairs, use teacher forcing so that we predict (y_1, y_2, ..., y_{T}) from (y_0, y_1, ..., y_{T-1}) on the decoder side\n",
        "# Without teacher forcing, we start with y_0 = SOS_token and then use \\hat{y}_1, the prediction at time step 0 as the input to time step 1 on the decoder side\n",
        "# For this case, we'll predict (\\hat{y}_1, \\hat{y}_2, ..., \\hat{y}_{T}) from (y_0, \\hat{y}_1, ..., \\hat{y}_{T-1}) on the decoder side\n",
        "# The crucial thing to realize here is that \\hat{y}_t is stochastic, and dependent on what the model predicts - mistakes propegate!\n",
        "teacher_forcing_ratio = 0.5\n",
        "\n",
        "def train(\n",
        "    input_tensor,\n",
        "    target_tensor,\n",
        "    encoder,\n",
        "    decoder,\n",
        "    encoder_optimizer,\n",
        "    decoder_optimizer,\n",
        "    criterion,\n",
        "    max_length=MAX_LENGTH\n",
        "):\n",
        "    # Initialize the hidden and cell states\n",
        "    encoder_hidden = encoder.initHidden()\n",
        "    encoder_cell = torch.zeros_like(encoder_hidden)  # Assuming LSTM for encoder\n",
        "\n",
        "\n",
        "    # Reset the optimizer gradients to 0\n",
        "    encoder_optimizer.zero_grad()\n",
        "    decoder_optimizer.zero_grad()\n",
        "\n",
        "    input_length = input_tensor.size(0)\n",
        "    target_length = target_tensor.size(0)\n",
        "\n",
        "    loss = 0\n",
        "\n",
        "    # Reverse the input here, see below\n",
        "    input_tensor = torch.flip(input_tensor, [0])\n",
        "\n",
        "    # If we want to predict [x, y, z] from [a, b, c], we should feed in [c, b, a] on the encoder side so that a is as close to x as possible\n",
        "    # The above trick was noted in making a big difference\n",
        "    for it in range(input_length):\n",
        "        encoder_output, (encoder_hidden, encoder_cell) = encoder(input_tensor[it], (encoder_hidden, encoder_cell))\n",
        "\n",
        "    # Initialize the decoder input to the SOS_token\n",
        "    decoder_input = torch.tensor([[SOS_token]], device=device)\n",
        "\n",
        "    # Initialize the hidden states of the decoder with the hidden states of the encoder\n",
        "    decoder_hidden = encoder_hidden\n",
        "    decoder_cell = encoder_cell  # Assuming LSTM for decoder\n",
        "\n",
        "    # For this pair, use teacher forcing with 50% probability, else don't\n",
        "    use_teacher_forcing = True if random.random() < teacher_forcing_ratio else False\n",
        "\n",
        "    target_length_used = 0\n",
        "\n",
        "    if use_teacher_forcing:\n",
        "        # Teacher forcing: Feed the target as the next input\n",
        "        target_length_used = target_length\n",
        "\n",
        "        for jt in range(target_length):\n",
        "            # Push decoder_input, decoder_hidden, and decoder_cell through the decoder\n",
        "            decoder_output, (decoder_hidden, decoder_cell) = decoder(decoder_input, (decoder_hidden, decoder_cell))\n",
        "            # Update the loss\n",
        "            loss += criterion(decoder_output, target_tensor[jt])\n",
        "            # Set the next decoder_input to the current y_t\n",
        "            decoder_input = target_tensor[jt]  # Teacher forcing\n",
        "\n",
        "    else:\n",
        "        # Without teacher forcing: use its own predictions as the next input\n",
        "        # Note that in this case we feed in at most target_length words\n",
        "        # If, however, we predict EOS_token, we break out\n",
        "        # You need to also carefully get the target lenght used since it might not be target_length\n",
        "        for jt in range(target_length):\n",
        "            # As before\n",
        "            decoder_output, (decoder_hidden, decoder_cell) = decoder(decoder_input, (decoder_hidden, decoder_cell))\n",
        "            # Get the top index, \\hat{y}_t; this will be the next decoder_input\n",
        "            topv, topi = decoder_output.topk(1)\n",
        "            decoder_input = topi.squeeze().detach()  # Detach from history as input\n",
        "\n",
        "            loss += criterion(decoder_output, target_tensor[jt])\n",
        "\n",
        "            # Update the target_length_used\n",
        "            target_length_used += 1\n",
        "\n",
        "            # If the EOS_token was generated, exit\n",
        "            if decoder_input.item() == EOS_token:\n",
        "                break\n",
        "\n",
        "    # Collect gradients\n",
        "    loss.backward()\n",
        "\n",
        "    # Do a step; do this both for the encoder and the decoder\n",
        "    encoder_optimizer.step()\n",
        "    decoder_optimizer.step()\n",
        "\n",
        "    # Return the loss for this pair. Note that you'll need to use target_length_used not target_length; why?\n",
        "    return loss.item() / target_length_used"
      ]
    },
    {
      "cell_type": "code",
      "execution_count": 114,
      "id": "047885f4",
      "metadata": {
        "id": "047885f4"
      },
      "outputs": [],
      "source": []
    },
    {
      "cell_type": "code",
      "execution_count": 115,
      "id": "5b0a1103",
      "metadata": {
        "id": "5b0a1103"
      },
      "outputs": [],
      "source": [
        "# Helper functions used to time the optimizations\n",
        "import time\n",
        "import math\n",
        "\n",
        "def asMinutes(s):\n",
        "    m = math.floor(s / 60)\n",
        "    s -= m * 60\n",
        "    return '%dm %ds' % (m, s)\n",
        "\n",
        "def timeSince(since, percent):\n",
        "    now = time.time()\n",
        "    s = now - since\n",
        "    es = s / (percent)\n",
        "    rs = es - s\n",
        "    return '%s (- %s)' % (asMinutes(s), asMinutes(rs))"
      ]
    },
    {
      "cell_type": "code",
      "execution_count": 115,
      "id": "e90656b5",
      "metadata": {
        "id": "e90656b5"
      },
      "outputs": [],
      "source": []
    },
    {
      "cell_type": "markdown",
      "id": "b9bd0eda",
      "metadata": {
        "id": "b9bd0eda"
      },
      "source": [
        "trainIters below does SGD (batch 1) on the data."
      ]
    },
    {
      "cell_type": "code",
      "execution_count": 116,
      "id": "8763fc7e",
      "metadata": {
        "id": "8763fc7e"
      },
      "outputs": [],
      "source": [
        "import matplotlib.pyplot as plt\n",
        "plt.switch_backend('agg')\n",
        "import matplotlib.ticker as ticker\n",
        "import numpy as np\n",
        "\n",
        "def showPlot(points):\n",
        "    plt.figure()\n",
        "    fig, ax = plt.subplots()\n",
        "    # this locator puts ticks at regular intervals\n",
        "    loc = ticker.MultipleLocator(base=0.2)\n",
        "    ax.yaxis.set_major_locator(loc)\n",
        "    plt.plot(points)\n",
        "\n",
        "def trainIters(\n",
        "    encoder,\n",
        "    decoder,\n",
        "    n_iters,\n",
        "    print_every=1000,\n",
        "    plot_every=100,\n",
        "    learning_rate=0.01\n",
        "):\n",
        "    start = time.time()\n",
        "    plot_losses = []\n",
        "    print_loss_total = 0  # Reset every print_every\n",
        "    plot_loss_total = 0  # Reset every plot_every\n",
        "\n",
        "    # Initialize the encoder and decoder optimizers with the above learning rate\n",
        "    encoder_optimizer = optim.Adam(encoder.parameters(), lr=learning_rate)\n",
        "    decoder_optimizer = optim.Adam(decoder.parameters(), lr=learning_rate)\n",
        "\n",
        "    # Get n_iters training pairs\n",
        "    # In this example, we are effectively doing SGD with batch size 1\n",
        "    training_pairs = [tensorsFromPair(random.choice(pairs)) for i in range(n_iters)]\n",
        "\n",
        "    # The loss; either NLLLoss if you use log sigmoids or CrossEntropyLoss if you use logits\n",
        "    criterion = nn.NLLLoss()\n",
        "\n",
        "    for it in range(1, n_iters + 1):\n",
        "        training_pair = training_pairs[it - 1]\n",
        "        input_tensor, target_tensor = training_pair\n",
        "\n",
        "        # Train on the input, target pair\n",
        "        loss = train(input_tensor, target_tensor, encoder, decoder, encoder_optimizer, decoder_optimizer, criterion)\n",
        "\n",
        "        # Update the total loss and the plot loss\n",
        "        # We can plot and print at different granularities\n",
        "        print_loss_total += loss\n",
        "        plot_loss_total += loss\n",
        "\n",
        "        if it % print_every == 0:\n",
        "            print_loss_avg = print_loss_total / print_every\n",
        "            print_loss_total = 0\n",
        "            print(\n",
        "                '%s (%d %d%%) %.4f' % (\n",
        "                    timeSince(start, it / n_iters),\n",
        "                    it, it / n_iters * 100, print_loss_avg)\n",
        "            )\n",
        "\n",
        "        if it % plot_every == 0:\n",
        "            plot_loss_avg = plot_loss_total / plot_every\n",
        "            plot_losses.append(plot_loss_avg)\n",
        "            plot_loss_total = 0\n",
        "\n",
        "            showPlot(plot_losses)"
      ]
    },
    {
      "cell_type": "markdown",
      "id": "c5aed258",
      "metadata": {
        "id": "c5aed258"
      },
      "source": [
        "Fill in the evaluation function using the hints below."
      ]
    },
    {
      "cell_type": "code",
      "execution_count": 117,
      "id": "d1990413",
      "metadata": {
        "id": "d1990413"
      },
      "outputs": [],
      "source": [
        "# For a certain input, get the predicted output sentence\n",
        "def evaluate(encoder, decoder, sentence, max_length=MAX_LENGTH):\n",
        "    with torch.no_grad():\n",
        "        # Transform the input sentence into a tensor\n",
        "        input_tensor = tensorFromSentence(input_lang, sentence)\n",
        "        input_length = input_tensor.size()[0]\n",
        "        # Initilize the hidden and cell states of the LSTM\n",
        "        encoder_hidden = encoder.initHidden()\n",
        "        encoder_cell = torch.zeros_like(encoder_hidden)\n",
        "\n",
        "        # Run the data through the LSTM word by word manually\n",
        "        # At each step, feed in the input, the hidden state, and the cell state and calture the new hidden / cell states\n",
        "        for it in range(input_length):\n",
        "            encoder_output, (encoder_hidden, encoder_cell) = encoder(input_tensor[it], (encoder_hidden, encoder_cell))\n",
        "\n",
        "        # Initialize the decoder input with the SOS token\n",
        "        # This is y_0\n",
        "        decoder_input = torch.tensor([[SOS_token]], device=device)  # SOS\n",
        "\n",
        "        # Initialize the decoder hidden and cell states with the final encoder hidden and cell states\n",
        "        decoder_hidden = encoder_hidden\n",
        "        decoder_cell = encoder_cell\n",
        "\n",
        "        decoded_words = []\n",
        "\n",
        "        for jt in range(max_length):\n",
        "            # As with the encoder run the \\hat{y}_{t-1}, hidden, and state cells through the decoder\n",
        "            # Capture the new hidden and cell states and the logits or log_softmax for the vocabulary\n",
        "            decoder_output, (decoder_hidden, decoder_cell) = decoder(decoder_input, (decoder_hidden, decoder_cell))\n",
        "            # Get the top y for the decoder, this will be the new \\hat{y}_t which we can use at the next step\n",
        "            topv, topi = decoder_output.data.topk(1)\n",
        "\n",
        "            # Put logic so that if we get topi == EOS_token, we add this and break\n",
        "            # Otherwise, we map the index topi to the word in output_lang via index2word\n",
        "            if topi.item() == EOS_token:\n",
        "                decoded_words.append('<EOS>')\n",
        "                break\n",
        "            else:\n",
        "                decoded_words.append(output_lang.index2word[topi.item()])\n",
        "\n",
        "\n",
        "            decoder_input = topi.squeeze().detach()\n",
        "\n",
        "        return decoded_words"
      ]
    },
    {
      "cell_type": "code",
      "execution_count": 117,
      "id": "eb66cef2",
      "metadata": {
        "id": "eb66cef2"
      },
      "outputs": [],
      "source": []
    },
    {
      "cell_type": "code",
      "execution_count": 118,
      "id": "d9467ede",
      "metadata": {
        "id": "d9467ede",
        "outputId": "5c8da6d6-bb4d-446a-8aeb-3d3de468ce7b",
        "colab": {
          "base_uri": "https://localhost:8080/"
        }
      },
      "outputs": [
        {
          "output_type": "stream",
          "name": "stdout",
          "text": [
            "1m 14s (- 17m 17s) (5000 6%) 3.8668\n",
            "2m 23s (- 15m 32s) (10000 13%) 4.0583\n",
            "3m 33s (- 14m 12s) (15000 20%) 4.0113\n",
            "4m 43s (- 13m 0s) (20000 26%) 3.9277\n",
            "5m 54s (- 11m 48s) (25000 33%) 4.2400\n",
            "7m 3s (- 10m 35s) (30000 40%) 4.1016\n",
            "8m 20s (- 9m 32s) (35000 46%) 4.1298\n",
            "9m 32s (- 8m 21s) (40000 53%) 4.2297\n",
            "10m 45s (- 7m 10s) (45000 60%) 4.1240\n",
            "11m 56s (- 5m 58s) (50000 66%) 4.2212\n",
            "13m 7s (- 4m 46s) (55000 73%) 4.3133\n",
            "14m 18s (- 3m 34s) (60000 80%) 4.1463\n",
            "15m 28s (- 2m 22s) (65000 86%) 4.1546\n",
            "16m 40s (- 1m 11s) (70000 93%) 4.2730\n",
            "17m 50s (- 0m 0s) (75000 100%) 4.2863\n"
          ]
        }
      ],
      "source": [
        "hidden_size = 256\n",
        "cell_size = 256\n",
        "# Initialize the encoder and decoder and run them through the trainIters function\n",
        "encoder = EncoderRNN(input_lang.n_words, hidden_size).to(device)\n",
        "decoder = DecoderRNN(hidden_size, output_lang.n_words).to(device)\n",
        "\n",
        "trainIters(encoder, decoder, 75000, print_every=5000)"
      ]
    },
    {
      "cell_type": "code",
      "execution_count": 118,
      "id": "c0596845",
      "metadata": {
        "id": "c0596845"
      },
      "outputs": [],
      "source": []
    },
    {
      "cell_type": "markdown",
      "id": "3456cd29",
      "metadata": {
        "id": "3456cd29"
      },
      "source": [
        "Here we will do an evaluation.\n",
        "Gather up n=7500 random pairs and for each pair get te BLEU score.\n",
        "For this exercise, don't use BLUE based on 4-grams, use just 2-grams (you need to figure out how to specify this in $sentence\\_bleu$ below).\n",
        "Investigate how this can be done with \"sentence_bleu\" in nltk - you can also find other implementations.\n",
        "Print the average BLEU score after you've randomly drawn the sentences. You should be a BLEU of about 10 or slightly more.\n",
        "Note that is is training BLEU, which is all I'd like you to get."
      ]
    },
    {
      "cell_type": "code",
      "execution_count": 119,
      "id": "3c2e1060",
      "metadata": {
        "id": "3c2e1060"
      },
      "outputs": [],
      "source": [
        "from nltk.translate.bleu_score import sentence_bleu\n",
        "\n",
        "def evaluateRandomly(encoder, decoder, n=7500, debug=False):\n",
        "    bleu_scores = []\n",
        "    for i in range(n):\n",
        "        # Randomly choose a pair of sentences\n",
        "        pair = random.choice(pairs)\n",
        "        if debug:\n",
        "            print('French Original: ', pair[0])\n",
        "            print('English Reference: ', pair[1])\n",
        "        # Leave out the <EOS> symbol\n",
        "        # Run the source French sentence through the encoder-decoder and get the output_words\n",
        "        output_words = evaluate(encoder, decoder, pair[0])\n",
        "\n",
        "        # If <EOS> is at the end of output_words, remove it\n",
        "        if output_words[-1] == '<EOS>':\n",
        "            output_words = output_words[:-1]\n",
        "\n",
        "        output_sentence = ' '.join(output_words)\n",
        "        # Get the BLEU score based on 1 and 2 grams (words, bigrams); use 50% weight on each\n",
        "        # Use pair[1] as the reference\n",
        "        reference = pair[1].split()\n",
        "        candidate = output_words\n",
        "        score = sentence_bleu([reference], candidate, weights=(0.5, 0.5))\n",
        "        # Append the BLEU score you got to the list of BLEU scores you keep\n",
        "        bleu_scores.append(score)\n",
        "        if debug:\n",
        "            print('Candidate Translation: ', output_sentence)\n",
        "            print('BLEU: ', score)\n",
        "            print('')\n",
        "    # Return the mean of the BLEU scores\n",
        "    mean_bleu_score = sum(bleu_scores) / len(bleu_scores)\n",
        "    print('The mean BLEU score is:', mean_bleu_score)"
      ]
    },
    {
      "cell_type": "code",
      "execution_count": 119,
      "id": "fed06094",
      "metadata": {
        "id": "fed06094"
      },
      "outputs": [],
      "source": []
    },
    {
      "cell_type": "code",
      "execution_count": 120,
      "id": "3277fc96",
      "metadata": {
        "id": "3277fc96",
        "colab": {
          "base_uri": "https://localhost:8080/"
        },
        "outputId": "71b0d8fa-7615-470f-ddd7-18a1d44a6b67"
      },
      "outputs": [
        {
          "output_type": "stream",
          "name": "stdout",
          "text": [
            "The mean BLEU score is: 0.051508939163869505\n"
          ]
        }
      ],
      "source": [
        "# BLEU > 10 % is expected here\n",
        "evaluateRandomly(encoder, decoder)"
      ]
    },
    {
      "cell_type": "code",
      "execution_count": null,
      "id": "6e4f81ab",
      "metadata": {
        "id": "6e4f81ab"
      },
      "outputs": [],
      "source": []
    }
  ],
  "metadata": {
    "kernelspec": {
      "display_name": "Python 3",
      "name": "python3"
    },
    "language_info": {
      "codemirror_mode": {
        "name": "ipython",
        "version": 3
      },
      "file_extension": ".py",
      "mimetype": "text/x-python",
      "name": "python",
      "nbconvert_exporter": "python",
      "pygments_lexer": "ipython3",
      "version": "3.8.15"
    },
    "colab": {
      "provenance": [],
      "gpuType": "T4"
    },
    "accelerator": "GPU"
  },
  "nbformat": 4,
  "nbformat_minor": 5
}